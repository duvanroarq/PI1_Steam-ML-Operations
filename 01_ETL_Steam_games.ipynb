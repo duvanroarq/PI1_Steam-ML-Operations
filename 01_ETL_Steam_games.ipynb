{
 "cells": [
  {
   "cell_type": "markdown",
   "metadata": {},
   "source": [
    "![ETL](src/PORT2.jpg)"
   ]
  },
  {
   "cell_type": "markdown",
   "metadata": {},
   "source": [
    "# **ETL del dataset:** *steam_games*"
   ]
  },
  {
   "cell_type": "markdown",
   "metadata": {},
   "source": [
    "#### **Importación de librerías** ####\n",
    "---\n",
    "\n",
    "*Para este cuaderno usaremos las siguientes librerías: **pandas, gzip, pyarrow y numpy**.*"
   ]
  },
  {
   "cell_type": "code",
   "execution_count": 1,
   "metadata": {},
   "outputs": [],
   "source": [
    "import pandas as pd\n",
    "import gzip\n",
    "import pyarrow as pa\n",
    "import pyarrow.parquet as pq\n",
    "import numpy as np"
   ]
  },
  {
   "cell_type": "markdown",
   "metadata": {},
   "source": [
    "#### **Extracción de los datos** ####\n",
    "---\n",
    "\n",
    "*Procedemos a abrir nuestro dataset y almacenarlo en un dataframe para visualizarlo y manejarlo en pandas.*\n",
    "\n",
    "1. *Usamos **with** para asegurar un correcto funcionamiento de la apertura y cierre del archivo.*\n",
    "2. *Usamos **gzip** para abrir archivos comprimidos en modo de lectura bin.*\n",
    "3. *Usamos el **.read_json**, metodo de pandas para leer archivos tipo json.*"
   ]
  },
  {
   "cell_type": "code",
   "execution_count": 2,
   "metadata": {},
   "outputs": [],
   "source": [
    "with gzip.open(\"datasets\\steam_games.json.gz\", \"rb\") as jsonFile:\n",
    "    dfSteam = pd.read_json(jsonFile, lines=True)"
   ]
  },
  {
   "cell_type": "markdown",
   "metadata": {},
   "source": [
    "### **Análisis Exploratorio Inicial** ###\n",
    "---\n",
    "\n",
    "*Vamos a realizar una **exploración de los datos** (EDA) antes de hacer transformación de los mismos, esto con el fin de **conocer las columnas** y determinar que campos son valiosos para nuestro análisis y así tener claro que pasos realizaremos en el ETL.*\n",
    "\n",
    "**Nota:**: *Posterior al ETL realizaremos también un [EDA](04_EDA.ipynb)\n",
    " enfocado en los datos y una descripción estadística.*"
   ]
  },
  {
   "cell_type": "markdown",
   "metadata": {},
   "source": [
    "#### **Revisión de la extracción de los datos** ####\n",
    "\n",
    "*Revisamos que los datos se cargaron adecuadamente en nuestro dataframe:*\n",
    "\n",
    "1. *Usamos **head** para previsualizar los primeros registros del Dataframe.*\n",
    "2. *Podemos observar que se cargaron adecuadamente los datos, pero vemos datos **None**.*"
   ]
  },
  {
   "cell_type": "code",
   "execution_count": 3,
   "metadata": {},
   "outputs": [
    {
     "data": {
      "text/html": [
       "<div>\n",
       "<style scoped>\n",
       "    .dataframe tbody tr th:only-of-type {\n",
       "        vertical-align: middle;\n",
       "    }\n",
       "\n",
       "    .dataframe tbody tr th {\n",
       "        vertical-align: top;\n",
       "    }\n",
       "\n",
       "    .dataframe thead th {\n",
       "        text-align: right;\n",
       "    }\n",
       "</style>\n",
       "<table border=\"1\" class=\"dataframe\">\n",
       "  <thead>\n",
       "    <tr style=\"text-align: right;\">\n",
       "      <th></th>\n",
       "      <th>publisher</th>\n",
       "      <th>genres</th>\n",
       "      <th>app_name</th>\n",
       "      <th>title</th>\n",
       "      <th>url</th>\n",
       "      <th>release_date</th>\n",
       "      <th>tags</th>\n",
       "      <th>reviews_url</th>\n",
       "      <th>specs</th>\n",
       "      <th>price</th>\n",
       "      <th>early_access</th>\n",
       "      <th>id</th>\n",
       "      <th>developer</th>\n",
       "    </tr>\n",
       "  </thead>\n",
       "  <tbody>\n",
       "    <tr>\n",
       "      <th>0</th>\n",
       "      <td>None</td>\n",
       "      <td>None</td>\n",
       "      <td>None</td>\n",
       "      <td>None</td>\n",
       "      <td>None</td>\n",
       "      <td>None</td>\n",
       "      <td>None</td>\n",
       "      <td>None</td>\n",
       "      <td>None</td>\n",
       "      <td>None</td>\n",
       "      <td>NaN</td>\n",
       "      <td>NaN</td>\n",
       "      <td>None</td>\n",
       "    </tr>\n",
       "    <tr>\n",
       "      <th>1</th>\n",
       "      <td>None</td>\n",
       "      <td>None</td>\n",
       "      <td>None</td>\n",
       "      <td>None</td>\n",
       "      <td>None</td>\n",
       "      <td>None</td>\n",
       "      <td>None</td>\n",
       "      <td>None</td>\n",
       "      <td>None</td>\n",
       "      <td>None</td>\n",
       "      <td>NaN</td>\n",
       "      <td>NaN</td>\n",
       "      <td>None</td>\n",
       "    </tr>\n",
       "    <tr>\n",
       "      <th>2</th>\n",
       "      <td>None</td>\n",
       "      <td>None</td>\n",
       "      <td>None</td>\n",
       "      <td>None</td>\n",
       "      <td>None</td>\n",
       "      <td>None</td>\n",
       "      <td>None</td>\n",
       "      <td>None</td>\n",
       "      <td>None</td>\n",
       "      <td>None</td>\n",
       "      <td>NaN</td>\n",
       "      <td>NaN</td>\n",
       "      <td>None</td>\n",
       "    </tr>\n",
       "  </tbody>\n",
       "</table>\n",
       "</div>"
      ],
      "text/plain": [
       "  publisher genres app_name title   url release_date  tags reviews_url specs  \\\n",
       "0      None   None     None  None  None         None  None        None  None   \n",
       "1      None   None     None  None  None         None  None        None  None   \n",
       "2      None   None     None  None  None         None  None        None  None   \n",
       "\n",
       "  price  early_access  id developer  \n",
       "0  None           NaN NaN      None  \n",
       "1  None           NaN NaN      None  \n",
       "2  None           NaN NaN      None  "
      ]
     },
     "execution_count": 3,
     "metadata": {},
     "output_type": "execute_result"
    }
   ],
   "source": [
    "dfSteam.head(3)"
   ]
  },
  {
   "cell_type": "markdown",
   "metadata": {},
   "source": [
    "*Revisemos si este patrón se repite en todos los datos:*\n",
    "\n",
    "1. *Usamos **tail** para previsualizar los últimos registros del Dataframe.*\n",
    "2. *Observamos que los últimos registros del Dataframe si tienen **datos \"válidos\"**.*\n",
    "3. *A vista general podemos observar que en nuestro Dataframe existen **datos nulos**, pero esto lo revisaremos más adelante.*"
   ]
  },
  {
   "cell_type": "code",
   "execution_count": 4,
   "metadata": {},
   "outputs": [
    {
     "data": {
      "text/html": [
       "<div>\n",
       "<style scoped>\n",
       "    .dataframe tbody tr th:only-of-type {\n",
       "        vertical-align: middle;\n",
       "    }\n",
       "\n",
       "    .dataframe tbody tr th {\n",
       "        vertical-align: top;\n",
       "    }\n",
       "\n",
       "    .dataframe thead th {\n",
       "        text-align: right;\n",
       "    }\n",
       "</style>\n",
       "<table border=\"1\" class=\"dataframe\">\n",
       "  <thead>\n",
       "    <tr style=\"text-align: right;\">\n",
       "      <th></th>\n",
       "      <th>publisher</th>\n",
       "      <th>genres</th>\n",
       "      <th>app_name</th>\n",
       "      <th>title</th>\n",
       "      <th>url</th>\n",
       "      <th>release_date</th>\n",
       "      <th>tags</th>\n",
       "      <th>reviews_url</th>\n",
       "      <th>specs</th>\n",
       "      <th>price</th>\n",
       "      <th>early_access</th>\n",
       "      <th>id</th>\n",
       "      <th>developer</th>\n",
       "    </tr>\n",
       "  </thead>\n",
       "  <tbody>\n",
       "    <tr>\n",
       "      <th>120442</th>\n",
       "      <td>Laush Studio</td>\n",
       "      <td>[Indie, Racing, Simulation]</td>\n",
       "      <td>Russian Roads</td>\n",
       "      <td>Russian Roads</td>\n",
       "      <td>http://store.steampowered.com/app/610660/Russi...</td>\n",
       "      <td>2018-01-04</td>\n",
       "      <td>[Indie, Simulation, Racing]</td>\n",
       "      <td>http://steamcommunity.com/app/610660/reviews/?...</td>\n",
       "      <td>[Single-player, Steam Achievements, Steam Trad...</td>\n",
       "      <td>1.99</td>\n",
       "      <td>0.0</td>\n",
       "      <td>610660.0</td>\n",
       "      <td>Laush Dmitriy Sergeevich</td>\n",
       "    </tr>\n",
       "    <tr>\n",
       "      <th>120443</th>\n",
       "      <td>SIXNAILS</td>\n",
       "      <td>[Casual, Indie]</td>\n",
       "      <td>EXIT 2 - Directions</td>\n",
       "      <td>EXIT 2 - Directions</td>\n",
       "      <td>http://store.steampowered.com/app/658870/EXIT_...</td>\n",
       "      <td>2017-09-02</td>\n",
       "      <td>[Indie, Casual, Puzzle, Singleplayer, Atmosphe...</td>\n",
       "      <td>http://steamcommunity.com/app/658870/reviews/?...</td>\n",
       "      <td>[Single-player, Steam Achievements, Steam Cloud]</td>\n",
       "      <td>4.99</td>\n",
       "      <td>0.0</td>\n",
       "      <td>658870.0</td>\n",
       "      <td>xropi,stev3ns</td>\n",
       "    </tr>\n",
       "    <tr>\n",
       "      <th>120444</th>\n",
       "      <td>None</td>\n",
       "      <td>None</td>\n",
       "      <td>Maze Run VR</td>\n",
       "      <td>None</td>\n",
       "      <td>http://store.steampowered.com/app/681550/Maze_...</td>\n",
       "      <td>None</td>\n",
       "      <td>[Early Access, Adventure, Indie, Action, Simul...</td>\n",
       "      <td>http://steamcommunity.com/app/681550/reviews/?...</td>\n",
       "      <td>[Single-player, Stats, Steam Leaderboards, HTC...</td>\n",
       "      <td>4.99</td>\n",
       "      <td>1.0</td>\n",
       "      <td>681550.0</td>\n",
       "      <td>None</td>\n",
       "    </tr>\n",
       "  </tbody>\n",
       "</table>\n",
       "</div>"
      ],
      "text/plain": [
       "           publisher                       genres             app_name  \\\n",
       "120442  Laush Studio  [Indie, Racing, Simulation]        Russian Roads   \n",
       "120443      SIXNAILS              [Casual, Indie]  EXIT 2 - Directions   \n",
       "120444          None                         None          Maze Run VR   \n",
       "\n",
       "                      title  \\\n",
       "120442        Russian Roads   \n",
       "120443  EXIT 2 - Directions   \n",
       "120444                 None   \n",
       "\n",
       "                                                      url release_date  \\\n",
       "120442  http://store.steampowered.com/app/610660/Russi...   2018-01-04   \n",
       "120443  http://store.steampowered.com/app/658870/EXIT_...   2017-09-02   \n",
       "120444  http://store.steampowered.com/app/681550/Maze_...         None   \n",
       "\n",
       "                                                     tags  \\\n",
       "120442                        [Indie, Simulation, Racing]   \n",
       "120443  [Indie, Casual, Puzzle, Singleplayer, Atmosphe...   \n",
       "120444  [Early Access, Adventure, Indie, Action, Simul...   \n",
       "\n",
       "                                              reviews_url  \\\n",
       "120442  http://steamcommunity.com/app/610660/reviews/?...   \n",
       "120443  http://steamcommunity.com/app/658870/reviews/?...   \n",
       "120444  http://steamcommunity.com/app/681550/reviews/?...   \n",
       "\n",
       "                                                    specs price  early_access  \\\n",
       "120442  [Single-player, Steam Achievements, Steam Trad...  1.99           0.0   \n",
       "120443   [Single-player, Steam Achievements, Steam Cloud]  4.99           0.0   \n",
       "120444  [Single-player, Stats, Steam Leaderboards, HTC...  4.99           1.0   \n",
       "\n",
       "              id                 developer  \n",
       "120442  610660.0  Laush Dmitriy Sergeevich  \n",
       "120443  658870.0             xropi,stev3ns  \n",
       "120444  681550.0                      None  "
      ]
     },
     "execution_count": 4,
     "metadata": {},
     "output_type": "execute_result"
    }
   ],
   "source": [
    "dfSteam.tail(3)"
   ]
  },
  {
   "cell_type": "markdown",
   "metadata": {},
   "source": [
    "*Revisamos la forma del dataframe:*\n",
    "\n",
    "1. *Usamos **shape** obtener el número de filas y columnas del dataframe.*\n",
    "2. *Nuestro dataframe tiene **120445 filas y 13 columnas**.*"
   ]
  },
  {
   "cell_type": "code",
   "execution_count": 5,
   "metadata": {},
   "outputs": [
    {
     "data": {
      "text/plain": [
       "(120445, 13)"
      ]
     },
     "execution_count": 5,
     "metadata": {},
     "output_type": "execute_result"
    }
   ],
   "source": [
    "dfSteam.shape"
   ]
  },
  {
   "cell_type": "markdown",
   "metadata": {},
   "source": [
    "#### **Exploración de las columnas** ####\n",
    "\n",
    "*Vamos a revisar qué columnas existen en el dataframe y de qué tipo son:*\n",
    "\n",
    "1. *Usamos el método **dtypes** para listar las columnas y sus tipos.*\n",
    "2. *Observamos que 11 columnas contienen cadenas de caracteres identificados como **object** y 2 columnas son numéricas identificados como **float**.*"
   ]
  },
  {
   "cell_type": "code",
   "execution_count": 6,
   "metadata": {},
   "outputs": [
    {
     "data": {
      "text/plain": [
       "publisher        object\n",
       "genres           object\n",
       "app_name         object\n",
       "title            object\n",
       "url              object\n",
       "release_date     object\n",
       "tags             object\n",
       "reviews_url      object\n",
       "specs            object\n",
       "price            object\n",
       "early_access    float64\n",
       "id              float64\n",
       "developer        object\n",
       "dtype: object"
      ]
     },
     "execution_count": 6,
     "metadata": {},
     "output_type": "execute_result"
    }
   ],
   "source": [
    "dfSteam.dtypes"
   ]
  },
  {
   "cell_type": "markdown",
   "metadata": {},
   "source": [
    "*Revisemos qué tipos de datos almacena cada columna a detalle:*\n",
    "\n",
    "1. *Hacemos una **iteración** que nos permite recorrer los valores de cada columna para encontrar sus tipos.*\n",
    "2. *Observamos que la columna **Price tiene dos tipos de datos**, por lo que debemos tenerlo en cuenta al momento de hacer la transformación.*\n",
    "3. *En las demás columnas vemos la presencia de datos **Nulos**.*\n",
    "4. *La columna genres, tags y specs son **listas**.*"
   ]
  },
  {
   "cell_type": "code",
   "execution_count": 7,
   "metadata": {},
   "outputs": [
    {
     "data": {
      "text/html": [
       "<div>\n",
       "<style scoped>\n",
       "    .dataframe tbody tr th:only-of-type {\n",
       "        vertical-align: middle;\n",
       "    }\n",
       "\n",
       "    .dataframe tbody tr th {\n",
       "        vertical-align: top;\n",
       "    }\n",
       "\n",
       "    .dataframe thead th {\n",
       "        text-align: right;\n",
       "    }\n",
       "</style>\n",
       "<table border=\"1\" class=\"dataframe\">\n",
       "  <thead>\n",
       "    <tr style=\"text-align: right;\">\n",
       "      <th></th>\n",
       "      <th>Columna</th>\n",
       "      <th>Tipos</th>\n",
       "    </tr>\n",
       "  </thead>\n",
       "  <tbody>\n",
       "    <tr>\n",
       "      <th>0</th>\n",
       "      <td>publisher</td>\n",
       "      <td>[&lt;class 'NoneType'&gt;, &lt;class 'str'&gt;]</td>\n",
       "    </tr>\n",
       "    <tr>\n",
       "      <th>1</th>\n",
       "      <td>genres</td>\n",
       "      <td>[&lt;class 'NoneType'&gt;, &lt;class 'list'&gt;]</td>\n",
       "    </tr>\n",
       "    <tr>\n",
       "      <th>2</th>\n",
       "      <td>app_name</td>\n",
       "      <td>[&lt;class 'NoneType'&gt;, &lt;class 'str'&gt;]</td>\n",
       "    </tr>\n",
       "    <tr>\n",
       "      <th>3</th>\n",
       "      <td>title</td>\n",
       "      <td>[&lt;class 'NoneType'&gt;, &lt;class 'str'&gt;]</td>\n",
       "    </tr>\n",
       "    <tr>\n",
       "      <th>4</th>\n",
       "      <td>url</td>\n",
       "      <td>[&lt;class 'NoneType'&gt;, &lt;class 'str'&gt;]</td>\n",
       "    </tr>\n",
       "    <tr>\n",
       "      <th>5</th>\n",
       "      <td>release_date</td>\n",
       "      <td>[&lt;class 'NoneType'&gt;, &lt;class 'str'&gt;]</td>\n",
       "    </tr>\n",
       "    <tr>\n",
       "      <th>6</th>\n",
       "      <td>tags</td>\n",
       "      <td>[&lt;class 'NoneType'&gt;, &lt;class 'list'&gt;]</td>\n",
       "    </tr>\n",
       "    <tr>\n",
       "      <th>7</th>\n",
       "      <td>reviews_url</td>\n",
       "      <td>[&lt;class 'NoneType'&gt;, &lt;class 'str'&gt;]</td>\n",
       "    </tr>\n",
       "    <tr>\n",
       "      <th>8</th>\n",
       "      <td>specs</td>\n",
       "      <td>[&lt;class 'NoneType'&gt;, &lt;class 'list'&gt;]</td>\n",
       "    </tr>\n",
       "    <tr>\n",
       "      <th>9</th>\n",
       "      <td>price</td>\n",
       "      <td>[&lt;class 'NoneType'&gt;, &lt;class 'float'&gt;, &lt;class '...</td>\n",
       "    </tr>\n",
       "    <tr>\n",
       "      <th>10</th>\n",
       "      <td>early_access</td>\n",
       "      <td>[&lt;class 'float'&gt;]</td>\n",
       "    </tr>\n",
       "    <tr>\n",
       "      <th>11</th>\n",
       "      <td>id</td>\n",
       "      <td>[&lt;class 'float'&gt;]</td>\n",
       "    </tr>\n",
       "    <tr>\n",
       "      <th>12</th>\n",
       "      <td>developer</td>\n",
       "      <td>[&lt;class 'NoneType'&gt;, &lt;class 'str'&gt;]</td>\n",
       "    </tr>\n",
       "  </tbody>\n",
       "</table>\n",
       "</div>"
      ],
      "text/plain": [
       "         Columna                                              Tipos\n",
       "0      publisher                [<class 'NoneType'>, <class 'str'>]\n",
       "1         genres               [<class 'NoneType'>, <class 'list'>]\n",
       "2       app_name                [<class 'NoneType'>, <class 'str'>]\n",
       "3          title                [<class 'NoneType'>, <class 'str'>]\n",
       "4            url                [<class 'NoneType'>, <class 'str'>]\n",
       "5   release_date                [<class 'NoneType'>, <class 'str'>]\n",
       "6           tags               [<class 'NoneType'>, <class 'list'>]\n",
       "7    reviews_url                [<class 'NoneType'>, <class 'str'>]\n",
       "8          specs               [<class 'NoneType'>, <class 'list'>]\n",
       "9          price  [<class 'NoneType'>, <class 'float'>, <class '...\n",
       "10  early_access                                  [<class 'float'>]\n",
       "11            id                                  [<class 'float'>]\n",
       "12     developer                [<class 'NoneType'>, <class 'str'>]"
      ]
     },
     "execution_count": 7,
     "metadata": {},
     "output_type": "execute_result"
    }
   ],
   "source": [
    "tipoDatos = {\"Columna\":[], \"Tipos\":[]}\n",
    "for c in dfSteam.columns:\n",
    "    tipoDatos[\"Columna\"].append(c)\n",
    "    tipoDatos[\"Tipos\"].append(dfSteam[c].apply(type).unique())\n",
    "    \n",
    "dfTypes = pd.DataFrame(tipoDatos)\n",
    "dfTypes"
   ]
  },
  {
   "cell_type": "markdown",
   "metadata": {},
   "source": [
    "*Revisemos las columnas consideradas como numéricas:*\n",
    "\n",
    "1. *Usamos **describe()** para obtener un resumen de estas columnas.*\n",
    "2. *Por ahora no dicen mucho sobre nuestros datos ya que una es una variable **booleana** y la otra un **identificador**.*"
   ]
  },
  {
   "cell_type": "code",
   "execution_count": 8,
   "metadata": {},
   "outputs": [
    {
     "data": {
      "text/html": [
       "<div>\n",
       "<style scoped>\n",
       "    .dataframe tbody tr th:only-of-type {\n",
       "        vertical-align: middle;\n",
       "    }\n",
       "\n",
       "    .dataframe tbody tr th {\n",
       "        vertical-align: top;\n",
       "    }\n",
       "\n",
       "    .dataframe thead th {\n",
       "        text-align: right;\n",
       "    }\n",
       "</style>\n",
       "<table border=\"1\" class=\"dataframe\">\n",
       "  <thead>\n",
       "    <tr style=\"text-align: right;\">\n",
       "      <th></th>\n",
       "      <th>early_access</th>\n",
       "      <th>id</th>\n",
       "    </tr>\n",
       "  </thead>\n",
       "  <tbody>\n",
       "    <tr>\n",
       "      <th>count</th>\n",
       "      <td>32135.000000</td>\n",
       "      <td>3.213300e+04</td>\n",
       "    </tr>\n",
       "    <tr>\n",
       "      <th>mean</th>\n",
       "      <td>0.060588</td>\n",
       "      <td>4.517574e+05</td>\n",
       "    </tr>\n",
       "    <tr>\n",
       "      <th>std</th>\n",
       "      <td>0.238577</td>\n",
       "      <td>1.827140e+05</td>\n",
       "    </tr>\n",
       "    <tr>\n",
       "      <th>min</th>\n",
       "      <td>0.000000</td>\n",
       "      <td>1.000000e+01</td>\n",
       "    </tr>\n",
       "    <tr>\n",
       "      <th>25%</th>\n",
       "      <td>0.000000</td>\n",
       "      <td>3.292800e+05</td>\n",
       "    </tr>\n",
       "    <tr>\n",
       "      <th>50%</th>\n",
       "      <td>0.000000</td>\n",
       "      <td>4.520600e+05</td>\n",
       "    </tr>\n",
       "    <tr>\n",
       "      <th>75%</th>\n",
       "      <td>0.000000</td>\n",
       "      <td>5.934000e+05</td>\n",
       "    </tr>\n",
       "    <tr>\n",
       "      <th>max</th>\n",
       "      <td>1.000000</td>\n",
       "      <td>2.028850e+06</td>\n",
       "    </tr>\n",
       "  </tbody>\n",
       "</table>\n",
       "</div>"
      ],
      "text/plain": [
       "       early_access            id\n",
       "count  32135.000000  3.213300e+04\n",
       "mean       0.060588  4.517574e+05\n",
       "std        0.238577  1.827140e+05\n",
       "min        0.000000  1.000000e+01\n",
       "25%        0.000000  3.292800e+05\n",
       "50%        0.000000  4.520600e+05\n",
       "75%        0.000000  5.934000e+05\n",
       "max        1.000000  2.028850e+06"
      ]
     },
     "execution_count": 8,
     "metadata": {},
     "output_type": "execute_result"
    }
   ],
   "source": [
    "dfSteam.describe()"
   ]
  },
  {
   "cell_type": "markdown",
   "metadata": {},
   "source": [
    "*Revisemos los valores alojados en cada columna para saber cuantos son validos, es decir no nulos:*\n",
    "\n",
    "1. *Usamos **info()** para obtener un conteo de los valores válidos por columnas*\n",
    "2. *Por ahora podemos observar que tenemos una alta presencia de valores nulos. Un aproximado de **9000** registros.*"
   ]
  },
  {
   "cell_type": "code",
   "execution_count": 9,
   "metadata": {},
   "outputs": [
    {
     "name": "stdout",
     "output_type": "stream",
     "text": [
      "<class 'pandas.core.frame.DataFrame'>\n",
      "RangeIndex: 120445 entries, 0 to 120444\n",
      "Data columns (total 13 columns):\n",
      " #   Column        Non-Null Count  Dtype  \n",
      "---  ------        --------------  -----  \n",
      " 0   publisher     24083 non-null  object \n",
      " 1   genres        28852 non-null  object \n",
      " 2   app_name      32133 non-null  object \n",
      " 3   title         30085 non-null  object \n",
      " 4   url           32135 non-null  object \n",
      " 5   release_date  30068 non-null  object \n",
      " 6   tags          31972 non-null  object \n",
      " 7   reviews_url   32133 non-null  object \n",
      " 8   specs         31465 non-null  object \n",
      " 9   price         30758 non-null  object \n",
      " 10  early_access  32135 non-null  float64\n",
      " 11  id            32133 non-null  float64\n",
      " 12  developer     28836 non-null  object \n",
      "dtypes: float64(2), object(11)\n",
      "memory usage: 11.9+ MB\n"
     ]
    }
   ],
   "source": [
    "dfSteam.info()"
   ]
  },
  {
   "cell_type": "markdown",
   "metadata": {},
   "source": [
    "*Revisemos las columnas en porcentajes de valores nulos:*\n",
    "\n",
    "1. *Usamos **isnull()** y **sum()** para obtener una suma de los valores nulos por columna.*\n",
    "2. *Observamos que entre el **70% y 80%** de los regitros de cada columna son vacíos.*"
   ]
  },
  {
   "cell_type": "code",
   "execution_count": 10,
   "metadata": {},
   "outputs": [
    {
     "data": {
      "text/plain": [
       "publisher       80.004982\n",
       "genres          76.045498\n",
       "app_name        73.321433\n",
       "title           75.021794\n",
       "url             73.319773\n",
       "release_date    75.035909\n",
       "tags            73.455104\n",
       "reviews_url     73.321433\n",
       "specs           73.876043\n",
       "price           74.463033\n",
       "early_access    73.319773\n",
       "id              73.321433\n",
       "developer       76.058782\n",
       "dtype: float64"
      ]
     },
     "execution_count": 10,
     "metadata": {},
     "output_type": "execute_result"
    }
   ],
   "source": [
    "nulosPorCol = dfSteam.isnull().sum()\n",
    "porcentajePorCol = (nulosPorCol/dfSteam.shape[0])*100\n",
    "porcentajePorCol"
   ]
  },
  {
   "cell_type": "markdown",
   "metadata": {},
   "source": [
    "*Descripción de las variables del dataframe:*\n",
    "\n",
    "1. *Creamos una tabla para **describir y comparar las columnas**.*\n",
    "\n",
    "| Variable     | Definición                                               |Tipo de Dato| Tipo de Variable               |\n",
    "|:-------------|:---------------------------------------------------------|:----------:|:-------------------------------|\n",
    "| Publisher    | Nombre de la empresa desarrolladora de videojuegos       | String     | Categórica(nominal)            |\n",
    "| Genres       | Son los generos en los que está etiquetado un videojuego | List       | Categórica(nominal)            |\n",
    "| App_name\t   | Nombre de la aplicación                                  | String     | Categórica(nominal)            |\n",
    "| Title        | Título de la aplicación                                  | String     | Categórica(nominal)            |\n",
    "| Url          | Enlace al videojuego                                     | String     | Referencia a una dirección web |\n",
    "| Release Date | Fecha en que se lanzó                                    | String     | Catégorica(ordinal)            |\n",
    "| Tags         | Etiquetas del videojuego                                 | List       | Catégorica(nominal)            |\n",
    "| Reviews_url  | Enlace a las reviews del videojuego                      | String     | Referencia a una dirección web |\n",
    "| Specs        | Características del videojuego                           | List       | Categórica(nominal)            |\n",
    "| Price        | Precio del videojuego                                    | Float      | Numérica Continua              |\n",
    "| Early_access | Acceso Prelanzamiento / Beta version                     | Boolean    | Dicótomica / Numérica discreta |\n",
    "|       Id     | Identificador único del videojuego                       | Integer    | Numérica Discreta              |\n",
    "|  Developer   | Nombre desarrollador del videojuego                      | String     | Catégorica(nominal)            |\n",
    "\n",
    "2. *Revisamos las especificaciones de las funciones que requiere nuestro **MVP** para saber que columnas serán importantes para las funcionalidades de la API.*\n",
    "3. *Observamos que existen columnas como **Url y Reviews url** que no serán apropiadas para los objetivos de este análisis.*\n",
    "4. *Observamos que **App Name y Title** pueden ser columnas similares, así que lo revisaremos más adelante para no tener información duplicada.*\n",
    "5. *Observamos que **Publisher y Developer** pueden ser columnas similares, así que lo revisaremos más adelante.*\n",
    "\n",
    "**Nota:** *En algunos visualizadores de Markdown no es posible apreciar la tabla, sugiero revisarla en VSC.*"
   ]
  },
  {
   "cell_type": "markdown",
   "metadata": {},
   "source": [
    "### **Transformación de los datos** ###\n",
    "---\n",
    "\n",
    "*A partir de este momento realizaremos una limpieza de los datos teniendo en cuenta nuestro análisis previo.*\n",
    "\n",
    "* **Nota:** *Posterior al ETL realizaremos también un [EDA](04_EDA.ipynb) enfocado en los datos y una descripción estadística.*"
   ]
  },
  {
   "cell_type": "markdown",
   "metadata": {},
   "source": [
    "#### Eliminación de datos nulos ####\n",
    "\n",
    "*Procedemos a eliminar las filas con registros nulos:*\n",
    "\n",
    "1. *Usamos **dropna()** para eliminar filas con registros nulos*.\n",
    "2. *El número de filas cambió a **22530**, recordemos que antes teníamos más de 120520 registros*."
   ]
  },
  {
   "cell_type": "code",
   "execution_count": 11,
   "metadata": {},
   "outputs": [
    {
     "data": {
      "text/plain": [
       "(22530, 13)"
      ]
     },
     "execution_count": 11,
     "metadata": {},
     "output_type": "execute_result"
    }
   ],
   "source": [
    "dfSteam = dfSteam.dropna()\n",
    "dfSteam.shape"
   ]
  },
  {
   "cell_type": "markdown",
   "metadata": {},
   "source": [
    "*Revisemos qué cambios hubo:*\n",
    "\n",
    "1. *Efectivamente **eliminamos las filas con valores nulos**.*\n",
    "2. *Tenemos un **0% de valores nulos** por columna.*"
   ]
  },
  {
   "cell_type": "code",
   "execution_count": 12,
   "metadata": {},
   "outputs": [
    {
     "name": "stdout",
     "output_type": "stream",
     "text": [
      "<class 'pandas.core.frame.DataFrame'>\n",
      "Index: 22530 entries, 88310 to 120443\n",
      "Data columns (total 13 columns):\n",
      " #   Column        Non-Null Count  Dtype  \n",
      "---  ------        --------------  -----  \n",
      " 0   publisher     22530 non-null  object \n",
      " 1   genres        22530 non-null  object \n",
      " 2   app_name      22530 non-null  object \n",
      " 3   title         22530 non-null  object \n",
      " 4   url           22530 non-null  object \n",
      " 5   release_date  22530 non-null  object \n",
      " 6   tags          22530 non-null  object \n",
      " 7   reviews_url   22530 non-null  object \n",
      " 8   specs         22530 non-null  object \n",
      " 9   price         22530 non-null  object \n",
      " 10  early_access  22530 non-null  float64\n",
      " 11  id            22530 non-null  float64\n",
      " 12  developer     22530 non-null  object \n",
      "dtypes: float64(2), object(11)\n",
      "memory usage: 2.4+ MB\n"
     ]
    }
   ],
   "source": [
    "dfSteam.info()"
   ]
  },
  {
   "cell_type": "markdown",
   "metadata": {},
   "source": [
    "#### Eliminación de duplicados de datos ####\n",
    "\n",
    "*Procedemos a revisar si nos quedan filas cuyos valores sean duplicados:*\n",
    "\n",
    "1. *Usamos **duplicated()** para encontrar filas con registros nulos usando la columna \"id\"*.\n",
    "2. *Observamos que nos muestra un registro cuyo id es **612880**.*"
   ]
  },
  {
   "cell_type": "code",
   "execution_count": 13,
   "metadata": {},
   "outputs": [
    {
     "data": {
      "text/html": [
       "<div>\n",
       "<style scoped>\n",
       "    .dataframe tbody tr th:only-of-type {\n",
       "        vertical-align: middle;\n",
       "    }\n",
       "\n",
       "    .dataframe tbody tr th {\n",
       "        vertical-align: top;\n",
       "    }\n",
       "\n",
       "    .dataframe thead th {\n",
       "        text-align: right;\n",
       "    }\n",
       "</style>\n",
       "<table border=\"1\" class=\"dataframe\">\n",
       "  <thead>\n",
       "    <tr style=\"text-align: right;\">\n",
       "      <th></th>\n",
       "      <th>publisher</th>\n",
       "      <th>genres</th>\n",
       "      <th>app_name</th>\n",
       "      <th>title</th>\n",
       "      <th>url</th>\n",
       "      <th>release_date</th>\n",
       "      <th>tags</th>\n",
       "      <th>reviews_url</th>\n",
       "      <th>specs</th>\n",
       "      <th>price</th>\n",
       "      <th>early_access</th>\n",
       "      <th>id</th>\n",
       "      <th>developer</th>\n",
       "    </tr>\n",
       "  </thead>\n",
       "  <tbody>\n",
       "    <tr>\n",
       "      <th>102883</th>\n",
       "      <td>Bethesda Softworks</td>\n",
       "      <td>[Action]</td>\n",
       "      <td>Wolfenstein II: The New Colossus</td>\n",
       "      <td>Wolfenstein II: The New Colossus</td>\n",
       "      <td>http://store.steampowered.com/app/612880/Wolfe...</td>\n",
       "      <td>2017-10-26</td>\n",
       "      <td>[Action, FPS, Gore, Violent, Alternate History...</td>\n",
       "      <td>http://steamcommunity.com/app/612880/reviews/?...</td>\n",
       "      <td>[Single-player, Steam Achievements, Full contr...</td>\n",
       "      <td>59.99</td>\n",
       "      <td>0.0</td>\n",
       "      <td>612880.0</td>\n",
       "      <td>Machine Games</td>\n",
       "    </tr>\n",
       "  </tbody>\n",
       "</table>\n",
       "</div>"
      ],
      "text/plain": [
       "                 publisher    genres                          app_name  \\\n",
       "102883  Bethesda Softworks  [Action]  Wolfenstein II: The New Colossus   \n",
       "\n",
       "                                   title  \\\n",
       "102883  Wolfenstein II: The New Colossus   \n",
       "\n",
       "                                                      url release_date  \\\n",
       "102883  http://store.steampowered.com/app/612880/Wolfe...   2017-10-26   \n",
       "\n",
       "                                                     tags  \\\n",
       "102883  [Action, FPS, Gore, Violent, Alternate History...   \n",
       "\n",
       "                                              reviews_url  \\\n",
       "102883  http://steamcommunity.com/app/612880/reviews/?...   \n",
       "\n",
       "                                                    specs  price  \\\n",
       "102883  [Single-player, Steam Achievements, Full contr...  59.99   \n",
       "\n",
       "        early_access        id      developer  \n",
       "102883           0.0  612880.0  Machine Games  "
      ]
     },
     "execution_count": 13,
     "metadata": {},
     "output_type": "execute_result"
    }
   ],
   "source": [
    "duplicados = dfSteam[dfSteam.duplicated(subset=\"id\")]\n",
    "duplicados"
   ]
  },
  {
   "cell_type": "markdown",
   "metadata": {},
   "source": [
    "*Buscamos el id que nos identificó pandas:*\n",
    "\n",
    "1. *Usamos **loc()** para encontrar filas con \"id\" 612880*.\n",
    "2. *Observamos que nos muestra **dos registros identicos**.*"
   ]
  },
  {
   "cell_type": "code",
   "execution_count": 14,
   "metadata": {},
   "outputs": [
    {
     "data": {
      "text/html": [
       "<div>\n",
       "<style scoped>\n",
       "    .dataframe tbody tr th:only-of-type {\n",
       "        vertical-align: middle;\n",
       "    }\n",
       "\n",
       "    .dataframe tbody tr th {\n",
       "        vertical-align: top;\n",
       "    }\n",
       "\n",
       "    .dataframe thead th {\n",
       "        text-align: right;\n",
       "    }\n",
       "</style>\n",
       "<table border=\"1\" class=\"dataframe\">\n",
       "  <thead>\n",
       "    <tr style=\"text-align: right;\">\n",
       "      <th></th>\n",
       "      <th>publisher</th>\n",
       "      <th>genres</th>\n",
       "      <th>app_name</th>\n",
       "      <th>title</th>\n",
       "      <th>url</th>\n",
       "      <th>release_date</th>\n",
       "      <th>tags</th>\n",
       "      <th>reviews_url</th>\n",
       "      <th>specs</th>\n",
       "      <th>price</th>\n",
       "      <th>early_access</th>\n",
       "      <th>id</th>\n",
       "      <th>developer</th>\n",
       "    </tr>\n",
       "  </thead>\n",
       "  <tbody>\n",
       "    <tr>\n",
       "      <th>102204</th>\n",
       "      <td>Bethesda Softworks</td>\n",
       "      <td>[Action]</td>\n",
       "      <td>Wolfenstein II: The New Colossus</td>\n",
       "      <td>Wolfenstein II: The New Colossus</td>\n",
       "      <td>http://store.steampowered.com/app/612880/</td>\n",
       "      <td>2017-10-26</td>\n",
       "      <td>[Action, FPS, Gore, Violent, Alternate History...</td>\n",
       "      <td>http://steamcommunity.com/app/612880/reviews/?...</td>\n",
       "      <td>[Single-player, Steam Achievements, Full contr...</td>\n",
       "      <td>59.99</td>\n",
       "      <td>0.0</td>\n",
       "      <td>612880.0</td>\n",
       "      <td>Machine Games</td>\n",
       "    </tr>\n",
       "    <tr>\n",
       "      <th>102883</th>\n",
       "      <td>Bethesda Softworks</td>\n",
       "      <td>[Action]</td>\n",
       "      <td>Wolfenstein II: The New Colossus</td>\n",
       "      <td>Wolfenstein II: The New Colossus</td>\n",
       "      <td>http://store.steampowered.com/app/612880/Wolfe...</td>\n",
       "      <td>2017-10-26</td>\n",
       "      <td>[Action, FPS, Gore, Violent, Alternate History...</td>\n",
       "      <td>http://steamcommunity.com/app/612880/reviews/?...</td>\n",
       "      <td>[Single-player, Steam Achievements, Full contr...</td>\n",
       "      <td>59.99</td>\n",
       "      <td>0.0</td>\n",
       "      <td>612880.0</td>\n",
       "      <td>Machine Games</td>\n",
       "    </tr>\n",
       "  </tbody>\n",
       "</table>\n",
       "</div>"
      ],
      "text/plain": [
       "                 publisher    genres                          app_name  \\\n",
       "102204  Bethesda Softworks  [Action]  Wolfenstein II: The New Colossus   \n",
       "102883  Bethesda Softworks  [Action]  Wolfenstein II: The New Colossus   \n",
       "\n",
       "                                   title  \\\n",
       "102204  Wolfenstein II: The New Colossus   \n",
       "102883  Wolfenstein II: The New Colossus   \n",
       "\n",
       "                                                      url release_date  \\\n",
       "102204          http://store.steampowered.com/app/612880/   2017-10-26   \n",
       "102883  http://store.steampowered.com/app/612880/Wolfe...   2017-10-26   \n",
       "\n",
       "                                                     tags  \\\n",
       "102204  [Action, FPS, Gore, Violent, Alternate History...   \n",
       "102883  [Action, FPS, Gore, Violent, Alternate History...   \n",
       "\n",
       "                                              reviews_url  \\\n",
       "102204  http://steamcommunity.com/app/612880/reviews/?...   \n",
       "102883  http://steamcommunity.com/app/612880/reviews/?...   \n",
       "\n",
       "                                                    specs  price  \\\n",
       "102204  [Single-player, Steam Achievements, Full contr...  59.99   \n",
       "102883  [Single-player, Steam Achievements, Full contr...  59.99   \n",
       "\n",
       "        early_access        id      developer  \n",
       "102204           0.0  612880.0  Machine Games  \n",
       "102883           0.0  612880.0  Machine Games  "
      ]
     },
     "execution_count": 14,
     "metadata": {},
     "output_type": "execute_result"
    }
   ],
   "source": [
    "dfSteam.loc[dfSteam[\"id\"]== 612880]"
   ]
  },
  {
   "cell_type": "markdown",
   "metadata": {},
   "source": [
    "*Eliminamos el registro:*\n",
    "\n",
    "1. *Usamos **drop()** para eliminar la fila con indice 102883*.\n",
    "2. *Volvemos a **verificar** si quedan registros duplicados*."
   ]
  },
  {
   "cell_type": "code",
   "execution_count": 15,
   "metadata": {},
   "outputs": [],
   "source": [
    "dfSteam = dfSteam.drop(102883)"
   ]
  },
  {
   "cell_type": "code",
   "execution_count": 16,
   "metadata": {},
   "outputs": [
    {
     "data": {
      "text/html": [
       "<div>\n",
       "<style scoped>\n",
       "    .dataframe tbody tr th:only-of-type {\n",
       "        vertical-align: middle;\n",
       "    }\n",
       "\n",
       "    .dataframe tbody tr th {\n",
       "        vertical-align: top;\n",
       "    }\n",
       "\n",
       "    .dataframe thead th {\n",
       "        text-align: right;\n",
       "    }\n",
       "</style>\n",
       "<table border=\"1\" class=\"dataframe\">\n",
       "  <thead>\n",
       "    <tr style=\"text-align: right;\">\n",
       "      <th></th>\n",
       "      <th>publisher</th>\n",
       "      <th>genres</th>\n",
       "      <th>app_name</th>\n",
       "      <th>title</th>\n",
       "      <th>url</th>\n",
       "      <th>release_date</th>\n",
       "      <th>tags</th>\n",
       "      <th>reviews_url</th>\n",
       "      <th>specs</th>\n",
       "      <th>price</th>\n",
       "      <th>early_access</th>\n",
       "      <th>id</th>\n",
       "      <th>developer</th>\n",
       "    </tr>\n",
       "  </thead>\n",
       "  <tbody>\n",
       "  </tbody>\n",
       "</table>\n",
       "</div>"
      ],
      "text/plain": [
       "Empty DataFrame\n",
       "Columns: [publisher, genres, app_name, title, url, release_date, tags, reviews_url, specs, price, early_access, id, developer]\n",
       "Index: []"
      ]
     },
     "execution_count": 16,
     "metadata": {},
     "output_type": "execute_result"
    }
   ],
   "source": [
    "duplicados = dfSteam[dfSteam.duplicated(subset=\"id\")]\n",
    "duplicados"
   ]
  },
  {
   "cell_type": "markdown",
   "metadata": {},
   "source": [
    "#### Tranformación por columnas ####\n",
    "\n",
    "*A continuación vamos a hacer limpieza por columnas, pero antes haremos algunos cambios:*\n",
    "\n",
    "1. **Reorganizamos las columnas** *, con el fin de mejorar la lectura y comparación de los datos y columnas que consideramos similares en el análisis anterior*.\n",
    "2. **Cambiamos los nombres** *de las columnas.*"
   ]
  },
  {
   "cell_type": "code",
   "execution_count": 17,
   "metadata": {},
   "outputs": [],
   "source": [
    "dfSteam = dfSteam[[\"id\", \"app_name\", \"title\",\"developer\", \"publisher\", \"genres\", \"tags\", \"specs\", \"early_access\",\n",
    "                   \"release_date\",\"price\", \"url\", \"reviews_url\"]]"
   ]
  },
  {
   "cell_type": "code",
   "execution_count": 18,
   "metadata": {},
   "outputs": [],
   "source": [
    "dfSteam.columns = ['IdApp', 'Name', \"Title\", \"Developer\", \"Publisher\", \"Genres\", \"Tags\", \"Specs\", \"EarlyAccess\",\n",
    "                   \"ReleaseDate\", \"Price\", \"Url\", \"UrlReviews\"]"
   ]
  },
  {
   "cell_type": "markdown",
   "metadata": {},
   "source": [
    "**Columna IdApp**\n",
    "\n",
    "1. *Cambiamos el tipo de dato a **int**.*\n",
    "2. *Reorganizamos los datos por **id**.*"
   ]
  },
  {
   "cell_type": "code",
   "execution_count": 19,
   "metadata": {},
   "outputs": [],
   "source": [
    "dfSteam[\"IdApp\"] = dfSteam[\"IdApp\"].astype(np.int64)"
   ]
  },
  {
   "cell_type": "code",
   "execution_count": 20,
   "metadata": {},
   "outputs": [
    {
     "data": {
      "text/html": [
       "<div>\n",
       "<style scoped>\n",
       "    .dataframe tbody tr th:only-of-type {\n",
       "        vertical-align: middle;\n",
       "    }\n",
       "\n",
       "    .dataframe tbody tr th {\n",
       "        vertical-align: top;\n",
       "    }\n",
       "\n",
       "    .dataframe thead th {\n",
       "        text-align: right;\n",
       "    }\n",
       "</style>\n",
       "<table border=\"1\" class=\"dataframe\">\n",
       "  <thead>\n",
       "    <tr style=\"text-align: right;\">\n",
       "      <th></th>\n",
       "      <th>IdApp</th>\n",
       "      <th>Name</th>\n",
       "      <th>Title</th>\n",
       "      <th>Developer</th>\n",
       "      <th>Publisher</th>\n",
       "      <th>Genres</th>\n",
       "      <th>Tags</th>\n",
       "      <th>Specs</th>\n",
       "      <th>EarlyAccess</th>\n",
       "      <th>ReleaseDate</th>\n",
       "      <th>Price</th>\n",
       "      <th>Url</th>\n",
       "      <th>UrlReviews</th>\n",
       "    </tr>\n",
       "  </thead>\n",
       "  <tbody>\n",
       "    <tr>\n",
       "      <th>0</th>\n",
       "      <td>10</td>\n",
       "      <td>Counter-Strike</td>\n",
       "      <td>Counter-Strike</td>\n",
       "      <td>Valve</td>\n",
       "      <td>Valve</td>\n",
       "      <td>[Action]</td>\n",
       "      <td>[Action, FPS, Multiplayer, Shooter, Classic, T...</td>\n",
       "      <td>[Multi-player, Valve Anti-Cheat enabled]</td>\n",
       "      <td>0.0</td>\n",
       "      <td>2000-11-01</td>\n",
       "      <td>9.99</td>\n",
       "      <td>http://store.steampowered.com/app/10/CounterSt...</td>\n",
       "      <td>http://steamcommunity.com/app/10/reviews/?brow...</td>\n",
       "    </tr>\n",
       "    <tr>\n",
       "      <th>1</th>\n",
       "      <td>20</td>\n",
       "      <td>Team Fortress Classic</td>\n",
       "      <td>Team Fortress Classic</td>\n",
       "      <td>Valve</td>\n",
       "      <td>Valve</td>\n",
       "      <td>[Action]</td>\n",
       "      <td>[Action, FPS, Multiplayer, Classic, Shooter, C...</td>\n",
       "      <td>[Multi-player, Valve Anti-Cheat enabled]</td>\n",
       "      <td>0.0</td>\n",
       "      <td>1999-04-01</td>\n",
       "      <td>4.99</td>\n",
       "      <td>http://store.steampowered.com/app/20/Team_Fort...</td>\n",
       "      <td>http://steamcommunity.com/app/20/reviews/?brow...</td>\n",
       "    </tr>\n",
       "    <tr>\n",
       "      <th>2</th>\n",
       "      <td>30</td>\n",
       "      <td>Day of Defeat</td>\n",
       "      <td>Day of Defeat</td>\n",
       "      <td>Valve</td>\n",
       "      <td>Valve</td>\n",
       "      <td>[Action]</td>\n",
       "      <td>[FPS, World War II, Multiplayer, Action, Shoot...</td>\n",
       "      <td>[Multi-player, Valve Anti-Cheat enabled]</td>\n",
       "      <td>0.0</td>\n",
       "      <td>2003-05-01</td>\n",
       "      <td>4.99</td>\n",
       "      <td>http://store.steampowered.com/app/30/Day_of_De...</td>\n",
       "      <td>http://steamcommunity.com/app/30/reviews/?brow...</td>\n",
       "    </tr>\n",
       "  </tbody>\n",
       "</table>\n",
       "</div>"
      ],
      "text/plain": [
       "   IdApp                   Name                  Title Developer Publisher  \\\n",
       "0     10         Counter-Strike         Counter-Strike     Valve     Valve   \n",
       "1     20  Team Fortress Classic  Team Fortress Classic     Valve     Valve   \n",
       "2     30          Day of Defeat          Day of Defeat     Valve     Valve   \n",
       "\n",
       "     Genres                                               Tags  \\\n",
       "0  [Action]  [Action, FPS, Multiplayer, Shooter, Classic, T...   \n",
       "1  [Action]  [Action, FPS, Multiplayer, Classic, Shooter, C...   \n",
       "2  [Action]  [FPS, World War II, Multiplayer, Action, Shoot...   \n",
       "\n",
       "                                      Specs  EarlyAccess ReleaseDate Price  \\\n",
       "0  [Multi-player, Valve Anti-Cheat enabled]          0.0  2000-11-01  9.99   \n",
       "1  [Multi-player, Valve Anti-Cheat enabled]          0.0  1999-04-01  4.99   \n",
       "2  [Multi-player, Valve Anti-Cheat enabled]          0.0  2003-05-01  4.99   \n",
       "\n",
       "                                                 Url  \\\n",
       "0  http://store.steampowered.com/app/10/CounterSt...   \n",
       "1  http://store.steampowered.com/app/20/Team_Fort...   \n",
       "2  http://store.steampowered.com/app/30/Day_of_De...   \n",
       "\n",
       "                                          UrlReviews  \n",
       "0  http://steamcommunity.com/app/10/reviews/?brow...  \n",
       "1  http://steamcommunity.com/app/20/reviews/?brow...  \n",
       "2  http://steamcommunity.com/app/30/reviews/?brow...  "
      ]
     },
     "execution_count": 20,
     "metadata": {},
     "output_type": "execute_result"
    }
   ],
   "source": [
    "dfSteam.sort_values(by=\"IdApp\", inplace=True)\n",
    "dfSteam.reset_index(inplace=True, drop=True)\n",
    "dfSteam.head(3)"
   ]
  },
  {
   "cell_type": "markdown",
   "metadata": {},
   "source": [
    "**Columnas Name y Title**\n",
    "\n",
    "1. *Vamos a **verificar** si los valores entre las dos columnas son iguales*.\n",
    "2. *Creamos una **máscara** para filtrar valores que sean diferentes*\n",
    "3. *De las **22529** filas solo **351** son diferentes en este campo*\n",
    "4. *Pero revisemos bien, **los campos de las dos columnas en si son iguales**, solo hay un error en la interpretación del carácter &*\n",
    "5. *Por lo tanto procedemos a eliminar la columna **Title** para no tener información duplicada*"
   ]
  },
  {
   "cell_type": "code",
   "execution_count": 21,
   "metadata": {},
   "outputs": [],
   "source": [
    "titNameDiferentes = dfSteam['Title'] != dfSteam['Name']\n",
    "filasDiferentes = dfSteam[titNameDiferentes]"
   ]
  },
  {
   "cell_type": "code",
   "execution_count": 22,
   "metadata": {},
   "outputs": [
    {
     "data": {
      "text/html": [
       "<div>\n",
       "<style scoped>\n",
       "    .dataframe tbody tr th:only-of-type {\n",
       "        vertical-align: middle;\n",
       "    }\n",
       "\n",
       "    .dataframe tbody tr th {\n",
       "        vertical-align: top;\n",
       "    }\n",
       "\n",
       "    .dataframe thead th {\n",
       "        text-align: right;\n",
       "    }\n",
       "</style>\n",
       "<table border=\"1\" class=\"dataframe\">\n",
       "  <thead>\n",
       "    <tr style=\"text-align: right;\">\n",
       "      <th></th>\n",
       "      <th>IdApp</th>\n",
       "      <th>Name</th>\n",
       "      <th>Title</th>\n",
       "      <th>Developer</th>\n",
       "      <th>Publisher</th>\n",
       "      <th>Genres</th>\n",
       "      <th>Tags</th>\n",
       "      <th>Specs</th>\n",
       "      <th>EarlyAccess</th>\n",
       "      <th>ReleaseDate</th>\n",
       "      <th>Price</th>\n",
       "      <th>Url</th>\n",
       "      <th>UrlReviews</th>\n",
       "    </tr>\n",
       "  </thead>\n",
       "  <tbody>\n",
       "    <tr>\n",
       "      <th>46</th>\n",
       "      <td>2100</td>\n",
       "      <td>Dark Messiah of Might &amp; Magic</td>\n",
       "      <td>Dark Messiah of Might &amp;amp; Magic</td>\n",
       "      <td>Arkane Studios</td>\n",
       "      <td>Ubisoft</td>\n",
       "      <td>[Action, RPG]</td>\n",
       "      <td>[RPG, Action, First-Person, Fantasy, Adventure...</td>\n",
       "      <td>[Single-player, Multi-player, Valve Anti-Cheat...</td>\n",
       "      <td>0.0</td>\n",
       "      <td>2006-10-25</td>\n",
       "      <td>9.99</td>\n",
       "      <td>http://store.steampowered.com/app/2100/Dark_Me...</td>\n",
       "      <td>http://steamcommunity.com/app/2100/reviews/?br...</td>\n",
       "    </tr>\n",
       "    <tr>\n",
       "      <th>180</th>\n",
       "      <td>6250</td>\n",
       "      <td>Making History: The Calm &amp; the Storm</td>\n",
       "      <td>Making History: The Calm &amp;amp; the Storm</td>\n",
       "      <td>Muzzy Lane</td>\n",
       "      <td>Strategy First</td>\n",
       "      <td>[Action, Strategy]</td>\n",
       "      <td>[Strategy, Action, Turn-Based Strategy, Grand ...</td>\n",
       "      <td>[Single-player, Multi-player]</td>\n",
       "      <td>0.0</td>\n",
       "      <td>2007-03-13</td>\n",
       "      <td>4.99</td>\n",
       "      <td>http://store.steampowered.com/app/6250/Making_...</td>\n",
       "      <td>http://steamcommunity.com/app/6250/reviews/?br...</td>\n",
       "    </tr>\n",
       "    <tr>\n",
       "      <th>231</th>\n",
       "      <td>8200</td>\n",
       "      <td>Sam &amp; Max 101: Culture Shock</td>\n",
       "      <td>Sam &amp;amp; Max 101: Culture Shock</td>\n",
       "      <td>Telltale Games</td>\n",
       "      <td>Telltale Games</td>\n",
       "      <td>[Action, Adventure]</td>\n",
       "      <td>[Point &amp; Click, Comedy, Adventure, Detective, ...</td>\n",
       "      <td>[Single-player]</td>\n",
       "      <td>0.0</td>\n",
       "      <td>2006-10-17</td>\n",
       "      <td>19.99</td>\n",
       "      <td>http://store.steampowered.com/app/8200/Sam__Ma...</td>\n",
       "      <td>http://steamcommunity.com/app/8200/reviews/?br...</td>\n",
       "    </tr>\n",
       "    <tr>\n",
       "      <th>232</th>\n",
       "      <td>8210</td>\n",
       "      <td>Sam &amp; Max 102: Situation: Comedy</td>\n",
       "      <td>Sam &amp;amp; Max 102: Situation: Comedy</td>\n",
       "      <td>Telltale Games</td>\n",
       "      <td>Telltale Games</td>\n",
       "      <td>[Action, Adventure]</td>\n",
       "      <td>[Adventure, Action]</td>\n",
       "      <td>[Single-player]</td>\n",
       "      <td>0.0</td>\n",
       "      <td>2006-12-20</td>\n",
       "      <td>19.99</td>\n",
       "      <td>http://store.steampowered.com/app/8210/Sam__Ma...</td>\n",
       "      <td>http://steamcommunity.com/app/8210/reviews/?br...</td>\n",
       "    </tr>\n",
       "    <tr>\n",
       "      <th>233</th>\n",
       "      <td>8220</td>\n",
       "      <td>Sam &amp; Max 103: The Mole, the Mob and the Meatball</td>\n",
       "      <td>Sam &amp;amp; Max 103: The Mole, the Mob and the M...</td>\n",
       "      <td>Telltale Games</td>\n",
       "      <td>Telltale Games</td>\n",
       "      <td>[Action, Adventure]</td>\n",
       "      <td>[Adventure, Action, Point &amp; Click]</td>\n",
       "      <td>[Single-player]</td>\n",
       "      <td>0.0</td>\n",
       "      <td>2007-01-25</td>\n",
       "      <td>19.99</td>\n",
       "      <td>http://store.steampowered.com/app/8220/Sam__Ma...</td>\n",
       "      <td>http://steamcommunity.com/app/8220/reviews/?br...</td>\n",
       "    </tr>\n",
       "  </tbody>\n",
       "</table>\n",
       "</div>"
      ],
      "text/plain": [
       "     IdApp                                               Name  \\\n",
       "46    2100                      Dark Messiah of Might & Magic   \n",
       "180   6250               Making History: The Calm & the Storm   \n",
       "231   8200                       Sam & Max 101: Culture Shock   \n",
       "232   8210                   Sam & Max 102: Situation: Comedy   \n",
       "233   8220  Sam & Max 103: The Mole, the Mob and the Meatball   \n",
       "\n",
       "                                                 Title       Developer  \\\n",
       "46                   Dark Messiah of Might &amp; Magic  Arkane Studios   \n",
       "180           Making History: The Calm &amp; the Storm      Muzzy Lane   \n",
       "231                   Sam &amp; Max 101: Culture Shock  Telltale Games   \n",
       "232               Sam &amp; Max 102: Situation: Comedy  Telltale Games   \n",
       "233  Sam &amp; Max 103: The Mole, the Mob and the M...  Telltale Games   \n",
       "\n",
       "          Publisher               Genres  \\\n",
       "46          Ubisoft        [Action, RPG]   \n",
       "180  Strategy First   [Action, Strategy]   \n",
       "231  Telltale Games  [Action, Adventure]   \n",
       "232  Telltale Games  [Action, Adventure]   \n",
       "233  Telltale Games  [Action, Adventure]   \n",
       "\n",
       "                                                  Tags  \\\n",
       "46   [RPG, Action, First-Person, Fantasy, Adventure...   \n",
       "180  [Strategy, Action, Turn-Based Strategy, Grand ...   \n",
       "231  [Point & Click, Comedy, Adventure, Detective, ...   \n",
       "232                                [Adventure, Action]   \n",
       "233                 [Adventure, Action, Point & Click]   \n",
       "\n",
       "                                                 Specs  EarlyAccess  \\\n",
       "46   [Single-player, Multi-player, Valve Anti-Cheat...          0.0   \n",
       "180                      [Single-player, Multi-player]          0.0   \n",
       "231                                    [Single-player]          0.0   \n",
       "232                                    [Single-player]          0.0   \n",
       "233                                    [Single-player]          0.0   \n",
       "\n",
       "    ReleaseDate  Price                                                Url  \\\n",
       "46   2006-10-25   9.99  http://store.steampowered.com/app/2100/Dark_Me...   \n",
       "180  2007-03-13   4.99  http://store.steampowered.com/app/6250/Making_...   \n",
       "231  2006-10-17  19.99  http://store.steampowered.com/app/8200/Sam__Ma...   \n",
       "232  2006-12-20  19.99  http://store.steampowered.com/app/8210/Sam__Ma...   \n",
       "233  2007-01-25  19.99  http://store.steampowered.com/app/8220/Sam__Ma...   \n",
       "\n",
       "                                            UrlReviews  \n",
       "46   http://steamcommunity.com/app/2100/reviews/?br...  \n",
       "180  http://steamcommunity.com/app/6250/reviews/?br...  \n",
       "231  http://steamcommunity.com/app/8200/reviews/?br...  \n",
       "232  http://steamcommunity.com/app/8210/reviews/?br...  \n",
       "233  http://steamcommunity.com/app/8220/reviews/?br...  "
      ]
     },
     "execution_count": 22,
     "metadata": {},
     "output_type": "execute_result"
    }
   ],
   "source": [
    "filasDiferentes.head(5)"
   ]
  },
  {
   "cell_type": "code",
   "execution_count": 23,
   "metadata": {},
   "outputs": [],
   "source": [
    "dfSteam = dfSteam.drop(columns=\"Title\")"
   ]
  },
  {
   "cell_type": "code",
   "execution_count": 24,
   "metadata": {},
   "outputs": [],
   "source": [
    "dfSteam[\"Name\"] = dfSteam[\"Name\"].astype(str)"
   ]
  },
  {
   "cell_type": "markdown",
   "metadata": {},
   "source": [
    "**Columnas Developer y Publisher**\n",
    "\n",
    "1. *Vamos a **verificar** si los valores entre las dos columnas son iguales*.\n",
    "2. *Creamos una **máscara** para filtrar valores que sean diferentes.*\n",
    "3. *De las **22529** filas **11001** son diferentes en este campo.*\n",
    "4. *Por lo tanto son columnas con valores diferentes que en muy pocos casos se repiten y se deben mantener ambas columnas*."
   ]
  },
  {
   "cell_type": "code",
   "execution_count": 25,
   "metadata": {},
   "outputs": [],
   "source": [
    "devPubDiferentes = dfSteam['Developer'] != dfSteam['Publisher']\n",
    "filasDevPubDiferentes = dfSteam[devPubDiferentes]"
   ]
  },
  {
   "cell_type": "code",
   "execution_count": 26,
   "metadata": {},
   "outputs": [
    {
     "data": {
      "text/html": [
       "<div>\n",
       "<style scoped>\n",
       "    .dataframe tbody tr th:only-of-type {\n",
       "        vertical-align: middle;\n",
       "    }\n",
       "\n",
       "    .dataframe tbody tr th {\n",
       "        vertical-align: top;\n",
       "    }\n",
       "\n",
       "    .dataframe thead th {\n",
       "        text-align: right;\n",
       "    }\n",
       "</style>\n",
       "<table border=\"1\" class=\"dataframe\">\n",
       "  <thead>\n",
       "    <tr style=\"text-align: right;\">\n",
       "      <th></th>\n",
       "      <th>IdApp</th>\n",
       "      <th>Name</th>\n",
       "      <th>Developer</th>\n",
       "      <th>Publisher</th>\n",
       "      <th>Genres</th>\n",
       "      <th>Tags</th>\n",
       "      <th>Specs</th>\n",
       "      <th>EarlyAccess</th>\n",
       "      <th>ReleaseDate</th>\n",
       "      <th>Price</th>\n",
       "      <th>Url</th>\n",
       "      <th>UrlReviews</th>\n",
       "    </tr>\n",
       "  </thead>\n",
       "  <tbody>\n",
       "    <tr>\n",
       "      <th>4</th>\n",
       "      <td>50</td>\n",
       "      <td>Half-Life: Opposing Force</td>\n",
       "      <td>Gearbox Software</td>\n",
       "      <td>Valve</td>\n",
       "      <td>[Action]</td>\n",
       "      <td>[FPS, Action, Sci-fi, Singleplayer, Classic, S...</td>\n",
       "      <td>[Single-player, Multi-player, Valve Anti-Cheat...</td>\n",
       "      <td>0.0</td>\n",
       "      <td>1999-11-01</td>\n",
       "      <td>4.99</td>\n",
       "      <td>http://store.steampowered.com/app/50/HalfLife_...</td>\n",
       "      <td>http://steamcommunity.com/app/50/reviews/?brow...</td>\n",
       "    </tr>\n",
       "    <tr>\n",
       "      <th>8</th>\n",
       "      <td>130</td>\n",
       "      <td>Half-Life: Blue Shift</td>\n",
       "      <td>Gearbox Software</td>\n",
       "      <td>Valve</td>\n",
       "      <td>[Action]</td>\n",
       "      <td>[FPS, Action, Sci-fi, Singleplayer, Shooter, A...</td>\n",
       "      <td>[Single-player]</td>\n",
       "      <td>0.0</td>\n",
       "      <td>2001-06-01</td>\n",
       "      <td>4.99</td>\n",
       "      <td>http://store.steampowered.com/app/130/HalfLife...</td>\n",
       "      <td>http://steamcommunity.com/app/130/reviews/?bro...</td>\n",
       "    </tr>\n",
       "    <tr>\n",
       "      <th>26</th>\n",
       "      <td>1230</td>\n",
       "      <td>Mare Nostrum</td>\n",
       "      <td>Sandstorm Productions</td>\n",
       "      <td>Tripwire Interactive</td>\n",
       "      <td>[Action]</td>\n",
       "      <td>[Action, World War II, FPS, Mod, Multiplayer, ...</td>\n",
       "      <td>[Multi-player, Mods, Steam Achievements]</td>\n",
       "      <td>0.0</td>\n",
       "      <td>2008-10-17</td>\n",
       "      <td>Free</td>\n",
       "      <td>http://store.steampowered.com/app/1230/Mare_No...</td>\n",
       "      <td>http://steamcommunity.com/app/1230/reviews/?br...</td>\n",
       "    </tr>\n",
       "    <tr>\n",
       "      <th>36</th>\n",
       "      <td>1600</td>\n",
       "      <td>Dangerous Waters</td>\n",
       "      <td>Sonalysts</td>\n",
       "      <td>Strategy First</td>\n",
       "      <td>[Strategy]</td>\n",
       "      <td>[Strategy, Simulation, Naval]</td>\n",
       "      <td>[Single-player, Multi-player]</td>\n",
       "      <td>0.0</td>\n",
       "      <td>2006-02-07</td>\n",
       "      <td>14.99</td>\n",
       "      <td>http://store.steampowered.com/app/1600/Dangero...</td>\n",
       "      <td>http://steamcommunity.com/app/1600/reviews/?br...</td>\n",
       "    </tr>\n",
       "    <tr>\n",
       "      <th>37</th>\n",
       "      <td>1610</td>\n",
       "      <td>Space Empires IV Deluxe</td>\n",
       "      <td>Malfador Machinations</td>\n",
       "      <td>Strategy First</td>\n",
       "      <td>[Strategy]</td>\n",
       "      <td>[Strategy, 4X, Sci-fi, Turn-Based, Turn-Based ...</td>\n",
       "      <td>[Single-player, Multi-player]</td>\n",
       "      <td>0.0</td>\n",
       "      <td>2006-02-07</td>\n",
       "      <td>9.99</td>\n",
       "      <td>http://store.steampowered.com/app/1610/Space_E...</td>\n",
       "      <td>http://steamcommunity.com/app/1610/reviews/?br...</td>\n",
       "    </tr>\n",
       "    <tr>\n",
       "      <th>...</th>\n",
       "      <td>...</td>\n",
       "      <td>...</td>\n",
       "      <td>...</td>\n",
       "      <td>...</td>\n",
       "      <td>...</td>\n",
       "      <td>...</td>\n",
       "      <td>...</td>\n",
       "      <td>...</td>\n",
       "      <td>...</td>\n",
       "      <td>...</td>\n",
       "      <td>...</td>\n",
       "      <td>...</td>\n",
       "    </tr>\n",
       "    <tr>\n",
       "      <th>22524</th>\n",
       "      <td>2028055</td>\n",
       "      <td>Tom Clancy's Ghost Recon Future Soldier - Seas...</td>\n",
       "      <td>Ubisoft Paris,Red Storm Entertainment</td>\n",
       "      <td>Ubisoft</td>\n",
       "      <td>[Action]</td>\n",
       "      <td>[Action]</td>\n",
       "      <td>[Single-player, Multi-player, Co-op, Downloada...</td>\n",
       "      <td>0.0</td>\n",
       "      <td>2012-10-25</td>\n",
       "      <td>24.99</td>\n",
       "      <td>http://store.steampowered.com/app/2028055/Tom_...</td>\n",
       "      <td>http://steamcommunity.com/app/2028055/reviews/...</td>\n",
       "    </tr>\n",
       "    <tr>\n",
       "      <th>22525</th>\n",
       "      <td>2028056</td>\n",
       "      <td>Worms Revolution Season Pass</td>\n",
       "      <td>Team17 Digital Ltd.</td>\n",
       "      <td>Team17 Digital Ltd</td>\n",
       "      <td>[Strategy]</td>\n",
       "      <td>[Strategy]</td>\n",
       "      <td>[Single-player, Multi-player, Co-op, Shared/Sp...</td>\n",
       "      <td>0.0</td>\n",
       "      <td>2012-10-10</td>\n",
       "      <td>14.99</td>\n",
       "      <td>http://store.steampowered.com/app/2028056/Worm...</td>\n",
       "      <td>http://steamcommunity.com/app/2028056/reviews/...</td>\n",
       "    </tr>\n",
       "    <tr>\n",
       "      <th>22526</th>\n",
       "      <td>2028062</td>\n",
       "      <td>Call of Duty®: Black Ops II Season Pass</td>\n",
       "      <td>Treyarch</td>\n",
       "      <td>Activision</td>\n",
       "      <td>[Action]</td>\n",
       "      <td>[Action, FPS, Zombies, Multiplayer]</td>\n",
       "      <td>[Single-player, Multi-player, Co-op, Downloada...</td>\n",
       "      <td>0.0</td>\n",
       "      <td>Feb 2013</td>\n",
       "      <td>49.99</td>\n",
       "      <td>http://store.steampowered.com/app/2028062/Call...</td>\n",
       "      <td>http://steamcommunity.com/app/2028062/reviews/...</td>\n",
       "    </tr>\n",
       "    <tr>\n",
       "      <th>22527</th>\n",
       "      <td>2028103</td>\n",
       "      <td>Assassin’s Creed® III Season Pass</td>\n",
       "      <td>Ubisoft Montreal</td>\n",
       "      <td>Ubisoft</td>\n",
       "      <td>[Action, Adventure]</td>\n",
       "      <td>[Action, Adventure]</td>\n",
       "      <td>[Single-player, Multi-player, Downloadable Con...</td>\n",
       "      <td>0.0</td>\n",
       "      <td>2012-11-20</td>\n",
       "      <td>29.99</td>\n",
       "      <td>http://store.steampowered.com/app/2028103/Assa...</td>\n",
       "      <td>http://steamcommunity.com/app/2028103/reviews/...</td>\n",
       "    </tr>\n",
       "    <tr>\n",
       "      <th>22528</th>\n",
       "      <td>2028850</td>\n",
       "      <td>Bioshock Infinite: Columbia's Finest</td>\n",
       "      <td>Irrational Games,Aspyr (Mac),Virtual Programmi...</td>\n",
       "      <td>2K Games, Aspyr (Mac)</td>\n",
       "      <td>[Action]</td>\n",
       "      <td>[Action, FPS]</td>\n",
       "      <td>[Single-player, Downloadable Content, Steam Ac...</td>\n",
       "      <td>0.0</td>\n",
       "      <td>2013-06-25</td>\n",
       "      <td>4.99</td>\n",
       "      <td>http://store.steampowered.com/app/2028850/Bios...</td>\n",
       "      <td>http://steamcommunity.com/app/2028850/reviews/...</td>\n",
       "    </tr>\n",
       "  </tbody>\n",
       "</table>\n",
       "<p>11001 rows × 12 columns</p>\n",
       "</div>"
      ],
      "text/plain": [
       "         IdApp                                               Name  \\\n",
       "4           50                          Half-Life: Opposing Force   \n",
       "8          130                              Half-Life: Blue Shift   \n",
       "26        1230                                       Mare Nostrum   \n",
       "36        1600                                   Dangerous Waters   \n",
       "37        1610                            Space Empires IV Deluxe   \n",
       "...        ...                                                ...   \n",
       "22524  2028055  Tom Clancy's Ghost Recon Future Soldier - Seas...   \n",
       "22525  2028056                       Worms Revolution Season Pass   \n",
       "22526  2028062            Call of Duty®: Black Ops II Season Pass   \n",
       "22527  2028103                  Assassin’s Creed® III Season Pass   \n",
       "22528  2028850               Bioshock Infinite: Columbia's Finest   \n",
       "\n",
       "                                               Developer  \\\n",
       "4                                       Gearbox Software   \n",
       "8                                       Gearbox Software   \n",
       "26                                 Sandstorm Productions   \n",
       "36                                             Sonalysts   \n",
       "37                                 Malfador Machinations   \n",
       "...                                                  ...   \n",
       "22524              Ubisoft Paris,Red Storm Entertainment   \n",
       "22525                                Team17 Digital Ltd.   \n",
       "22526                                           Treyarch   \n",
       "22527                                   Ubisoft Montreal   \n",
       "22528  Irrational Games,Aspyr (Mac),Virtual Programmi...   \n",
       "\n",
       "                   Publisher               Genres  \\\n",
       "4                      Valve             [Action]   \n",
       "8                      Valve             [Action]   \n",
       "26      Tripwire Interactive             [Action]   \n",
       "36            Strategy First           [Strategy]   \n",
       "37            Strategy First           [Strategy]   \n",
       "...                      ...                  ...   \n",
       "22524                Ubisoft             [Action]   \n",
       "22525     Team17 Digital Ltd           [Strategy]   \n",
       "22526             Activision             [Action]   \n",
       "22527                Ubisoft  [Action, Adventure]   \n",
       "22528  2K Games, Aspyr (Mac)             [Action]   \n",
       "\n",
       "                                                    Tags  \\\n",
       "4      [FPS, Action, Sci-fi, Singleplayer, Classic, S...   \n",
       "8      [FPS, Action, Sci-fi, Singleplayer, Shooter, A...   \n",
       "26     [Action, World War II, FPS, Mod, Multiplayer, ...   \n",
       "36                         [Strategy, Simulation, Naval]   \n",
       "37     [Strategy, 4X, Sci-fi, Turn-Based, Turn-Based ...   \n",
       "...                                                  ...   \n",
       "22524                                           [Action]   \n",
       "22525                                         [Strategy]   \n",
       "22526                [Action, FPS, Zombies, Multiplayer]   \n",
       "22527                                [Action, Adventure]   \n",
       "22528                                      [Action, FPS]   \n",
       "\n",
       "                                                   Specs  EarlyAccess  \\\n",
       "4      [Single-player, Multi-player, Valve Anti-Cheat...          0.0   \n",
       "8                                        [Single-player]          0.0   \n",
       "26              [Multi-player, Mods, Steam Achievements]          0.0   \n",
       "36                         [Single-player, Multi-player]          0.0   \n",
       "37                         [Single-player, Multi-player]          0.0   \n",
       "...                                                  ...          ...   \n",
       "22524  [Single-player, Multi-player, Co-op, Downloada...          0.0   \n",
       "22525  [Single-player, Multi-player, Co-op, Shared/Sp...          0.0   \n",
       "22526  [Single-player, Multi-player, Co-op, Downloada...          0.0   \n",
       "22527  [Single-player, Multi-player, Downloadable Con...          0.0   \n",
       "22528  [Single-player, Downloadable Content, Steam Ac...          0.0   \n",
       "\n",
       "      ReleaseDate  Price                                                Url  \\\n",
       "4      1999-11-01   4.99  http://store.steampowered.com/app/50/HalfLife_...   \n",
       "8      2001-06-01   4.99  http://store.steampowered.com/app/130/HalfLife...   \n",
       "26     2008-10-17   Free  http://store.steampowered.com/app/1230/Mare_No...   \n",
       "36     2006-02-07  14.99  http://store.steampowered.com/app/1600/Dangero...   \n",
       "37     2006-02-07   9.99  http://store.steampowered.com/app/1610/Space_E...   \n",
       "...           ...    ...                                                ...   \n",
       "22524  2012-10-25  24.99  http://store.steampowered.com/app/2028055/Tom_...   \n",
       "22525  2012-10-10  14.99  http://store.steampowered.com/app/2028056/Worm...   \n",
       "22526    Feb 2013  49.99  http://store.steampowered.com/app/2028062/Call...   \n",
       "22527  2012-11-20  29.99  http://store.steampowered.com/app/2028103/Assa...   \n",
       "22528  2013-06-25   4.99  http://store.steampowered.com/app/2028850/Bios...   \n",
       "\n",
       "                                              UrlReviews  \n",
       "4      http://steamcommunity.com/app/50/reviews/?brow...  \n",
       "8      http://steamcommunity.com/app/130/reviews/?bro...  \n",
       "26     http://steamcommunity.com/app/1230/reviews/?br...  \n",
       "36     http://steamcommunity.com/app/1600/reviews/?br...  \n",
       "37     http://steamcommunity.com/app/1610/reviews/?br...  \n",
       "...                                                  ...  \n",
       "22524  http://steamcommunity.com/app/2028055/reviews/...  \n",
       "22525  http://steamcommunity.com/app/2028056/reviews/...  \n",
       "22526  http://steamcommunity.com/app/2028062/reviews/...  \n",
       "22527  http://steamcommunity.com/app/2028103/reviews/...  \n",
       "22528  http://steamcommunity.com/app/2028850/reviews/...  \n",
       "\n",
       "[11001 rows x 12 columns]"
      ]
     },
     "execution_count": 26,
     "metadata": {},
     "output_type": "execute_result"
    }
   ],
   "source": [
    "filasDevPubDiferentes"
   ]
  },
  {
   "cell_type": "markdown",
   "metadata": {},
   "source": [
    "**Columna Genres**\n",
    "\n",
    "1. *Tal como lo vimos en el EDA inicial la columna Genres está compuesta por listas*.\n",
    "2. *Se toma la decisión de crear un dataframe que contenga la información del IdApp y sus generos mediante valores dummies.*"
   ]
  },
  {
   "cell_type": "code",
   "execution_count": 27,
   "metadata": {},
   "outputs": [],
   "source": [
    "dfGenres = dfSteam[[\"IdApp\", \"Genres\"]]"
   ]
  },
  {
   "cell_type": "markdown",
   "metadata": {},
   "source": [
    "*Se crea una lista con los generos únicos del dataframe:*"
   ]
  },
  {
   "cell_type": "code",
   "execution_count": 28,
   "metadata": {},
   "outputs": [
    {
     "data": {
      "text/plain": [
       "['Action',\n",
       " 'Adventure',\n",
       " 'Animation &amp; Modeling',\n",
       " 'Audio Production',\n",
       " 'Casual',\n",
       " 'Design &amp; Illustration',\n",
       " 'Early Access',\n",
       " 'Education',\n",
       " 'Free to Play',\n",
       " 'Indie',\n",
       " 'Massively Multiplayer',\n",
       " 'Photo Editing',\n",
       " 'RPG',\n",
       " 'Racing',\n",
       " 'Simulation',\n",
       " 'Software Training',\n",
       " 'Sports',\n",
       " 'Strategy',\n",
       " 'Utilities',\n",
       " 'Video Production',\n",
       " 'Web Publishing']"
      ]
     },
     "execution_count": 28,
     "metadata": {},
     "output_type": "execute_result"
    }
   ],
   "source": [
    "listaGeneros = []\n",
    "for e in dfGenres[\"Genres\"]:\n",
    "    for k in e:\n",
    "        listaGeneros.append(k)\n",
    "listaGeneros = sorted(list(set(listaGeneros)))\n",
    "\n",
    "listaGeneros"
   ]
  },
  {
   "cell_type": "markdown",
   "metadata": {},
   "source": [
    "*Creamos las columnas con cada uno de los generos:*\n",
    "\n",
    "1. **Iteramos** *en la lista generos que creamos*\n",
    "2. *Aplicamos una **función lambda** que determina si el genero está presente en la columna genres, sí está presente ingresa un valor de 1, si no lo está ingresa un valor de 0*.\n",
    "3. *Revisamos que se ejecutó correctamente y **eliminamos la columna genres**.*\n",
    "4. *Renombramos unas columnas.*"
   ]
  },
  {
   "cell_type": "code",
   "execution_count": 30,
   "metadata": {},
   "outputs": [],
   "source": [
    "for genero in listaGeneros:\n",
    "    dfGenres[genero] = dfGenres['Genres'].apply(lambda valor: 1 if genero in valor else 0)"
   ]
  },
  {
   "cell_type": "code",
   "execution_count": 31,
   "metadata": {},
   "outputs": [
    {
     "data": {
      "text/html": [
       "<div>\n",
       "<style scoped>\n",
       "    .dataframe tbody tr th:only-of-type {\n",
       "        vertical-align: middle;\n",
       "    }\n",
       "\n",
       "    .dataframe tbody tr th {\n",
       "        vertical-align: top;\n",
       "    }\n",
       "\n",
       "    .dataframe thead th {\n",
       "        text-align: right;\n",
       "    }\n",
       "</style>\n",
       "<table border=\"1\" class=\"dataframe\">\n",
       "  <thead>\n",
       "    <tr style=\"text-align: right;\">\n",
       "      <th></th>\n",
       "      <th>IdApp</th>\n",
       "      <th>Genres</th>\n",
       "      <th>Action</th>\n",
       "      <th>Adventure</th>\n",
       "      <th>Animation &amp;amp; Modeling</th>\n",
       "      <th>Audio Production</th>\n",
       "      <th>Casual</th>\n",
       "      <th>Design &amp;amp; Illustration</th>\n",
       "      <th>Early Access</th>\n",
       "      <th>Education</th>\n",
       "      <th>...</th>\n",
       "      <th>Photo Editing</th>\n",
       "      <th>RPG</th>\n",
       "      <th>Racing</th>\n",
       "      <th>Simulation</th>\n",
       "      <th>Software Training</th>\n",
       "      <th>Sports</th>\n",
       "      <th>Strategy</th>\n",
       "      <th>Utilities</th>\n",
       "      <th>Video Production</th>\n",
       "      <th>Web Publishing</th>\n",
       "    </tr>\n",
       "  </thead>\n",
       "  <tbody>\n",
       "    <tr>\n",
       "      <th>60</th>\n",
       "      <td>2390</td>\n",
       "      <td>[Action]</td>\n",
       "      <td>1</td>\n",
       "      <td>0</td>\n",
       "      <td>0</td>\n",
       "      <td>0</td>\n",
       "      <td>0</td>\n",
       "      <td>0</td>\n",
       "      <td>0</td>\n",
       "      <td>0</td>\n",
       "      <td>...</td>\n",
       "      <td>0</td>\n",
       "      <td>0</td>\n",
       "      <td>0</td>\n",
       "      <td>0</td>\n",
       "      <td>0</td>\n",
       "      <td>0</td>\n",
       "      <td>0</td>\n",
       "      <td>0</td>\n",
       "      <td>0</td>\n",
       "      <td>0</td>\n",
       "    </tr>\n",
       "    <tr>\n",
       "      <th>61</th>\n",
       "      <td>2400</td>\n",
       "      <td>[Action, Indie, RPG]</td>\n",
       "      <td>1</td>\n",
       "      <td>0</td>\n",
       "      <td>0</td>\n",
       "      <td>0</td>\n",
       "      <td>0</td>\n",
       "      <td>0</td>\n",
       "      <td>0</td>\n",
       "      <td>0</td>\n",
       "      <td>...</td>\n",
       "      <td>0</td>\n",
       "      <td>1</td>\n",
       "      <td>0</td>\n",
       "      <td>0</td>\n",
       "      <td>0</td>\n",
       "      <td>0</td>\n",
       "      <td>0</td>\n",
       "      <td>0</td>\n",
       "      <td>0</td>\n",
       "      <td>0</td>\n",
       "    </tr>\n",
       "    <tr>\n",
       "      <th>62</th>\n",
       "      <td>2420</td>\n",
       "      <td>[Action, Indie, RPG]</td>\n",
       "      <td>1</td>\n",
       "      <td>0</td>\n",
       "      <td>0</td>\n",
       "      <td>0</td>\n",
       "      <td>0</td>\n",
       "      <td>0</td>\n",
       "      <td>0</td>\n",
       "      <td>0</td>\n",
       "      <td>...</td>\n",
       "      <td>0</td>\n",
       "      <td>1</td>\n",
       "      <td>0</td>\n",
       "      <td>0</td>\n",
       "      <td>0</td>\n",
       "      <td>0</td>\n",
       "      <td>0</td>\n",
       "      <td>0</td>\n",
       "      <td>0</td>\n",
       "      <td>0</td>\n",
       "    </tr>\n",
       "    <tr>\n",
       "      <th>63</th>\n",
       "      <td>2450</td>\n",
       "      <td>[Action]</td>\n",
       "      <td>1</td>\n",
       "      <td>0</td>\n",
       "      <td>0</td>\n",
       "      <td>0</td>\n",
       "      <td>0</td>\n",
       "      <td>0</td>\n",
       "      <td>0</td>\n",
       "      <td>0</td>\n",
       "      <td>...</td>\n",
       "      <td>0</td>\n",
       "      <td>0</td>\n",
       "      <td>0</td>\n",
       "      <td>0</td>\n",
       "      <td>0</td>\n",
       "      <td>0</td>\n",
       "      <td>0</td>\n",
       "      <td>0</td>\n",
       "      <td>0</td>\n",
       "      <td>0</td>\n",
       "    </tr>\n",
       "    <tr>\n",
       "      <th>64</th>\n",
       "      <td>2500</td>\n",
       "      <td>[Action]</td>\n",
       "      <td>1</td>\n",
       "      <td>0</td>\n",
       "      <td>0</td>\n",
       "      <td>0</td>\n",
       "      <td>0</td>\n",
       "      <td>0</td>\n",
       "      <td>0</td>\n",
       "      <td>0</td>\n",
       "      <td>...</td>\n",
       "      <td>0</td>\n",
       "      <td>0</td>\n",
       "      <td>0</td>\n",
       "      <td>0</td>\n",
       "      <td>0</td>\n",
       "      <td>0</td>\n",
       "      <td>0</td>\n",
       "      <td>0</td>\n",
       "      <td>0</td>\n",
       "      <td>0</td>\n",
       "    </tr>\n",
       "  </tbody>\n",
       "</table>\n",
       "<p>5 rows × 23 columns</p>\n",
       "</div>"
      ],
      "text/plain": [
       "    IdApp                Genres  Action  Adventure  Animation &amp; Modeling  \\\n",
       "60   2390              [Action]       1          0                         0   \n",
       "61   2400  [Action, Indie, RPG]       1          0                         0   \n",
       "62   2420  [Action, Indie, RPG]       1          0                         0   \n",
       "63   2450              [Action]       1          0                         0   \n",
       "64   2500              [Action]       1          0                         0   \n",
       "\n",
       "    Audio Production  Casual  Design &amp; Illustration  Early Access  \\\n",
       "60                 0       0                          0             0   \n",
       "61                 0       0                          0             0   \n",
       "62                 0       0                          0             0   \n",
       "63                 0       0                          0             0   \n",
       "64                 0       0                          0             0   \n",
       "\n",
       "    Education  ...  Photo Editing  RPG  Racing  Simulation  Software Training  \\\n",
       "60          0  ...              0    0       0           0                  0   \n",
       "61          0  ...              0    1       0           0                  0   \n",
       "62          0  ...              0    1       0           0                  0   \n",
       "63          0  ...              0    0       0           0                  0   \n",
       "64          0  ...              0    0       0           0                  0   \n",
       "\n",
       "    Sports  Strategy  Utilities  Video Production  Web Publishing  \n",
       "60       0         0          0                 0               0  \n",
       "61       0         0          0                 0               0  \n",
       "62       0         0          0                 0               0  \n",
       "63       0         0          0                 0               0  \n",
       "64       0         0          0                 0               0  \n",
       "\n",
       "[5 rows x 23 columns]"
      ]
     },
     "execution_count": 31,
     "metadata": {},
     "output_type": "execute_result"
    }
   ],
   "source": [
    "dfGenres.iloc[60:65]"
   ]
  },
  {
   "cell_type": "code",
   "execution_count": 32,
   "metadata": {},
   "outputs": [],
   "source": [
    "dfGenres.drop(columns=[\"Genres\"],inplace=True)\n",
    "dfGenres.rename(columns={\"Animation &amp; Modeling\":\"Animation & Modeling\",\n",
    "                         \"Design &amp; Illustration\":\"Design & Illustration\"},inplace=True)"
   ]
  },
  {
   "cell_type": "markdown",
   "metadata": {},
   "source": [
    "*Ahora eliminamos la columna genres de nuestro dataframe principal:*"
   ]
  },
  {
   "cell_type": "code",
   "execution_count": 33,
   "metadata": {},
   "outputs": [
    {
     "data": {
      "text/html": [
       "<div>\n",
       "<style scoped>\n",
       "    .dataframe tbody tr th:only-of-type {\n",
       "        vertical-align: middle;\n",
       "    }\n",
       "\n",
       "    .dataframe tbody tr th {\n",
       "        vertical-align: top;\n",
       "    }\n",
       "\n",
       "    .dataframe thead th {\n",
       "        text-align: right;\n",
       "    }\n",
       "</style>\n",
       "<table border=\"1\" class=\"dataframe\">\n",
       "  <thead>\n",
       "    <tr style=\"text-align: right;\">\n",
       "      <th></th>\n",
       "      <th>IdApp</th>\n",
       "      <th>Name</th>\n",
       "      <th>Developer</th>\n",
       "      <th>Publisher</th>\n",
       "      <th>Tags</th>\n",
       "      <th>Specs</th>\n",
       "      <th>EarlyAccess</th>\n",
       "      <th>ReleaseDate</th>\n",
       "      <th>Price</th>\n",
       "      <th>Url</th>\n",
       "      <th>UrlReviews</th>\n",
       "    </tr>\n",
       "  </thead>\n",
       "  <tbody>\n",
       "    <tr>\n",
       "      <th>0</th>\n",
       "      <td>10</td>\n",
       "      <td>Counter-Strike</td>\n",
       "      <td>Valve</td>\n",
       "      <td>Valve</td>\n",
       "      <td>[Action, FPS, Multiplayer, Shooter, Classic, T...</td>\n",
       "      <td>[Multi-player, Valve Anti-Cheat enabled]</td>\n",
       "      <td>0.0</td>\n",
       "      <td>2000-11-01</td>\n",
       "      <td>9.99</td>\n",
       "      <td>http://store.steampowered.com/app/10/CounterSt...</td>\n",
       "      <td>http://steamcommunity.com/app/10/reviews/?brow...</td>\n",
       "    </tr>\n",
       "  </tbody>\n",
       "</table>\n",
       "</div>"
      ],
      "text/plain": [
       "   IdApp            Name Developer Publisher  \\\n",
       "0     10  Counter-Strike     Valve     Valve   \n",
       "\n",
       "                                                Tags  \\\n",
       "0  [Action, FPS, Multiplayer, Shooter, Classic, T...   \n",
       "\n",
       "                                      Specs  EarlyAccess ReleaseDate Price  \\\n",
       "0  [Multi-player, Valve Anti-Cheat enabled]          0.0  2000-11-01  9.99   \n",
       "\n",
       "                                                 Url  \\\n",
       "0  http://store.steampowered.com/app/10/CounterSt...   \n",
       "\n",
       "                                          UrlReviews  \n",
       "0  http://steamcommunity.com/app/10/reviews/?brow...  "
      ]
     },
     "execution_count": 33,
     "metadata": {},
     "output_type": "execute_result"
    }
   ],
   "source": [
    "dfSteam.drop(columns=[\"Genres\"],inplace=True)\n",
    "dfSteam.head(1)"
   ]
  },
  {
   "cell_type": "markdown",
   "metadata": {},
   "source": [
    "**Columnas Tags, Specs, EarlyAccess, Url, UrlReviews**\n",
    "\n",
    "1. *Para efectos de este ejercicio estas columnas no serán necesarias para el **MPV**.*\n",
    "2. *Por lo tanto se decide **almacenar estas columnas en otro Dataframe** y si es pertinente su consulta más adelante tener acceso a la información.*"
   ]
  },
  {
   "cell_type": "code",
   "execution_count": 34,
   "metadata": {},
   "outputs": [],
   "source": [
    "dfMetadataSteam = dfSteam[[\"IdApp\", \"Tags\", \"Specs\", \"EarlyAccess\", \"Url\", \"UrlReviews\"]].copy()"
   ]
  },
  {
   "cell_type": "code",
   "execution_count": 35,
   "metadata": {},
   "outputs": [],
   "source": [
    "dfSteam.drop(columns=[\"Tags\", \"Specs\", \"EarlyAccess\", \"Url\", \"UrlReviews\"],inplace=True)"
   ]
  },
  {
   "cell_type": "markdown",
   "metadata": {},
   "source": [
    "**Columna Release Date**\n",
    "\n",
    "1. *Observamos que esta columna tiene las fechas de lanzamiento de cada aplicación en **formato AÑO-MES-DIA**, aunque existen algunas excepciones*.\n",
    "2. *Para efectos del análisis se decide **dividir esta columna en dos**, una columna con el año de lanzamiento y otra columna con el mes de lanzamiento*.\n",
    "3. *Aplicamos un **iterador** que enumere la columna ReleaseDate, determinando lo siguiente:*\n",
    "\n",
    "    - *Sí el largo de la fecha es de **10 caracteres (YYYY-MM-DD)**, entonces los primero cuatro caracteres serán almacenandos en la columna año y los caracteres en la posición 5 y 6 se almacenarán como mes.*\n",
    "    - *Sí el largo de la fecha es de **8 caracteres (Feb 2023)**, entonces los4 utlimos caracteres serán almacenados en la columna año y los 3 primeros caracteres en la columna mes.*\n",
    "    - *De no cumplirse las dos condiciones anteriores, el año y el mes serán **Sin Datos**.*"
   ]
  },
  {
   "cell_type": "code",
   "execution_count": 36,
   "metadata": {},
   "outputs": [],
   "source": [
    "for i, e in enumerate(dfSteam[\"ReleaseDate\"]):\n",
    "    if len(e) == 10:\n",
    "        dfSteam.loc[i, \"ReleaseYear\"] = e[0:4]\n",
    "        dfSteam.loc[i, \"ReleaseMonth\"] = e[5:7]\n",
    "    elif len(e) == 8:\n",
    "        dfSteam.loc[i, \"ReleaseYear\"] = e[4:]\n",
    "        dfSteam.loc[i, \"ReleaseMonth\"] = e[:3]\n",
    "    else:\n",
    "        dfSteam.loc[i, \"ReleaseYear\"] = \"Sin Datos\"\n",
    "        dfSteam.loc[i, \"ReleaseMonth\"] = \"Sin Datos\""
   ]
  },
  {
   "cell_type": "markdown",
   "metadata": {},
   "source": [
    "*Aplicamos un iterador que enumere la columna ReleaseMonth, determinando lo siguiente:*\n",
    "\n",
    "    - En cada caso se reemplaza el **mes** por el numero de mes."
   ]
  },
  {
   "cell_type": "code",
   "execution_count": 37,
   "metadata": {},
   "outputs": [],
   "source": [
    "for i, e in enumerate(dfSteam[\"ReleaseMonth\"]):\n",
    "    match e:\n",
    "        case \"Jan\": dfSteam.loc[i, \"ReleaseMonth\"] = \"01\"\n",
    "        case \"Feb\": dfSteam.loc[i, \"ReleaseMonth\"] = \"02\"\n",
    "        case \"Mar\": dfSteam.loc[i, \"ReleaseMonth\"] = \"03\"\n",
    "        case \"Apr\": dfSteam.loc[i, \"ReleaseMonth\"] = \"04\"\n",
    "        case \"May\": dfSteam.loc[i, \"ReleaseMonth\"] = \"05\"\n",
    "        case \"Jun\": dfSteam.loc[i, \"ReleaseMonth\"] = \"06\"\n",
    "        case \"Jul\": dfSteam.loc[i, \"ReleaseMonth\"] = \"07\"\n",
    "        case \"Aug\": dfSteam.loc[i, \"ReleaseMonth\"] = \"08\"\n",
    "        case \"Sep\": dfSteam.loc[i, \"ReleaseMonth\"] = \"09\"\n",
    "        case \"Oct\": dfSteam.loc[i, \"ReleaseMonth\"] = \"10\"\n",
    "        case \"Nov\": dfSteam.loc[i, \"ReleaseMonth\"] = \"11\"\n",
    "        case \"Dec\": dfSteam.loc[i, \"ReleaseMonth\"] = \"12\""
   ]
  },
  {
   "cell_type": "markdown",
   "metadata": {},
   "source": [
    "*Revisamos que las transformaciones de los datos se aplicaron:*\n",
    "\n",
    "1. *Las transformaciones fueron **realizadas**.*\n",
    "2. *Procedemos a **eliminar** la columna DateRelease.*"
   ]
  },
  {
   "cell_type": "code",
   "execution_count": 38,
   "metadata": {},
   "outputs": [
    {
     "name": "stdout",
     "output_type": "stream",
     "text": [
      "['01', '02', '03', '04', '05', '06', '07', '08', '09', '10', '11', '12', 'Sin Datos']\n"
     ]
    }
   ],
   "source": [
    "listaMeses = []\n",
    "for e in dfSteam[\"ReleaseMonth\"]:\n",
    "    listaMeses.append(e)\n",
    "listaMeses = sorted(list(set(listaMeses)))\n",
    "print(listaMeses)"
   ]
  },
  {
   "cell_type": "code",
   "execution_count": 39,
   "metadata": {},
   "outputs": [
    {
     "name": "stdout",
     "output_type": "stream",
     "text": [
      "['1983', '1984', '1985', '1986', '1987', '1988', '1989', '1990', '1991', '1992', '1993', '1994', '1995', '1996', '1997', '1998', '1999', '2000', '2001', '2002', '2003', '2004', '2005', '2006', '2007', '2008', '2009', '2010', '2011', '2012', '2013', '2014', '2015', '2016', '2017', '2018', '2019', '2021', 'Sin Datos']\n"
     ]
    }
   ],
   "source": [
    "listaAños = []\n",
    "for e in dfSteam[\"ReleaseYear\"]:\n",
    "    listaAños.append(e)\n",
    "listaAños = sorted(list(set(listaAños)))\n",
    "print(listaAños)"
   ]
  },
  {
   "cell_type": "code",
   "execution_count": 40,
   "metadata": {},
   "outputs": [],
   "source": [
    "dfSteam.drop(columns=\"ReleaseDate\", inplace=True)"
   ]
  },
  {
   "cell_type": "markdown",
   "metadata": {},
   "source": [
    "**Columna Price**\n",
    "\n",
    "1. *Observamos que esta columna tiene valores de precios, pero algunos son **Free** en diferentes formatos de texto.*.\n",
    "2. *Vamos a **estandarizar todas las filas** que sus campos son: Free, Play Now, Demo, Install now y los reemplazaromos por Price = 0.00*.\n",
    "3. *Convertimos el tipo de dato de la columna en **String** para poder manipular los datos.*"
   ]
  },
  {
   "cell_type": "code",
   "execution_count": 41,
   "metadata": {},
   "outputs": [],
   "source": [
    "dfSteam[\"Price\"] = dfSteam[\"Price\"].astype(str)"
   ]
  },
  {
   "cell_type": "markdown",
   "metadata": {},
   "source": [
    "*Iteramos la columna Price:*\n",
    "\n",
    "1. *Sí el primer caracter de cada registro no es un digito, entonces significa que su precio es **Free**.*\n",
    "2. *Reemplazamos el valor por **0.00**.*"
   ]
  },
  {
   "cell_type": "code",
   "execution_count": 42,
   "metadata": {},
   "outputs": [],
   "source": [
    "for i, e in enumerate(dfSteam[\"Price\"]):\n",
    "    if e[0].isdigit() == False:\n",
    "        dfSteam.loc[i,\"Price\"] = \"0.00\""
   ]
  },
  {
   "cell_type": "markdown",
   "metadata": {},
   "source": [
    "*Convertimos la columna en tipo Float:*\n",
    "1. *Redondeamos los valores a **2 decimales**.*"
   ]
  },
  {
   "cell_type": "code",
   "execution_count": 43,
   "metadata": {},
   "outputs": [],
   "source": [
    "dfSteam[\"Price\"] = dfSteam[\"Price\"].astype(float)"
   ]
  },
  {
   "cell_type": "code",
   "execution_count": 44,
   "metadata": {},
   "outputs": [],
   "source": [
    "dfSteam[\"Price\"] = round(dfSteam[\"Price\"],2)"
   ]
  },
  {
   "cell_type": "markdown",
   "metadata": {},
   "source": [
    "*Creamos una lista de los valores unicos para revisar si quedó algún valor pendiente por cambiar:*\n",
    "\n",
    "1. *Todas las filas quedaron con valores adecuados*."
   ]
  },
  {
   "cell_type": "code",
   "execution_count": null,
   "metadata": {},
   "outputs": [],
   "source": [
    "listPrices = []\n",
    "for p in dfSteam[\"Price\"]:\n",
    "    listPrices.append(p)\n",
    "    \n",
    "listPrices= list(set(listPrices))\n",
    "listPrices"
   ]
  },
  {
   "cell_type": "markdown",
   "metadata": {},
   "source": [
    "### **Análisis Exploratorio Final** ###\n",
    "---\n",
    "\n",
    "*Aquí hacemos una revisión de los datos después de su transformación, con el objetivo de revisar si quedaron datos pendientes por transformar*.\n",
    "\n",
    "**Nota:** *Posterior a todas las transformaciones se realiza un EDA final, presente en el archivo EDA.ipynb*"
   ]
  },
  {
   "cell_type": "markdown",
   "metadata": {},
   "source": [
    "*Obtenemos una descripción de las columnas, sus tipos de datos y sus valores no nulos:*\n",
    "\n",
    "1. *El total de registros es de **22529**, y no se encuentran valores nulos*"
   ]
  },
  {
   "cell_type": "code",
   "execution_count": 46,
   "metadata": {},
   "outputs": [
    {
     "name": "stdout",
     "output_type": "stream",
     "text": [
      "<class 'pandas.core.frame.DataFrame'>\n",
      "RangeIndex: 22529 entries, 0 to 22528\n",
      "Data columns (total 7 columns):\n",
      " #   Column        Non-Null Count  Dtype  \n",
      "---  ------        --------------  -----  \n",
      " 0   IdApp         22529 non-null  int64  \n",
      " 1   Name          22529 non-null  object \n",
      " 2   Developer     22529 non-null  object \n",
      " 3   Publisher     22529 non-null  object \n",
      " 4   Price         22529 non-null  float64\n",
      " 5   ReleaseYear   22529 non-null  object \n",
      " 6   ReleaseMonth  22529 non-null  object \n",
      "dtypes: float64(1), int64(1), object(5)\n",
      "memory usage: 1.2+ MB\n"
     ]
    }
   ],
   "source": [
    "dfSteam.info()"
   ]
  },
  {
   "cell_type": "markdown",
   "metadata": {},
   "source": [
    "*Obtenemos una descripción estadística de los datos numéricos:*\n",
    "\n",
    "1. *El promedio de precio de una app es de **8.96**.*\n",
    "2. *El valor minimo de una app es de **0.00**.*\n",
    "3. *El valor maximo de una app es de **995.00**.*"
   ]
  },
  {
   "cell_type": "code",
   "execution_count": 47,
   "metadata": {},
   "outputs": [
    {
     "data": {
      "text/html": [
       "<div>\n",
       "<style scoped>\n",
       "    .dataframe tbody tr th:only-of-type {\n",
       "        vertical-align: middle;\n",
       "    }\n",
       "\n",
       "    .dataframe tbody tr th {\n",
       "        vertical-align: top;\n",
       "    }\n",
       "\n",
       "    .dataframe thead th {\n",
       "        text-align: right;\n",
       "    }\n",
       "</style>\n",
       "<table border=\"1\" class=\"dataframe\">\n",
       "  <thead>\n",
       "    <tr style=\"text-align: right;\">\n",
       "      <th></th>\n",
       "      <th>IdApp</th>\n",
       "      <th>Price</th>\n",
       "    </tr>\n",
       "  </thead>\n",
       "  <tbody>\n",
       "    <tr>\n",
       "      <th>count</th>\n",
       "      <td>2.252900e+04</td>\n",
       "      <td>22529.000000</td>\n",
       "    </tr>\n",
       "    <tr>\n",
       "      <th>mean</th>\n",
       "      <td>4.307083e+05</td>\n",
       "      <td>8.965943</td>\n",
       "    </tr>\n",
       "    <tr>\n",
       "      <th>std</th>\n",
       "      <td>1.918428e+05</td>\n",
       "      <td>15.414846</td>\n",
       "    </tr>\n",
       "    <tr>\n",
       "      <th>min</th>\n",
       "      <td>1.000000e+01</td>\n",
       "      <td>0.000000</td>\n",
       "    </tr>\n",
       "    <tr>\n",
       "      <th>25%</th>\n",
       "      <td>3.022900e+05</td>\n",
       "      <td>2.990000</td>\n",
       "    </tr>\n",
       "    <tr>\n",
       "      <th>50%</th>\n",
       "      <td>4.269280e+05</td>\n",
       "      <td>4.990000</td>\n",
       "    </tr>\n",
       "    <tr>\n",
       "      <th>75%</th>\n",
       "      <td>5.807000e+05</td>\n",
       "      <td>9.990000</td>\n",
       "    </tr>\n",
       "    <tr>\n",
       "      <th>max</th>\n",
       "      <td>2.028850e+06</td>\n",
       "      <td>995.000000</td>\n",
       "    </tr>\n",
       "  </tbody>\n",
       "</table>\n",
       "</div>"
      ],
      "text/plain": [
       "              IdApp         Price\n",
       "count  2.252900e+04  22529.000000\n",
       "mean   4.307083e+05      8.965943\n",
       "std    1.918428e+05     15.414846\n",
       "min    1.000000e+01      0.000000\n",
       "25%    3.022900e+05      2.990000\n",
       "50%    4.269280e+05      4.990000\n",
       "75%    5.807000e+05      9.990000\n",
       "max    2.028850e+06    995.000000"
      ]
     },
     "execution_count": 47,
     "metadata": {},
     "output_type": "execute_result"
    }
   ],
   "source": [
    "dfSteam.describe()"
   ]
  },
  {
   "cell_type": "code",
   "execution_count": 48,
   "metadata": {},
   "outputs": [
    {
     "data": {
      "text/plain": [
       "Index(['IdApp', 'Name', 'Developer', 'Publisher', 'Price', 'ReleaseYear',\n",
       "       'ReleaseMonth'],\n",
       "      dtype='object')"
      ]
     },
     "execution_count": 48,
     "metadata": {},
     "output_type": "execute_result"
    }
   ],
   "source": [
    "dfSteam.columns"
   ]
  },
  {
   "cell_type": "markdown",
   "metadata": {},
   "source": [
    "### **Exportación de datos a Parquet (Load)** ###\n",
    "---\n",
    "\n",
    "*Una vez hemos revisado nuestro dataframe, lo podemos exportar a un archivo **CSV** para guardar todos los cambios realizados*.\n",
    "\n",
    "*Sin embargo los archivos se guardaron en formato **parquet** para facilitar su manejo, ya que los archivos tipo parquet ocupan menos espacio.*\n",
    "\n",
    "**Nota:** *Los archivos se encuentran en la carpeta dataout.*"
   ]
  },
  {
   "cell_type": "code",
   "execution_count": 478,
   "metadata": {},
   "outputs": [],
   "source": [
    "#dfSteam.to_csv(\"datasets/out_steam_games.csv\", index=False, encoding=\"utf-8\")\n",
    "#dfGenres.to_csv(\"datasets/out_steam_genres.csv\", index=False, encoding=\"utf-8\")\n",
    "#dfMetadataSteam.to_csv(\"datasets/out_steam_metadata.csv\", index=False, encoding=\"utf-8\")"
   ]
  },
  {
   "cell_type": "code",
   "execution_count": 52,
   "metadata": {},
   "outputs": [],
   "source": [
    "gamesTab = pa.Table.from_pandas(dfSteam)\n",
    "dir = \"dataout/out_games.parquet\"\n",
    "pq.write_table(gamesTab,dir)"
   ]
  },
  {
   "cell_type": "code",
   "execution_count": 53,
   "metadata": {},
   "outputs": [],
   "source": [
    "genresTab = pa.Table.from_pandas(dfGenres)\n",
    "dir2 = \"datasout/out_genres_games.parquet\"\n",
    "pq.write_table(genresTab,dir2)"
   ]
  },
  {
   "cell_type": "code",
   "execution_count": 54,
   "metadata": {},
   "outputs": [],
   "source": [
    "metaTab = pa.Table.from_pandas(dfMetadataSteam)\n",
    "dir3 = \"dataout/out_metadata_games.parquet\"\n",
    "pq.write_table(metaTab,dir3)"
   ]
  }
 ],
 "metadata": {
  "kernelspec": {
   "display_name": "env",
   "language": "python",
   "name": "python3"
  },
  "language_info": {
   "codemirror_mode": {
    "name": "ipython",
    "version": 3
   },
   "file_extension": ".py",
   "mimetype": "text/x-python",
   "name": "python",
   "nbconvert_exporter": "python",
   "pygments_lexer": "ipython3",
   "version": "3.11.8"
  }
 },
 "nbformat": 4,
 "nbformat_minor": 2
}
