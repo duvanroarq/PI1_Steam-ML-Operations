{
 "cells": [
  {
   "cell_type": "markdown",
   "metadata": {},
   "source": [
    "# **ETL del dataset:** *users_items*"
   ]
  },
  {
   "cell_type": "markdown",
   "metadata": {},
   "source": [
    "#### **Importación de librerías** ####\n",
    "---\n",
    "\n",
    "*Para este cuaderno usaremos las siguientes librerías: **pandas**, **gzip**, **ast**, **numpy**y **pyarrow**.*"
   ]
  },
  {
   "cell_type": "code",
   "execution_count": 1,
   "metadata": {},
   "outputs": [],
   "source": [
    "import pandas as pd\n",
    "import gzip\n",
    "import ast\n",
    "import numpy as np\n",
    "import pyarrow as pa\n",
    "import pyarrow.parquet as pq"
   ]
  },
  {
   "cell_type": "markdown",
   "metadata": {},
   "source": [
    "#### **Extracción de los datos** ####\n",
    "---\n",
    "\n",
    "*Procedemos a abrir nuestro dataset y almacenarlo en un dataframe para visualizarlo y manejarlo en pandas.*\n",
    "\n",
    "1. *Encontramos un error en el formato del dataset que no permite abrirlo con la **forma tradicional**.*\n",
    "2. *Al extraer los datos **todas las filas tienen error** de importación, por lo tanto lo haremos de otra forma.*\n",
    "3. *Creamos una iteración que lea cada linea y con la función **literal_eval** convertir el tipo de dato a uno reconocible por Python*"
   ]
  },
  {
   "cell_type": "code",
   "execution_count": 2,
   "metadata": {},
   "outputs": [],
   "source": [
    "ruta = 'datasets/users_items.json.gz'"
   ]
  },
  {
   "cell_type": "code",
   "execution_count": 3,
   "metadata": {},
   "outputs": [],
   "source": [
    "listData = [] \n",
    "\n",
    "for line in gzip.open(ruta):\n",
    "    listData.append(ast.literal_eval(line.decode(\"utf-8\")))"
   ]
  },
  {
   "cell_type": "code",
   "execution_count": 4,
   "metadata": {},
   "outputs": [
    {
     "data": {
      "text/html": [
       "<div>\n",
       "<style scoped>\n",
       "    .dataframe tbody tr th:only-of-type {\n",
       "        vertical-align: middle;\n",
       "    }\n",
       "\n",
       "    .dataframe tbody tr th {\n",
       "        vertical-align: top;\n",
       "    }\n",
       "\n",
       "    .dataframe thead th {\n",
       "        text-align: right;\n",
       "    }\n",
       "</style>\n",
       "<table border=\"1\" class=\"dataframe\">\n",
       "  <thead>\n",
       "    <tr style=\"text-align: right;\">\n",
       "      <th></th>\n",
       "      <th>user_id</th>\n",
       "      <th>items_count</th>\n",
       "      <th>steam_id</th>\n",
       "      <th>user_url</th>\n",
       "      <th>items</th>\n",
       "    </tr>\n",
       "  </thead>\n",
       "  <tbody>\n",
       "    <tr>\n",
       "      <th>0</th>\n",
       "      <td>76561197970982479</td>\n",
       "      <td>277</td>\n",
       "      <td>76561197970982479</td>\n",
       "      <td>http://steamcommunity.com/profiles/76561197970...</td>\n",
       "      <td>[{'item_id': '10', 'item_name': 'Counter-Strik...</td>\n",
       "    </tr>\n",
       "    <tr>\n",
       "      <th>1</th>\n",
       "      <td>js41637</td>\n",
       "      <td>888</td>\n",
       "      <td>76561198035864385</td>\n",
       "      <td>http://steamcommunity.com/id/js41637</td>\n",
       "      <td>[{'item_id': '10', 'item_name': 'Counter-Strik...</td>\n",
       "    </tr>\n",
       "    <tr>\n",
       "      <th>2</th>\n",
       "      <td>evcentric</td>\n",
       "      <td>137</td>\n",
       "      <td>76561198007712555</td>\n",
       "      <td>http://steamcommunity.com/id/evcentric</td>\n",
       "      <td>[{'item_id': '1200', 'item_name': 'Red Orchest...</td>\n",
       "    </tr>\n",
       "  </tbody>\n",
       "</table>\n",
       "</div>"
      ],
      "text/plain": [
       "             user_id  items_count           steam_id  \\\n",
       "0  76561197970982479          277  76561197970982479   \n",
       "1            js41637          888  76561198035864385   \n",
       "2          evcentric          137  76561198007712555   \n",
       "\n",
       "                                            user_url  \\\n",
       "0  http://steamcommunity.com/profiles/76561197970...   \n",
       "1               http://steamcommunity.com/id/js41637   \n",
       "2             http://steamcommunity.com/id/evcentric   \n",
       "\n",
       "                                               items  \n",
       "0  [{'item_id': '10', 'item_name': 'Counter-Strik...  \n",
       "1  [{'item_id': '10', 'item_name': 'Counter-Strik...  \n",
       "2  [{'item_id': '1200', 'item_name': 'Red Orchest...  "
      ]
     },
     "execution_count": 4,
     "metadata": {},
     "output_type": "execute_result"
    }
   ],
   "source": [
    "dfUsersItems = pd.DataFrame(listData)\n",
    "dfUsersItems.head(3)"
   ]
  },
  {
   "cell_type": "markdown",
   "metadata": {},
   "source": [
    "*Procedemos a normalizar los datos de la columna items:*\n",
    "\n",
    "1. *La columna items contiene datos que se encuentran **anidados**, así que debemos normalizarlos.*\n",
    "2. *Usamos la función **json_normalize** para explotar estos datos y transformarlos en columnas.*\n",
    "3. *Usamos el parametro **meta** para que la función nos conserve las columnas vistas anteriormente.*"
   ]
  },
  {
   "cell_type": "code",
   "execution_count": 5,
   "metadata": {},
   "outputs": [
    {
     "data": {
      "text/html": [
       "<div>\n",
       "<style scoped>\n",
       "    .dataframe tbody tr th:only-of-type {\n",
       "        vertical-align: middle;\n",
       "    }\n",
       "\n",
       "    .dataframe tbody tr th {\n",
       "        vertical-align: top;\n",
       "    }\n",
       "\n",
       "    .dataframe thead th {\n",
       "        text-align: right;\n",
       "    }\n",
       "</style>\n",
       "<table border=\"1\" class=\"dataframe\">\n",
       "  <thead>\n",
       "    <tr style=\"text-align: right;\">\n",
       "      <th></th>\n",
       "      <th>item_id</th>\n",
       "      <th>item_name</th>\n",
       "      <th>playtime_forever</th>\n",
       "      <th>playtime_2weeks</th>\n",
       "      <th>steam_id</th>\n",
       "      <th>items_count</th>\n",
       "      <th>user_id</th>\n",
       "      <th>user_url</th>\n",
       "    </tr>\n",
       "  </thead>\n",
       "  <tbody>\n",
       "    <tr>\n",
       "      <th>0</th>\n",
       "      <td>10</td>\n",
       "      <td>Counter-Strike</td>\n",
       "      <td>6</td>\n",
       "      <td>0</td>\n",
       "      <td>76561197970982479</td>\n",
       "      <td>277</td>\n",
       "      <td>76561197970982479</td>\n",
       "      <td>http://steamcommunity.com/profiles/76561197970...</td>\n",
       "    </tr>\n",
       "    <tr>\n",
       "      <th>1</th>\n",
       "      <td>20</td>\n",
       "      <td>Team Fortress Classic</td>\n",
       "      <td>0</td>\n",
       "      <td>0</td>\n",
       "      <td>76561197970982479</td>\n",
       "      <td>277</td>\n",
       "      <td>76561197970982479</td>\n",
       "      <td>http://steamcommunity.com/profiles/76561197970...</td>\n",
       "    </tr>\n",
       "    <tr>\n",
       "      <th>2</th>\n",
       "      <td>30</td>\n",
       "      <td>Day of Defeat</td>\n",
       "      <td>7</td>\n",
       "      <td>0</td>\n",
       "      <td>76561197970982479</td>\n",
       "      <td>277</td>\n",
       "      <td>76561197970982479</td>\n",
       "      <td>http://steamcommunity.com/profiles/76561197970...</td>\n",
       "    </tr>\n",
       "    <tr>\n",
       "      <th>3</th>\n",
       "      <td>40</td>\n",
       "      <td>Deathmatch Classic</td>\n",
       "      <td>0</td>\n",
       "      <td>0</td>\n",
       "      <td>76561197970982479</td>\n",
       "      <td>277</td>\n",
       "      <td>76561197970982479</td>\n",
       "      <td>http://steamcommunity.com/profiles/76561197970...</td>\n",
       "    </tr>\n",
       "    <tr>\n",
       "      <th>4</th>\n",
       "      <td>50</td>\n",
       "      <td>Half-Life: Opposing Force</td>\n",
       "      <td>0</td>\n",
       "      <td>0</td>\n",
       "      <td>76561197970982479</td>\n",
       "      <td>277</td>\n",
       "      <td>76561197970982479</td>\n",
       "      <td>http://steamcommunity.com/profiles/76561197970...</td>\n",
       "    </tr>\n",
       "  </tbody>\n",
       "</table>\n",
       "</div>"
      ],
      "text/plain": [
       "  item_id                  item_name  playtime_forever  playtime_2weeks  \\\n",
       "0      10             Counter-Strike                 6                0   \n",
       "1      20      Team Fortress Classic                 0                0   \n",
       "2      30              Day of Defeat                 7                0   \n",
       "3      40         Deathmatch Classic                 0                0   \n",
       "4      50  Half-Life: Opposing Force                 0                0   \n",
       "\n",
       "            steam_id items_count            user_id  \\\n",
       "0  76561197970982479         277  76561197970982479   \n",
       "1  76561197970982479         277  76561197970982479   \n",
       "2  76561197970982479         277  76561197970982479   \n",
       "3  76561197970982479         277  76561197970982479   \n",
       "4  76561197970982479         277  76561197970982479   \n",
       "\n",
       "                                            user_url  \n",
       "0  http://steamcommunity.com/profiles/76561197970...  \n",
       "1  http://steamcommunity.com/profiles/76561197970...  \n",
       "2  http://steamcommunity.com/profiles/76561197970...  \n",
       "3  http://steamcommunity.com/profiles/76561197970...  \n",
       "4  http://steamcommunity.com/profiles/76561197970...  "
      ]
     },
     "execution_count": 5,
     "metadata": {},
     "output_type": "execute_result"
    }
   ],
   "source": [
    "dfUsersItems= pd.json_normalize(listData, record_path=['items'], meta=['steam_id','items_count','user_id', 'user_url'] )\n",
    "dfUsersItems.head(5)"
   ]
  },
  {
   "cell_type": "markdown",
   "metadata": {},
   "source": [
    "### **Análisis Exploratorio Inicial** ###\n",
    "---\n",
    "\n",
    "*Vamos a realizar una **exploración de los datos** (EDA) antes de hacer transformación de los mismos, esto con el fin de **conocer las columnas** y determinar que campos son valiosos para nuestro análisis y así tener claro que pasos realizaremos en el ETL.*\n",
    "\n",
    "**Nota:**: *Posterior al ETL realizaremos también un [EDA](04_EDA.ipynb)\n",
    " enfocado en los datos y una descripción estadística.*"
   ]
  },
  {
   "cell_type": "markdown",
   "metadata": {},
   "source": [
    "#### **Revisión de la extracción de los datos** ####\n",
    "\n",
    "*Revisamos que los datos se cargaron adecuadamente en nuestro dataframe:*\n",
    "\n",
    "1. *Usamos **head** para previsualizar los primeros registros del Dataframe.*\n",
    "2. *Podemos observar que se cargaron adecuadamente los datos y no se ven por ahora anomalías en estos.*"
   ]
  },
  {
   "cell_type": "code",
   "execution_count": 6,
   "metadata": {},
   "outputs": [
    {
     "data": {
      "text/html": [
       "<div>\n",
       "<style scoped>\n",
       "    .dataframe tbody tr th:only-of-type {\n",
       "        vertical-align: middle;\n",
       "    }\n",
       "\n",
       "    .dataframe tbody tr th {\n",
       "        vertical-align: top;\n",
       "    }\n",
       "\n",
       "    .dataframe thead th {\n",
       "        text-align: right;\n",
       "    }\n",
       "</style>\n",
       "<table border=\"1\" class=\"dataframe\">\n",
       "  <thead>\n",
       "    <tr style=\"text-align: right;\">\n",
       "      <th></th>\n",
       "      <th>item_id</th>\n",
       "      <th>item_name</th>\n",
       "      <th>playtime_forever</th>\n",
       "      <th>playtime_2weeks</th>\n",
       "      <th>steam_id</th>\n",
       "      <th>items_count</th>\n",
       "      <th>user_id</th>\n",
       "      <th>user_url</th>\n",
       "    </tr>\n",
       "  </thead>\n",
       "  <tbody>\n",
       "    <tr>\n",
       "      <th>0</th>\n",
       "      <td>10</td>\n",
       "      <td>Counter-Strike</td>\n",
       "      <td>6</td>\n",
       "      <td>0</td>\n",
       "      <td>76561197970982479</td>\n",
       "      <td>277</td>\n",
       "      <td>76561197970982479</td>\n",
       "      <td>http://steamcommunity.com/profiles/76561197970...</td>\n",
       "    </tr>\n",
       "    <tr>\n",
       "      <th>1</th>\n",
       "      <td>20</td>\n",
       "      <td>Team Fortress Classic</td>\n",
       "      <td>0</td>\n",
       "      <td>0</td>\n",
       "      <td>76561197970982479</td>\n",
       "      <td>277</td>\n",
       "      <td>76561197970982479</td>\n",
       "      <td>http://steamcommunity.com/profiles/76561197970...</td>\n",
       "    </tr>\n",
       "    <tr>\n",
       "      <th>2</th>\n",
       "      <td>30</td>\n",
       "      <td>Day of Defeat</td>\n",
       "      <td>7</td>\n",
       "      <td>0</td>\n",
       "      <td>76561197970982479</td>\n",
       "      <td>277</td>\n",
       "      <td>76561197970982479</td>\n",
       "      <td>http://steamcommunity.com/profiles/76561197970...</td>\n",
       "    </tr>\n",
       "    <tr>\n",
       "      <th>3</th>\n",
       "      <td>40</td>\n",
       "      <td>Deathmatch Classic</td>\n",
       "      <td>0</td>\n",
       "      <td>0</td>\n",
       "      <td>76561197970982479</td>\n",
       "      <td>277</td>\n",
       "      <td>76561197970982479</td>\n",
       "      <td>http://steamcommunity.com/profiles/76561197970...</td>\n",
       "    </tr>\n",
       "    <tr>\n",
       "      <th>4</th>\n",
       "      <td>50</td>\n",
       "      <td>Half-Life: Opposing Force</td>\n",
       "      <td>0</td>\n",
       "      <td>0</td>\n",
       "      <td>76561197970982479</td>\n",
       "      <td>277</td>\n",
       "      <td>76561197970982479</td>\n",
       "      <td>http://steamcommunity.com/profiles/76561197970...</td>\n",
       "    </tr>\n",
       "  </tbody>\n",
       "</table>\n",
       "</div>"
      ],
      "text/plain": [
       "  item_id                  item_name  playtime_forever  playtime_2weeks  \\\n",
       "0      10             Counter-Strike                 6                0   \n",
       "1      20      Team Fortress Classic                 0                0   \n",
       "2      30              Day of Defeat                 7                0   \n",
       "3      40         Deathmatch Classic                 0                0   \n",
       "4      50  Half-Life: Opposing Force                 0                0   \n",
       "\n",
       "            steam_id items_count            user_id  \\\n",
       "0  76561197970982479         277  76561197970982479   \n",
       "1  76561197970982479         277  76561197970982479   \n",
       "2  76561197970982479         277  76561197970982479   \n",
       "3  76561197970982479         277  76561197970982479   \n",
       "4  76561197970982479         277  76561197970982479   \n",
       "\n",
       "                                            user_url  \n",
       "0  http://steamcommunity.com/profiles/76561197970...  \n",
       "1  http://steamcommunity.com/profiles/76561197970...  \n",
       "2  http://steamcommunity.com/profiles/76561197970...  \n",
       "3  http://steamcommunity.com/profiles/76561197970...  \n",
       "4  http://steamcommunity.com/profiles/76561197970...  "
      ]
     },
     "execution_count": 6,
     "metadata": {},
     "output_type": "execute_result"
    }
   ],
   "source": [
    "dfUsersItems.head(5)"
   ]
  },
  {
   "cell_type": "markdown",
   "metadata": {},
   "source": [
    "*Revisemos si este patrón se repite en todos los datos:*\n",
    "\n",
    "1. *Usamos **tail** para previsualizar los últimos registros del Dataframe.*\n",
    "2. *No se observan anomalías por ahora.*"
   ]
  },
  {
   "cell_type": "code",
   "execution_count": 7,
   "metadata": {},
   "outputs": [
    {
     "data": {
      "text/html": [
       "<div>\n",
       "<style scoped>\n",
       "    .dataframe tbody tr th:only-of-type {\n",
       "        vertical-align: middle;\n",
       "    }\n",
       "\n",
       "    .dataframe tbody tr th {\n",
       "        vertical-align: top;\n",
       "    }\n",
       "\n",
       "    .dataframe thead th {\n",
       "        text-align: right;\n",
       "    }\n",
       "</style>\n",
       "<table border=\"1\" class=\"dataframe\">\n",
       "  <thead>\n",
       "    <tr style=\"text-align: right;\">\n",
       "      <th></th>\n",
       "      <th>item_id</th>\n",
       "      <th>item_name</th>\n",
       "      <th>playtime_forever</th>\n",
       "      <th>playtime_2weeks</th>\n",
       "      <th>steam_id</th>\n",
       "      <th>items_count</th>\n",
       "      <th>user_id</th>\n",
       "      <th>user_url</th>\n",
       "    </tr>\n",
       "  </thead>\n",
       "  <tbody>\n",
       "    <tr>\n",
       "      <th>5153206</th>\n",
       "      <td>388490</td>\n",
       "      <td>One Way To Die: Steam Edition</td>\n",
       "      <td>3</td>\n",
       "      <td>3</td>\n",
       "      <td>76561198329548331</td>\n",
       "      <td>7</td>\n",
       "      <td>76561198329548331</td>\n",
       "      <td>http://steamcommunity.com/profiles/76561198329...</td>\n",
       "    </tr>\n",
       "    <tr>\n",
       "      <th>5153207</th>\n",
       "      <td>521570</td>\n",
       "      <td>You Have 10 Seconds 2</td>\n",
       "      <td>4</td>\n",
       "      <td>4</td>\n",
       "      <td>76561198329548331</td>\n",
       "      <td>7</td>\n",
       "      <td>76561198329548331</td>\n",
       "      <td>http://steamcommunity.com/profiles/76561198329...</td>\n",
       "    </tr>\n",
       "    <tr>\n",
       "      <th>5153208</th>\n",
       "      <td>519140</td>\n",
       "      <td>Minds Eyes</td>\n",
       "      <td>3</td>\n",
       "      <td>3</td>\n",
       "      <td>76561198329548331</td>\n",
       "      <td>7</td>\n",
       "      <td>76561198329548331</td>\n",
       "      <td>http://steamcommunity.com/profiles/76561198329...</td>\n",
       "    </tr>\n",
       "  </tbody>\n",
       "</table>\n",
       "</div>"
      ],
      "text/plain": [
       "        item_id                      item_name  playtime_forever  \\\n",
       "5153206  388490  One Way To Die: Steam Edition                 3   \n",
       "5153207  521570          You Have 10 Seconds 2                 4   \n",
       "5153208  519140                     Minds Eyes                 3   \n",
       "\n",
       "         playtime_2weeks           steam_id items_count            user_id  \\\n",
       "5153206                3  76561198329548331           7  76561198329548331   \n",
       "5153207                4  76561198329548331           7  76561198329548331   \n",
       "5153208                3  76561198329548331           7  76561198329548331   \n",
       "\n",
       "                                                  user_url  \n",
       "5153206  http://steamcommunity.com/profiles/76561198329...  \n",
       "5153207  http://steamcommunity.com/profiles/76561198329...  \n",
       "5153208  http://steamcommunity.com/profiles/76561198329...  "
      ]
     },
     "execution_count": 7,
     "metadata": {},
     "output_type": "execute_result"
    }
   ],
   "source": [
    "dfUsersItems.tail(3)"
   ]
  },
  {
   "cell_type": "markdown",
   "metadata": {},
   "source": [
    "*Revisamos la forma del dataframe:*\n",
    "\n",
    "1. *Usamos **shape** obtener el número de filas y columnas del dataframe.*\n",
    "2. *Nuestro dataframe tiene **5153209 filas y 8 columnas**.*"
   ]
  },
  {
   "cell_type": "code",
   "execution_count": 8,
   "metadata": {},
   "outputs": [
    {
     "data": {
      "text/plain": [
       "(5153209, 8)"
      ]
     },
     "execution_count": 8,
     "metadata": {},
     "output_type": "execute_result"
    }
   ],
   "source": [
    "dfUsersItems.shape"
   ]
  },
  {
   "cell_type": "markdown",
   "metadata": {},
   "source": [
    "#### **Exploración de las columnas** ####\n",
    "\n",
    "*Vamos a revisar qué columnas existen en el dataframe y de qué tipo son:*\n",
    "\n",
    "1. *Usamos el método **dtypes** para listar las columnas y sus tipos.*\n",
    "2. *Observamos que dos de las columnas contienen datos numéricos identificados como **int64**.*\n",
    "3. *Las demás columnas son de tipo **object**.*"
   ]
  },
  {
   "cell_type": "code",
   "execution_count": 9,
   "metadata": {},
   "outputs": [
    {
     "data": {
      "text/plain": [
       "item_id             object\n",
       "item_name           object\n",
       "playtime_forever     int64\n",
       "playtime_2weeks      int64\n",
       "steam_id            object\n",
       "items_count         object\n",
       "user_id             object\n",
       "user_url            object\n",
       "dtype: object"
      ]
     },
     "execution_count": 9,
     "metadata": {},
     "output_type": "execute_result"
    }
   ],
   "source": [
    "dfUsersItems.dtypes"
   ]
  },
  {
   "cell_type": "markdown",
   "metadata": {},
   "source": [
    "*Revisemos qué tipos de datos almacena cada columna a detalle:*\n",
    "\n",
    "1. *Hacemos una **iteración** que nos permite recorrer los valores de cada columna para encontrar sus tipos.*\n",
    "2. *Observamos que las columnas **playtime** son de tipo int, al igual que la columna **items_count**.*\n",
    "3. *La columna **item_id** es de tipo string, pero podríamos convertirla a int.*"
   ]
  },
  {
   "cell_type": "code",
   "execution_count": 10,
   "metadata": {},
   "outputs": [
    {
     "data": {
      "text/html": [
       "<div>\n",
       "<style scoped>\n",
       "    .dataframe tbody tr th:only-of-type {\n",
       "        vertical-align: middle;\n",
       "    }\n",
       "\n",
       "    .dataframe tbody tr th {\n",
       "        vertical-align: top;\n",
       "    }\n",
       "\n",
       "    .dataframe thead th {\n",
       "        text-align: right;\n",
       "    }\n",
       "</style>\n",
       "<table border=\"1\" class=\"dataframe\">\n",
       "  <thead>\n",
       "    <tr style=\"text-align: right;\">\n",
       "      <th></th>\n",
       "      <th>Columna</th>\n",
       "      <th>Tipos</th>\n",
       "    </tr>\n",
       "  </thead>\n",
       "  <tbody>\n",
       "    <tr>\n",
       "      <th>0</th>\n",
       "      <td>item_id</td>\n",
       "      <td>[&lt;class 'str'&gt;]</td>\n",
       "    </tr>\n",
       "    <tr>\n",
       "      <th>1</th>\n",
       "      <td>item_name</td>\n",
       "      <td>[&lt;class 'str'&gt;]</td>\n",
       "    </tr>\n",
       "    <tr>\n",
       "      <th>2</th>\n",
       "      <td>playtime_forever</td>\n",
       "      <td>[&lt;class 'int'&gt;]</td>\n",
       "    </tr>\n",
       "    <tr>\n",
       "      <th>3</th>\n",
       "      <td>playtime_2weeks</td>\n",
       "      <td>[&lt;class 'int'&gt;]</td>\n",
       "    </tr>\n",
       "    <tr>\n",
       "      <th>4</th>\n",
       "      <td>steam_id</td>\n",
       "      <td>[&lt;class 'str'&gt;]</td>\n",
       "    </tr>\n",
       "    <tr>\n",
       "      <th>5</th>\n",
       "      <td>items_count</td>\n",
       "      <td>[&lt;class 'int'&gt;]</td>\n",
       "    </tr>\n",
       "    <tr>\n",
       "      <th>6</th>\n",
       "      <td>user_id</td>\n",
       "      <td>[&lt;class 'str'&gt;]</td>\n",
       "    </tr>\n",
       "    <tr>\n",
       "      <th>7</th>\n",
       "      <td>user_url</td>\n",
       "      <td>[&lt;class 'str'&gt;]</td>\n",
       "    </tr>\n",
       "  </tbody>\n",
       "</table>\n",
       "</div>"
      ],
      "text/plain": [
       "            Columna            Tipos\n",
       "0           item_id  [<class 'str'>]\n",
       "1         item_name  [<class 'str'>]\n",
       "2  playtime_forever  [<class 'int'>]\n",
       "3   playtime_2weeks  [<class 'int'>]\n",
       "4          steam_id  [<class 'str'>]\n",
       "5       items_count  [<class 'int'>]\n",
       "6           user_id  [<class 'str'>]\n",
       "7          user_url  [<class 'str'>]"
      ]
     },
     "execution_count": 10,
     "metadata": {},
     "output_type": "execute_result"
    }
   ],
   "source": [
    "tipoDatos = {\"Columna\":[], \"Tipos\":[]}\n",
    "for c in dfUsersItems.columns:\n",
    "    tipoDatos[\"Columna\"].append(c)\n",
    "    tipoDatos[\"Tipos\"].append(dfUsersItems[c].apply(type).unique())\n",
    "    \n",
    "dfTypes = pd.DataFrame(tipoDatos)\n",
    "dfTypes"
   ]
  },
  {
   "cell_type": "markdown",
   "metadata": {},
   "source": [
    "*Revisemos las columnas consideradas como numéricas:*\n",
    "\n",
    "1. *Usamos **describe()** para obtener un resumen de estas columnas.*\n",
    "2. *Por ahora no dicen mucho sobre nuestros datos ya que podríans ser columnas no muy útiles para nuestro análisis.*"
   ]
  },
  {
   "cell_type": "code",
   "execution_count": 11,
   "metadata": {},
   "outputs": [
    {
     "data": {
      "text/html": [
       "<div>\n",
       "<style scoped>\n",
       "    .dataframe tbody tr th:only-of-type {\n",
       "        vertical-align: middle;\n",
       "    }\n",
       "\n",
       "    .dataframe tbody tr th {\n",
       "        vertical-align: top;\n",
       "    }\n",
       "\n",
       "    .dataframe thead th {\n",
       "        text-align: right;\n",
       "    }\n",
       "</style>\n",
       "<table border=\"1\" class=\"dataframe\">\n",
       "  <thead>\n",
       "    <tr style=\"text-align: right;\">\n",
       "      <th></th>\n",
       "      <th>playtime_forever</th>\n",
       "      <th>playtime_2weeks</th>\n",
       "    </tr>\n",
       "  </thead>\n",
       "  <tbody>\n",
       "    <tr>\n",
       "      <th>count</th>\n",
       "      <td>5.153209e+06</td>\n",
       "      <td>5.153209e+06</td>\n",
       "    </tr>\n",
       "    <tr>\n",
       "      <th>mean</th>\n",
       "      <td>9.914951e+02</td>\n",
       "      <td>9.104707e+00</td>\n",
       "    </tr>\n",
       "    <tr>\n",
       "      <th>std</th>\n",
       "      <td>5.418204e+03</td>\n",
       "      <td>1.403926e+02</td>\n",
       "    </tr>\n",
       "    <tr>\n",
       "      <th>min</th>\n",
       "      <td>0.000000e+00</td>\n",
       "      <td>0.000000e+00</td>\n",
       "    </tr>\n",
       "    <tr>\n",
       "      <th>25%</th>\n",
       "      <td>0.000000e+00</td>\n",
       "      <td>0.000000e+00</td>\n",
       "    </tr>\n",
       "    <tr>\n",
       "      <th>50%</th>\n",
       "      <td>3.400000e+01</td>\n",
       "      <td>0.000000e+00</td>\n",
       "    </tr>\n",
       "    <tr>\n",
       "      <th>75%</th>\n",
       "      <td>3.550000e+02</td>\n",
       "      <td>0.000000e+00</td>\n",
       "    </tr>\n",
       "    <tr>\n",
       "      <th>max</th>\n",
       "      <td>6.427730e+05</td>\n",
       "      <td>1.996700e+04</td>\n",
       "    </tr>\n",
       "  </tbody>\n",
       "</table>\n",
       "</div>"
      ],
      "text/plain": [
       "       playtime_forever  playtime_2weeks\n",
       "count      5.153209e+06     5.153209e+06\n",
       "mean       9.914951e+02     9.104707e+00\n",
       "std        5.418204e+03     1.403926e+02\n",
       "min        0.000000e+00     0.000000e+00\n",
       "25%        0.000000e+00     0.000000e+00\n",
       "50%        3.400000e+01     0.000000e+00\n",
       "75%        3.550000e+02     0.000000e+00\n",
       "max        6.427730e+05     1.996700e+04"
      ]
     },
     "execution_count": 11,
     "metadata": {},
     "output_type": "execute_result"
    }
   ],
   "source": [
    "dfUsersItems.describe()"
   ]
  },
  {
   "cell_type": "markdown",
   "metadata": {},
   "source": [
    "*Revisemos los valores alojados en cada columna para saber cuantos son validos, es decir no nulos:*\n",
    "\n",
    "1. *Usamos **info()** para obtener un conteo de los valores válidos por columnas*\n",
    "2. *Sin embargo este no nos trae un valor aproximado, posiblemente por el número de filas.*"
   ]
  },
  {
   "cell_type": "code",
   "execution_count": 12,
   "metadata": {},
   "outputs": [
    {
     "name": "stdout",
     "output_type": "stream",
     "text": [
      "<class 'pandas.core.frame.DataFrame'>\n",
      "RangeIndex: 5153209 entries, 0 to 5153208\n",
      "Data columns (total 8 columns):\n",
      " #   Column            Dtype \n",
      "---  ------            ----- \n",
      " 0   item_id           object\n",
      " 1   item_name         object\n",
      " 2   playtime_forever  int64 \n",
      " 3   playtime_2weeks   int64 \n",
      " 4   steam_id          object\n",
      " 5   items_count       object\n",
      " 6   user_id           object\n",
      " 7   user_url          object\n",
      "dtypes: int64(2), object(6)\n",
      "memory usage: 314.5+ MB\n"
     ]
    }
   ],
   "source": [
    "dfUsersItems.info()"
   ]
  },
  {
   "cell_type": "markdown",
   "metadata": {},
   "source": [
    "*Revisemos las columnas en porcentajes de valores nulos:*\n",
    "\n",
    "1. *Usamos **isnull()** y **sum()** para obtener una suma de los valores nulos por columna.*\n",
    "2. *Observamos que entre el **70% y 80%** de los regitros de cada columna son vacíos.*"
   ]
  },
  {
   "cell_type": "code",
   "execution_count": 13,
   "metadata": {},
   "outputs": [
    {
     "data": {
      "text/plain": [
       "item_id             0.0\n",
       "item_name           0.0\n",
       "playtime_forever    0.0\n",
       "playtime_2weeks     0.0\n",
       "steam_id            0.0\n",
       "items_count         0.0\n",
       "user_id             0.0\n",
       "user_url            0.0\n",
       "dtype: float64"
      ]
     },
     "execution_count": 13,
     "metadata": {},
     "output_type": "execute_result"
    }
   ],
   "source": [
    "nulosPorCol = dfUsersItems.isnull().sum()\n",
    "porcentajePorCol = (nulosPorCol/dfUsersItems.shape[0])*100\n",
    "porcentajePorCol"
   ]
  },
  {
   "cell_type": "markdown",
   "metadata": {},
   "source": [
    "*Descripción de las variables del dataframe:*\n",
    "\n",
    "1. *Creamos una tabla para **describir y comparar las columnas**.*\n",
    "\n",
    "| Variable          | Definición                                             | Tipo de Dato | Tipo de Variable    |\n",
    "|:------------------|:-------------------------------------------------------|:------------:|:----------------    |\n",
    "| Item Id           | Identificador único de la aplicación(videojuego)       | Integer      | Numérica(discreta)  |\n",
    "| Item Name         | Es el nombre de la aplicación                          | String       | Categórica(nominal) |\n",
    "| Playtime Forever\t| Cantidad de tiempo jugando la aplicacióne specífica    | Integer      | Numérica(discreta)  |\n",
    "| Playtime 2 weeks\t| Cantidad de tiempo jugado en las últimas dos semanas   | Integer      | Numérica(discreta)  |\n",
    "| Steam id          | Identificador único de usuario asignado por Steam      | Integer      | Numérica(discreta)  |\n",
    "| User id           | Identificador único de usuario asignado por el usuario | String       | Catégorica(nominal) |\n",
    "| User url          | Enlace al perfil del usuario en Steam                  | String       | Referencia a la web |\n",
    "\n",
    "\n",
    "2. *Revisamos las especificaciones de las funciones que requiere nuestro **MVP** para saber que columnas serán importantes para las funcionalidades de la API.*\n",
    "3. *Observamos que existen columnas como **User Url, playtime*** que no serán apropiadas para los objetivos de este análisis.*\n",
    "\n",
    "**Nota:** *En algunos visualizadores de Markdown no es posible apreciar la tabla, sugiero revisarla VSC.*"
   ]
  },
  {
   "cell_type": "markdown",
   "metadata": {},
   "source": [
    "### **Transformación de los datos** ###\n",
    "---\n",
    "\n",
    "*A partir de este momento realizaremos una limpieza de los datos teniendo en cuenta nuestro análisis previo.*\n",
    "\n",
    "* **Nota:** *Posterior al ETL realizaremos también un [EDA](04_EDA.ipynb)\n",
    " enfocado en los datos y una descripción estadística.*"
   ]
  },
  {
   "cell_type": "markdown",
   "metadata": {},
   "source": [
    "#### Eliminación de datos nulos ####\n",
    "\n",
    "*Procedemos a eliminar las filas con registros nulos:*\n",
    "\n",
    "1. *Usamos **dropna()** para eliminar filas con registros nulos*.\n",
    "2. *El número de filas no cambió, ya que no se encontraron registros nulos*."
   ]
  },
  {
   "cell_type": "code",
   "execution_count": 14,
   "metadata": {},
   "outputs": [
    {
     "data": {
      "text/plain": [
       "(5153209, 8)"
      ]
     },
     "execution_count": 14,
     "metadata": {},
     "output_type": "execute_result"
    }
   ],
   "source": [
    "dfUsersItems.shape"
   ]
  },
  {
   "cell_type": "code",
   "execution_count": 15,
   "metadata": {},
   "outputs": [
    {
     "data": {
      "text/plain": [
       "(5153209, 8)"
      ]
     },
     "execution_count": 15,
     "metadata": {},
     "output_type": "execute_result"
    }
   ],
   "source": [
    "dfUsersItems = dfUsersItems.dropna()\n",
    "dfUsersItems.shape"
   ]
  },
  {
   "cell_type": "markdown",
   "metadata": {},
   "source": [
    "#### Eliminación de duplicados de datos ####\n",
    "\n",
    "*Procedemos a revisar si nos quedan filas cuyos valores sean duplicados:*\n",
    "\n",
    "1. *Usamos **duplicated()** para encontrar filas con registros nulos usando la columna \"id\"*.\n",
    "2. *Observamos que nos muestra registros duplicados por **steam_id** sin embargo es entendible porque un jugador puede jugar más de un juego.*\n",
    "3. *Tomamos la decisión de **no eliminar** registros.*"
   ]
  },
  {
   "cell_type": "code",
   "execution_count": 16,
   "metadata": {},
   "outputs": [
    {
     "data": {
      "text/html": [
       "<div>\n",
       "<style scoped>\n",
       "    .dataframe tbody tr th:only-of-type {\n",
       "        vertical-align: middle;\n",
       "    }\n",
       "\n",
       "    .dataframe tbody tr th {\n",
       "        vertical-align: top;\n",
       "    }\n",
       "\n",
       "    .dataframe thead th {\n",
       "        text-align: right;\n",
       "    }\n",
       "</style>\n",
       "<table border=\"1\" class=\"dataframe\">\n",
       "  <thead>\n",
       "    <tr style=\"text-align: right;\">\n",
       "      <th></th>\n",
       "      <th>item_id</th>\n",
       "      <th>item_name</th>\n",
       "      <th>playtime_forever</th>\n",
       "      <th>playtime_2weeks</th>\n",
       "      <th>steam_id</th>\n",
       "      <th>items_count</th>\n",
       "      <th>user_id</th>\n",
       "      <th>user_url</th>\n",
       "    </tr>\n",
       "  </thead>\n",
       "  <tbody>\n",
       "    <tr>\n",
       "      <th>164294</th>\n",
       "      <td>20</td>\n",
       "      <td>Team Fortress Classic</td>\n",
       "      <td>5</td>\n",
       "      <td>0</td>\n",
       "      <td>76561198084006094</td>\n",
       "      <td>109</td>\n",
       "      <td>Nikiad</td>\n",
       "      <td>http://steamcommunity.com/id/Nikiad</td>\n",
       "    </tr>\n",
       "    <tr>\n",
       "      <th>164295</th>\n",
       "      <td>50</td>\n",
       "      <td>Half-Life: Opposing Force</td>\n",
       "      <td>0</td>\n",
       "      <td>0</td>\n",
       "      <td>76561198084006094</td>\n",
       "      <td>109</td>\n",
       "      <td>Nikiad</td>\n",
       "      <td>http://steamcommunity.com/id/Nikiad</td>\n",
       "    </tr>\n",
       "    <tr>\n",
       "      <th>164296</th>\n",
       "      <td>70</td>\n",
       "      <td>Half-Life</td>\n",
       "      <td>0</td>\n",
       "      <td>0</td>\n",
       "      <td>76561198084006094</td>\n",
       "      <td>109</td>\n",
       "      <td>Nikiad</td>\n",
       "      <td>http://steamcommunity.com/id/Nikiad</td>\n",
       "    </tr>\n",
       "    <tr>\n",
       "      <th>164297</th>\n",
       "      <td>130</td>\n",
       "      <td>Half-Life: Blue Shift</td>\n",
       "      <td>0</td>\n",
       "      <td>0</td>\n",
       "      <td>76561198084006094</td>\n",
       "      <td>109</td>\n",
       "      <td>Nikiad</td>\n",
       "      <td>http://steamcommunity.com/id/Nikiad</td>\n",
       "    </tr>\n",
       "    <tr>\n",
       "      <th>164298</th>\n",
       "      <td>220</td>\n",
       "      <td>Half-Life 2</td>\n",
       "      <td>198</td>\n",
       "      <td>0</td>\n",
       "      <td>76561198084006094</td>\n",
       "      <td>109</td>\n",
       "      <td>Nikiad</td>\n",
       "      <td>http://steamcommunity.com/id/Nikiad</td>\n",
       "    </tr>\n",
       "    <tr>\n",
       "      <th>...</th>\n",
       "      <td>...</td>\n",
       "      <td>...</td>\n",
       "      <td>...</td>\n",
       "      <td>...</td>\n",
       "      <td>...</td>\n",
       "      <td>...</td>\n",
       "      <td>...</td>\n",
       "      <td>...</td>\n",
       "    </tr>\n",
       "    <tr>\n",
       "      <th>4898223</th>\n",
       "      <td>213670</td>\n",
       "      <td>South Park™: The Stick of Truth™</td>\n",
       "      <td>725</td>\n",
       "      <td>0</td>\n",
       "      <td>76561198080057659</td>\n",
       "      <td>39</td>\n",
       "      <td>76561198080057659</td>\n",
       "      <td>http://steamcommunity.com/profiles/76561198080...</td>\n",
       "    </tr>\n",
       "    <tr>\n",
       "      <th>4898224</th>\n",
       "      <td>221910</td>\n",
       "      <td>The Stanley Parable</td>\n",
       "      <td>53</td>\n",
       "      <td>0</td>\n",
       "      <td>76561198080057659</td>\n",
       "      <td>39</td>\n",
       "      <td>76561198080057659</td>\n",
       "      <td>http://steamcommunity.com/profiles/76561198080...</td>\n",
       "    </tr>\n",
       "    <tr>\n",
       "      <th>4898225</th>\n",
       "      <td>261030</td>\n",
       "      <td>The Walking Dead: Season Two</td>\n",
       "      <td>253</td>\n",
       "      <td>0</td>\n",
       "      <td>76561198080057659</td>\n",
       "      <td>39</td>\n",
       "      <td>76561198080057659</td>\n",
       "      <td>http://steamcommunity.com/profiles/76561198080...</td>\n",
       "    </tr>\n",
       "    <tr>\n",
       "      <th>4898226</th>\n",
       "      <td>273110</td>\n",
       "      <td>Counter-Strike Nexon: Zombies</td>\n",
       "      <td>0</td>\n",
       "      <td>0</td>\n",
       "      <td>76561198080057659</td>\n",
       "      <td>39</td>\n",
       "      <td>76561198080057659</td>\n",
       "      <td>http://steamcommunity.com/profiles/76561198080...</td>\n",
       "    </tr>\n",
       "    <tr>\n",
       "      <th>4898227</th>\n",
       "      <td>730</td>\n",
       "      <td>Counter-Strike: Global Offensive</td>\n",
       "      <td>0</td>\n",
       "      <td>0</td>\n",
       "      <td>76561198080057659</td>\n",
       "      <td>39</td>\n",
       "      <td>76561198080057659</td>\n",
       "      <td>http://steamcommunity.com/profiles/76561198080...</td>\n",
       "    </tr>\n",
       "  </tbody>\n",
       "</table>\n",
       "<p>59104 rows × 8 columns</p>\n",
       "</div>"
      ],
      "text/plain": [
       "        item_id                         item_name  playtime_forever  \\\n",
       "164294       20             Team Fortress Classic                 5   \n",
       "164295       50         Half-Life: Opposing Force                 0   \n",
       "164296       70                         Half-Life                 0   \n",
       "164297      130             Half-Life: Blue Shift                 0   \n",
       "164298      220                       Half-Life 2               198   \n",
       "...         ...                               ...               ...   \n",
       "4898223  213670  South Park™: The Stick of Truth™               725   \n",
       "4898224  221910               The Stanley Parable                53   \n",
       "4898225  261030      The Walking Dead: Season Two               253   \n",
       "4898226  273110     Counter-Strike Nexon: Zombies                 0   \n",
       "4898227     730  Counter-Strike: Global Offensive                 0   \n",
       "\n",
       "         playtime_2weeks           steam_id items_count            user_id  \\\n",
       "164294                 0  76561198084006094         109             Nikiad   \n",
       "164295                 0  76561198084006094         109             Nikiad   \n",
       "164296                 0  76561198084006094         109             Nikiad   \n",
       "164297                 0  76561198084006094         109             Nikiad   \n",
       "164298                 0  76561198084006094         109             Nikiad   \n",
       "...                  ...                ...         ...                ...   \n",
       "4898223                0  76561198080057659          39  76561198080057659   \n",
       "4898224                0  76561198080057659          39  76561198080057659   \n",
       "4898225                0  76561198080057659          39  76561198080057659   \n",
       "4898226                0  76561198080057659          39  76561198080057659   \n",
       "4898227                0  76561198080057659          39  76561198080057659   \n",
       "\n",
       "                                                  user_url  \n",
       "164294                 http://steamcommunity.com/id/Nikiad  \n",
       "164295                 http://steamcommunity.com/id/Nikiad  \n",
       "164296                 http://steamcommunity.com/id/Nikiad  \n",
       "164297                 http://steamcommunity.com/id/Nikiad  \n",
       "164298                 http://steamcommunity.com/id/Nikiad  \n",
       "...                                                    ...  \n",
       "4898223  http://steamcommunity.com/profiles/76561198080...  \n",
       "4898224  http://steamcommunity.com/profiles/76561198080...  \n",
       "4898225  http://steamcommunity.com/profiles/76561198080...  \n",
       "4898226  http://steamcommunity.com/profiles/76561198080...  \n",
       "4898227  http://steamcommunity.com/profiles/76561198080...  \n",
       "\n",
       "[59104 rows x 8 columns]"
      ]
     },
     "execution_count": 16,
     "metadata": {},
     "output_type": "execute_result"
    }
   ],
   "source": [
    "duplicados = dfUsersItems[dfUsersItems.duplicated()]\n",
    "duplicados"
   ]
  },
  {
   "cell_type": "markdown",
   "metadata": {},
   "source": [
    "#### Tranformación por columnas ####\n",
    "\n",
    "*A continuación vamos a hacer limpieza por columnas, pero antes haremos algunos cambios:*\n",
    "\n",
    "1. **Reorganizamos las columnas** *, con el fin de mejorar la lectura y comparación de los datos y columnas*.\n",
    "2. **Cambiamos los nombres** *de las columnas.*"
   ]
  },
  {
   "cell_type": "code",
   "execution_count": 17,
   "metadata": {},
   "outputs": [
    {
     "data": {
      "text/plain": [
       "Index(['item_id', 'item_name', 'playtime_forever', 'playtime_2weeks',\n",
       "       'steam_id', 'items_count', 'user_id', 'user_url'],\n",
       "      dtype='object')"
      ]
     },
     "execution_count": 17,
     "metadata": {},
     "output_type": "execute_result"
    }
   ],
   "source": [
    "dfUsersItems.columns"
   ]
  },
  {
   "cell_type": "code",
   "execution_count": 18,
   "metadata": {},
   "outputs": [],
   "source": [
    "dfUsersItems = dfUsersItems[[\"steam_id\", \"user_id\", \"item_id\",\"item_name\", \"items_count\", \"playtime_forever\", \"playtime_2weeks\", \"user_url\"]]"
   ]
  },
  {
   "cell_type": "code",
   "execution_count": 19,
   "metadata": {},
   "outputs": [],
   "source": [
    "dfUsersItems.columns = ['IdUserSteam', 'IdUser', \"IdApp\", \"NameApp\", \"Count\", \"Playtime\", \"PlaytimeLast2W\", \"UserUrl\"]"
   ]
  },
  {
   "cell_type": "markdown",
   "metadata": {},
   "source": [
    "**Columnas IdUserSteam y IdApp**\n",
    "\n",
    "1. *Hacemos un conteo de valores para observar cuantas veces se repiten y la cantidad total de usuarios es de **70.912**.*\n",
    "2. *Cambiamos el tipo de dato a **int**.*\n",
    "3. *Reorganizamos los datos por **id**.*\n",
    "3. *Obtenemos información valiosa al ordenar los valores de esta forma, observamos que los registros que contengan playtime = 0 son juegos comprados por el usuario que no han sido jugados.*"
   ]
  },
  {
   "cell_type": "code",
   "execution_count": 20,
   "metadata": {},
   "outputs": [
    {
     "data": {
      "text/plain": [
       "IdUserSteam\n",
       "76561198102767019    7762\n",
       "76561198000537256    6700\n",
       "76561198001518866    6410\n",
       "76561198118965684    6132\n",
       "76561198048151962    5027\n",
       "                     ... \n",
       "76561198092083433       1\n",
       "76561198062649642       1\n",
       "76561198092078142       1\n",
       "76561198062660594       1\n",
       "76561198063378419       1\n",
       "Name: count, Length: 70912, dtype: int64"
      ]
     },
     "execution_count": 20,
     "metadata": {},
     "output_type": "execute_result"
    }
   ],
   "source": [
    "dfUsersItems.IdUserSteam.value_counts()"
   ]
  },
  {
   "cell_type": "code",
   "execution_count": 21,
   "metadata": {},
   "outputs": [],
   "source": [
    "dfUsersItems[\"IdUserSteam\"] = dfUsersItems[\"IdUserSteam\"].astype(np.int64)\n",
    "dfUsersItems[\"IdApp\"] = dfUsersItems[\"IdApp\"].astype(np.int64)"
   ]
  },
  {
   "cell_type": "code",
   "execution_count": 22,
   "metadata": {},
   "outputs": [
    {
     "data": {
      "text/html": [
       "<div>\n",
       "<style scoped>\n",
       "    .dataframe tbody tr th:only-of-type {\n",
       "        vertical-align: middle;\n",
       "    }\n",
       "\n",
       "    .dataframe tbody tr th {\n",
       "        vertical-align: top;\n",
       "    }\n",
       "\n",
       "    .dataframe thead th {\n",
       "        text-align: right;\n",
       "    }\n",
       "</style>\n",
       "<table border=\"1\" class=\"dataframe\">\n",
       "  <thead>\n",
       "    <tr style=\"text-align: right;\">\n",
       "      <th></th>\n",
       "      <th>IdUserSteam</th>\n",
       "      <th>IdUser</th>\n",
       "      <th>IdApp</th>\n",
       "      <th>NameApp</th>\n",
       "      <th>Count</th>\n",
       "      <th>Playtime</th>\n",
       "      <th>PlaytimeLast2W</th>\n",
       "      <th>UserUrl</th>\n",
       "    </tr>\n",
       "  </thead>\n",
       "  <tbody>\n",
       "    <tr>\n",
       "      <th>0</th>\n",
       "      <td>76561197960269200</td>\n",
       "      <td>ONIONZZZ</td>\n",
       "      <td>306660</td>\n",
       "      <td>Ultimate General: Gettysburg</td>\n",
       "      <td>384</td>\n",
       "      <td>0</td>\n",
       "      <td>0</td>\n",
       "      <td>http://steamcommunity.com/id/ONIONZZZ</td>\n",
       "    </tr>\n",
       "    <tr>\n",
       "      <th>1</th>\n",
       "      <td>76561197960269200</td>\n",
       "      <td>ONIONZZZ</td>\n",
       "      <td>12150</td>\n",
       "      <td>Max Payne 2: The Fall of Max Payne</td>\n",
       "      <td>384</td>\n",
       "      <td>0</td>\n",
       "      <td>0</td>\n",
       "      <td>http://steamcommunity.com/id/ONIONZZZ</td>\n",
       "    </tr>\n",
       "    <tr>\n",
       "      <th>2</th>\n",
       "      <td>76561197960269200</td>\n",
       "      <td>ONIONZZZ</td>\n",
       "      <td>4700</td>\n",
       "      <td>Medieval II: Total War</td>\n",
       "      <td>384</td>\n",
       "      <td>4</td>\n",
       "      <td>0</td>\n",
       "      <td>http://steamcommunity.com/id/ONIONZZZ</td>\n",
       "    </tr>\n",
       "  </tbody>\n",
       "</table>\n",
       "</div>"
      ],
      "text/plain": [
       "         IdUserSteam    IdUser   IdApp                             NameApp  \\\n",
       "0  76561197960269200  ONIONZZZ  306660        Ultimate General: Gettysburg   \n",
       "1  76561197960269200  ONIONZZZ   12150  Max Payne 2: The Fall of Max Payne   \n",
       "2  76561197960269200  ONIONZZZ    4700              Medieval II: Total War   \n",
       "\n",
       "  Count  Playtime  PlaytimeLast2W                                UserUrl  \n",
       "0   384         0               0  http://steamcommunity.com/id/ONIONZZZ  \n",
       "1   384         0               0  http://steamcommunity.com/id/ONIONZZZ  \n",
       "2   384         4               0  http://steamcommunity.com/id/ONIONZZZ  "
      ]
     },
     "execution_count": 22,
     "metadata": {},
     "output_type": "execute_result"
    }
   ],
   "source": [
    "dfUsersItems.sort_values(by=\"IdUserSteam\", inplace=True)\n",
    "dfUsersItems.reset_index(inplace=True, drop=True)\n",
    "dfUsersItems.head(3)"
   ]
  },
  {
   "cell_type": "markdown",
   "metadata": {},
   "source": [
    "**Columnas IdUser, UserUrl y Count**\n",
    "\n",
    "1. *Observamos que estas columnas pueden mostrarse en otro dataframe con la información del usuario, así que dividiremos el dataset*.\n",
    "2. *La columna count cuenta el número de apps que ha comprado el usuario, por lo tanto este valor tiende a repetirse cada vez que se repite el usuario.*"
   ]
  },
  {
   "cell_type": "code",
   "execution_count": 23,
   "metadata": {},
   "outputs": [],
   "source": [
    "dfUsers = dfUsersItems[[\"IdUserSteam\", \"IdUser\", \"Count\", \"UserUrl\"]].copy()"
   ]
  },
  {
   "cell_type": "code",
   "execution_count": 24,
   "metadata": {},
   "outputs": [
    {
     "data": {
      "text/html": [
       "<div>\n",
       "<style scoped>\n",
       "    .dataframe tbody tr th:only-of-type {\n",
       "        vertical-align: middle;\n",
       "    }\n",
       "\n",
       "    .dataframe tbody tr th {\n",
       "        vertical-align: top;\n",
       "    }\n",
       "\n",
       "    .dataframe thead th {\n",
       "        text-align: right;\n",
       "    }\n",
       "</style>\n",
       "<table border=\"1\" class=\"dataframe\">\n",
       "  <thead>\n",
       "    <tr style=\"text-align: right;\">\n",
       "      <th></th>\n",
       "      <th>IdUserSteam</th>\n",
       "      <th>IdUser</th>\n",
       "      <th>Count</th>\n",
       "      <th>UserUrl</th>\n",
       "    </tr>\n",
       "  </thead>\n",
       "  <tbody>\n",
       "    <tr>\n",
       "      <th>0</th>\n",
       "      <td>76561197960269200</td>\n",
       "      <td>ONIONZZZ</td>\n",
       "      <td>384</td>\n",
       "      <td>http://steamcommunity.com/id/ONIONZZZ</td>\n",
       "    </tr>\n",
       "    <tr>\n",
       "      <th>1</th>\n",
       "      <td>76561197960269200</td>\n",
       "      <td>ONIONZZZ</td>\n",
       "      <td>384</td>\n",
       "      <td>http://steamcommunity.com/id/ONIONZZZ</td>\n",
       "    </tr>\n",
       "    <tr>\n",
       "      <th>2</th>\n",
       "      <td>76561197960269200</td>\n",
       "      <td>ONIONZZZ</td>\n",
       "      <td>384</td>\n",
       "      <td>http://steamcommunity.com/id/ONIONZZZ</td>\n",
       "    </tr>\n",
       "  </tbody>\n",
       "</table>\n",
       "</div>"
      ],
      "text/plain": [
       "         IdUserSteam    IdUser Count                                UserUrl\n",
       "0  76561197960269200  ONIONZZZ   384  http://steamcommunity.com/id/ONIONZZZ\n",
       "1  76561197960269200  ONIONZZZ   384  http://steamcommunity.com/id/ONIONZZZ\n",
       "2  76561197960269200  ONIONZZZ   384  http://steamcommunity.com/id/ONIONZZZ"
      ]
     },
     "execution_count": 24,
     "metadata": {},
     "output_type": "execute_result"
    }
   ],
   "source": [
    "dfUsers.head(3)"
   ]
  },
  {
   "cell_type": "markdown",
   "metadata": {},
   "source": [
    "**Dataframe dfUsers**\n",
    "\n",
    "1. *En este dataset procedemos a eliminar los i**d de usuario repetidos**.*\n",
    "2. *La columna count se llamará **PurchasedItems**.*\n",
    "3. *Cambiamos el tipo de la columna PruchasedItems a **int**.*"
   ]
  },
  {
   "cell_type": "code",
   "execution_count": 25,
   "metadata": {},
   "outputs": [
    {
     "data": {
      "text/html": [
       "<div>\n",
       "<style scoped>\n",
       "    .dataframe tbody tr th:only-of-type {\n",
       "        vertical-align: middle;\n",
       "    }\n",
       "\n",
       "    .dataframe tbody tr th {\n",
       "        vertical-align: top;\n",
       "    }\n",
       "\n",
       "    .dataframe thead th {\n",
       "        text-align: right;\n",
       "    }\n",
       "</style>\n",
       "<table border=\"1\" class=\"dataframe\">\n",
       "  <thead>\n",
       "    <tr style=\"text-align: right;\">\n",
       "      <th></th>\n",
       "      <th>IdUserSteam</th>\n",
       "      <th>IdUser</th>\n",
       "      <th>Count</th>\n",
       "      <th>UserUrl</th>\n",
       "    </tr>\n",
       "  </thead>\n",
       "  <tbody>\n",
       "    <tr>\n",
       "      <th>0</th>\n",
       "      <td>76561197960269200</td>\n",
       "      <td>ONIONZZZ</td>\n",
       "      <td>384</td>\n",
       "      <td>http://steamcommunity.com/id/ONIONZZZ</td>\n",
       "    </tr>\n",
       "    <tr>\n",
       "      <th>1</th>\n",
       "      <td>76561197960270504</td>\n",
       "      <td>exaqt</td>\n",
       "      <td>209</td>\n",
       "      <td>http://steamcommunity.com/id/exaqt</td>\n",
       "    </tr>\n",
       "    <tr>\n",
       "      <th>2</th>\n",
       "      <td>76561197960270742</td>\n",
       "      <td>dvs</td>\n",
       "      <td>36</td>\n",
       "      <td>http://steamcommunity.com/id/dvs</td>\n",
       "    </tr>\n",
       "  </tbody>\n",
       "</table>\n",
       "</div>"
      ],
      "text/plain": [
       "         IdUserSteam    IdUser Count                                UserUrl\n",
       "0  76561197960269200  ONIONZZZ   384  http://steamcommunity.com/id/ONIONZZZ\n",
       "1  76561197960270504     exaqt   209     http://steamcommunity.com/id/exaqt\n",
       "2  76561197960270742       dvs    36       http://steamcommunity.com/id/dvs"
      ]
     },
     "execution_count": 25,
     "metadata": {},
     "output_type": "execute_result"
    }
   ],
   "source": [
    "dfUsers.drop_duplicates(subset=[\"IdUserSteam\"],inplace=True)\n",
    "dfUsers.sort_values(by=\"IdUserSteam\", inplace=True)\n",
    "dfUsers.reset_index(inplace=True, drop=True)\n",
    "dfUsers.head(3)"
   ]
  },
  {
   "cell_type": "code",
   "execution_count": 26,
   "metadata": {},
   "outputs": [],
   "source": [
    "dfUsers.rename(columns={\"Count\":\"PurchasedItems\"}, inplace=True)\n",
    "dfUsers[\"PurchasedItems\"] = dfUsers[\"PurchasedItems\"].astype(int)"
   ]
  },
  {
   "cell_type": "code",
   "execution_count": 27,
   "metadata": {},
   "outputs": [
    {
     "data": {
      "text/html": [
       "<div>\n",
       "<style scoped>\n",
       "    .dataframe tbody tr th:only-of-type {\n",
       "        vertical-align: middle;\n",
       "    }\n",
       "\n",
       "    .dataframe tbody tr th {\n",
       "        vertical-align: top;\n",
       "    }\n",
       "\n",
       "    .dataframe thead th {\n",
       "        text-align: right;\n",
       "    }\n",
       "</style>\n",
       "<table border=\"1\" class=\"dataframe\">\n",
       "  <thead>\n",
       "    <tr style=\"text-align: right;\">\n",
       "      <th></th>\n",
       "      <th>IdUserSteam</th>\n",
       "      <th>IdUser</th>\n",
       "      <th>PurchasedItems</th>\n",
       "      <th>UserUrl</th>\n",
       "    </tr>\n",
       "  </thead>\n",
       "  <tbody>\n",
       "    <tr>\n",
       "      <th>0</th>\n",
       "      <td>76561197960269200</td>\n",
       "      <td>ONIONZZZ</td>\n",
       "      <td>384</td>\n",
       "      <td>http://steamcommunity.com/id/ONIONZZZ</td>\n",
       "    </tr>\n",
       "    <tr>\n",
       "      <th>1</th>\n",
       "      <td>76561197960270504</td>\n",
       "      <td>exaqt</td>\n",
       "      <td>209</td>\n",
       "      <td>http://steamcommunity.com/id/exaqt</td>\n",
       "    </tr>\n",
       "    <tr>\n",
       "      <th>2</th>\n",
       "      <td>76561197960270742</td>\n",
       "      <td>dvs</td>\n",
       "      <td>36</td>\n",
       "      <td>http://steamcommunity.com/id/dvs</td>\n",
       "    </tr>\n",
       "    <tr>\n",
       "      <th>3</th>\n",
       "      <td>76561197960271609</td>\n",
       "      <td>76561197960271609</td>\n",
       "      <td>30</td>\n",
       "      <td>http://steamcommunity.com/profiles/76561197960...</td>\n",
       "    </tr>\n",
       "    <tr>\n",
       "      <th>4</th>\n",
       "      <td>76561197960271888</td>\n",
       "      <td>thefourdigit</td>\n",
       "      <td>123</td>\n",
       "      <td>http://steamcommunity.com/id/thefourdigit</td>\n",
       "    </tr>\n",
       "  </tbody>\n",
       "</table>\n",
       "</div>"
      ],
      "text/plain": [
       "         IdUserSteam             IdUser  PurchasedItems  \\\n",
       "0  76561197960269200           ONIONZZZ             384   \n",
       "1  76561197960270504              exaqt             209   \n",
       "2  76561197960270742                dvs              36   \n",
       "3  76561197960271609  76561197960271609              30   \n",
       "4  76561197960271888       thefourdigit             123   \n",
       "\n",
       "                                             UserUrl  \n",
       "0              http://steamcommunity.com/id/ONIONZZZ  \n",
       "1                 http://steamcommunity.com/id/exaqt  \n",
       "2                   http://steamcommunity.com/id/dvs  \n",
       "3  http://steamcommunity.com/profiles/76561197960...  \n",
       "4          http://steamcommunity.com/id/thefourdigit  "
      ]
     },
     "execution_count": 27,
     "metadata": {},
     "output_type": "execute_result"
    }
   ],
   "source": [
    "dfUsers.head(5)"
   ]
  },
  {
   "cell_type": "markdown",
   "metadata": {},
   "source": [
    "**Eliminamos las columnas IdUser, Count y UserUrl del dataframe UrsersItems**\n",
    "\n",
    "1. *Eliminamos las tres columnas y solo dejamos el **identificador** de usuario.*\n",
    "2. *Podriamos eliminar la columna NameApp ya que esta información posiblemente la tenemos el el dataframe de Steam Games, sin embargo por ahora la dejamos.*"
   ]
  },
  {
   "cell_type": "code",
   "execution_count": 28,
   "metadata": {},
   "outputs": [
    {
     "data": {
      "text/html": [
       "<div>\n",
       "<style scoped>\n",
       "    .dataframe tbody tr th:only-of-type {\n",
       "        vertical-align: middle;\n",
       "    }\n",
       "\n",
       "    .dataframe tbody tr th {\n",
       "        vertical-align: top;\n",
       "    }\n",
       "\n",
       "    .dataframe thead th {\n",
       "        text-align: right;\n",
       "    }\n",
       "</style>\n",
       "<table border=\"1\" class=\"dataframe\">\n",
       "  <thead>\n",
       "    <tr style=\"text-align: right;\">\n",
       "      <th></th>\n",
       "      <th>IdUserSteam</th>\n",
       "      <th>IdApp</th>\n",
       "      <th>NameApp</th>\n",
       "      <th>Playtime</th>\n",
       "      <th>PlaytimeLast2W</th>\n",
       "    </tr>\n",
       "  </thead>\n",
       "  <tbody>\n",
       "    <tr>\n",
       "      <th>0</th>\n",
       "      <td>76561197960269200</td>\n",
       "      <td>306660</td>\n",
       "      <td>Ultimate General: Gettysburg</td>\n",
       "      <td>0</td>\n",
       "      <td>0</td>\n",
       "    </tr>\n",
       "    <tr>\n",
       "      <th>1</th>\n",
       "      <td>76561197960269200</td>\n",
       "      <td>12150</td>\n",
       "      <td>Max Payne 2: The Fall of Max Payne</td>\n",
       "      <td>0</td>\n",
       "      <td>0</td>\n",
       "    </tr>\n",
       "    <tr>\n",
       "      <th>2</th>\n",
       "      <td>76561197960269200</td>\n",
       "      <td>4700</td>\n",
       "      <td>Medieval II: Total War</td>\n",
       "      <td>4</td>\n",
       "      <td>0</td>\n",
       "    </tr>\n",
       "  </tbody>\n",
       "</table>\n",
       "</div>"
      ],
      "text/plain": [
       "         IdUserSteam   IdApp                             NameApp  Playtime  \\\n",
       "0  76561197960269200  306660        Ultimate General: Gettysburg         0   \n",
       "1  76561197960269200   12150  Max Payne 2: The Fall of Max Payne         0   \n",
       "2  76561197960269200    4700              Medieval II: Total War         4   \n",
       "\n",
       "   PlaytimeLast2W  \n",
       "0               0  \n",
       "1               0  \n",
       "2               0  "
      ]
     },
     "execution_count": 28,
     "metadata": {},
     "output_type": "execute_result"
    }
   ],
   "source": [
    "dfUsersItems = dfUsersItems.drop(columns=[\"IdUser\",\"Count\",\"UserUrl\"])\n",
    "dfUsersItems.head(3)"
   ]
  },
  {
   "cell_type": "code",
   "execution_count": 29,
   "metadata": {},
   "outputs": [
    {
     "data": {
      "text/html": [
       "<div>\n",
       "<style scoped>\n",
       "    .dataframe tbody tr th:only-of-type {\n",
       "        vertical-align: middle;\n",
       "    }\n",
       "\n",
       "    .dataframe tbody tr th {\n",
       "        vertical-align: top;\n",
       "    }\n",
       "\n",
       "    .dataframe thead th {\n",
       "        text-align: right;\n",
       "    }\n",
       "</style>\n",
       "<table border=\"1\" class=\"dataframe\">\n",
       "  <thead>\n",
       "    <tr style=\"text-align: right;\">\n",
       "      <th></th>\n",
       "      <th>IdUserSteam</th>\n",
       "      <th>IdApp</th>\n",
       "      <th>NameApp</th>\n",
       "      <th>Playtime</th>\n",
       "      <th>PlaytimeLast2W</th>\n",
       "    </tr>\n",
       "  </thead>\n",
       "  <tbody>\n",
       "    <tr>\n",
       "      <th>0</th>\n",
       "      <td>76561197960269200</td>\n",
       "      <td>306660</td>\n",
       "      <td>Ultimate General: Gettysburg</td>\n",
       "      <td>0</td>\n",
       "      <td>0</td>\n",
       "    </tr>\n",
       "    <tr>\n",
       "      <th>1</th>\n",
       "      <td>76561197960269200</td>\n",
       "      <td>12150</td>\n",
       "      <td>Max Payne 2: The Fall of Max Payne</td>\n",
       "      <td>0</td>\n",
       "      <td>0</td>\n",
       "    </tr>\n",
       "    <tr>\n",
       "      <th>2</th>\n",
       "      <td>76561197960269200</td>\n",
       "      <td>4700</td>\n",
       "      <td>Medieval II: Total War</td>\n",
       "      <td>4</td>\n",
       "      <td>0</td>\n",
       "    </tr>\n",
       "  </tbody>\n",
       "</table>\n",
       "</div>"
      ],
      "text/plain": [
       "         IdUserSteam   IdApp                             NameApp  Playtime  \\\n",
       "0  76561197960269200  306660        Ultimate General: Gettysburg         0   \n",
       "1  76561197960269200   12150  Max Payne 2: The Fall of Max Payne         0   \n",
       "2  76561197960269200    4700              Medieval II: Total War         4   \n",
       "\n",
       "   PlaytimeLast2W  \n",
       "0               0  \n",
       "1               0  \n",
       "2               0  "
      ]
     },
     "execution_count": 29,
     "metadata": {},
     "output_type": "execute_result"
    }
   ],
   "source": [
    "dfUsersItems.head(3)"
   ]
  },
  {
   "cell_type": "markdown",
   "metadata": {},
   "source": [
    "### **Análisis Exploratorio Final** ###\n",
    "---\n",
    "\n",
    "*Aquí hacemos una revisión de los datos después de su transformación, con el objetivo de revisar si quedaron datos pendientes por transformar*.\n",
    "\n",
    "**Nota:** *Posterior a todas las transformaciones se realiza un [EDA](04_EDA.ipynb)\n",
    " final.*"
   ]
  },
  {
   "cell_type": "markdown",
   "metadata": {},
   "source": [
    "*Obtenemos una descripción de las columnas, sus tipos de datos y sus valores no nulos:*\n",
    "\n",
    "1. *El total de registros es de **5.153.209**, y no se encuentran valores nulos*"
   ]
  },
  {
   "cell_type": "code",
   "execution_count": 30,
   "metadata": {},
   "outputs": [
    {
     "name": "stdout",
     "output_type": "stream",
     "text": [
      "<class 'pandas.core.frame.DataFrame'>\n",
      "RangeIndex: 5153209 entries, 0 to 5153208\n",
      "Data columns (total 5 columns):\n",
      " #   Column          Dtype \n",
      "---  ------          ----- \n",
      " 0   IdUserSteam     int64 \n",
      " 1   IdApp           int64 \n",
      " 2   NameApp         object\n",
      " 3   Playtime        int64 \n",
      " 4   PlaytimeLast2W  int64 \n",
      "dtypes: int64(4), object(1)\n",
      "memory usage: 196.6+ MB\n"
     ]
    }
   ],
   "source": [
    "dfUsersItems.info()"
   ]
  },
  {
   "cell_type": "markdown",
   "metadata": {},
   "source": [
    "*Obtenemos una descripción estadística de los datos numéricos:*"
   ]
  },
  {
   "cell_type": "code",
   "execution_count": 31,
   "metadata": {},
   "outputs": [
    {
     "data": {
      "text/html": [
       "<div>\n",
       "<style scoped>\n",
       "    .dataframe tbody tr th:only-of-type {\n",
       "        vertical-align: middle;\n",
       "    }\n",
       "\n",
       "    .dataframe tbody tr th {\n",
       "        vertical-align: top;\n",
       "    }\n",
       "\n",
       "    .dataframe thead th {\n",
       "        text-align: right;\n",
       "    }\n",
       "</style>\n",
       "<table border=\"1\" class=\"dataframe\">\n",
       "  <thead>\n",
       "    <tr style=\"text-align: right;\">\n",
       "      <th></th>\n",
       "      <th>IdUserSteam</th>\n",
       "      <th>IdApp</th>\n",
       "      <th>Playtime</th>\n",
       "      <th>PlaytimeLast2W</th>\n",
       "    </tr>\n",
       "  </thead>\n",
       "  <tbody>\n",
       "    <tr>\n",
       "      <th>count</th>\n",
       "      <td>5.153209e+06</td>\n",
       "      <td>5.153209e+06</td>\n",
       "      <td>5.153209e+06</td>\n",
       "      <td>5.153209e+06</td>\n",
       "    </tr>\n",
       "    <tr>\n",
       "      <th>mean</th>\n",
       "      <td>7.656120e+16</td>\n",
       "      <td>1.784481e+05</td>\n",
       "      <td>9.914951e+02</td>\n",
       "      <td>9.104707e+00</td>\n",
       "    </tr>\n",
       "    <tr>\n",
       "      <th>std</th>\n",
       "      <td>3.916645e+07</td>\n",
       "      <td>1.318598e+05</td>\n",
       "      <td>5.418204e+03</td>\n",
       "      <td>1.403926e+02</td>\n",
       "    </tr>\n",
       "    <tr>\n",
       "      <th>min</th>\n",
       "      <td>7.656120e+16</td>\n",
       "      <td>1.000000e+01</td>\n",
       "      <td>0.000000e+00</td>\n",
       "      <td>0.000000e+00</td>\n",
       "    </tr>\n",
       "    <tr>\n",
       "      <th>25%</th>\n",
       "      <td>7.656120e+16</td>\n",
       "      <td>3.446000e+04</td>\n",
       "      <td>0.000000e+00</td>\n",
       "      <td>0.000000e+00</td>\n",
       "    </tr>\n",
       "    <tr>\n",
       "      <th>50%</th>\n",
       "      <td>7.656120e+16</td>\n",
       "      <td>2.144200e+05</td>\n",
       "      <td>3.400000e+01</td>\n",
       "      <td>0.000000e+00</td>\n",
       "    </tr>\n",
       "    <tr>\n",
       "      <th>75%</th>\n",
       "      <td>7.656120e+16</td>\n",
       "      <td>2.664300e+05</td>\n",
       "      <td>3.550000e+02</td>\n",
       "      <td>0.000000e+00</td>\n",
       "    </tr>\n",
       "    <tr>\n",
       "      <th>max</th>\n",
       "      <td>7.656120e+16</td>\n",
       "      <td>5.307200e+05</td>\n",
       "      <td>6.427730e+05</td>\n",
       "      <td>1.996700e+04</td>\n",
       "    </tr>\n",
       "  </tbody>\n",
       "</table>\n",
       "</div>"
      ],
      "text/plain": [
       "        IdUserSteam         IdApp      Playtime  PlaytimeLast2W\n",
       "count  5.153209e+06  5.153209e+06  5.153209e+06    5.153209e+06\n",
       "mean   7.656120e+16  1.784481e+05  9.914951e+02    9.104707e+00\n",
       "std    3.916645e+07  1.318598e+05  5.418204e+03    1.403926e+02\n",
       "min    7.656120e+16  1.000000e+01  0.000000e+00    0.000000e+00\n",
       "25%    7.656120e+16  3.446000e+04  0.000000e+00    0.000000e+00\n",
       "50%    7.656120e+16  2.144200e+05  3.400000e+01    0.000000e+00\n",
       "75%    7.656120e+16  2.664300e+05  3.550000e+02    0.000000e+00\n",
       "max    7.656120e+16  5.307200e+05  6.427730e+05    1.996700e+04"
      ]
     },
     "execution_count": 31,
     "metadata": {},
     "output_type": "execute_result"
    }
   ],
   "source": [
    "dfUsersItems.describe()"
   ]
  },
  {
   "cell_type": "code",
   "execution_count": 32,
   "metadata": {},
   "outputs": [
    {
     "data": {
      "text/plain": [
       "Index(['IdUserSteam', 'IdApp', 'NameApp', 'Playtime', 'PlaytimeLast2W'], dtype='object')"
      ]
     },
     "execution_count": 32,
     "metadata": {},
     "output_type": "execute_result"
    }
   ],
   "source": [
    "dfUsersItems.columns"
   ]
  },
  {
   "cell_type": "markdown",
   "metadata": {},
   "source": [
    "### **Exportación de datos a Parquet (Load)** ###\n",
    "---\n",
    "\n",
    "*Una vez hemos revisado nuestro dataframe, lo exportamos a un archivo **parquet** para guardar todos los cambios realizados*.\n",
    "\n",
    "**Nota:** *Los archivos se encuentran en la carpeta **dataout**.*"
   ]
  },
  {
   "cell_type": "code",
   "execution_count": 99,
   "metadata": {},
   "outputs": [],
   "source": [
    "# dfUsersItems.to_csv(\"datasets/out_users_items.csv\", index=False, encoding=\"utf-8\")"
   ]
  },
  {
   "cell_type": "code",
   "execution_count": 100,
   "metadata": {},
   "outputs": [],
   "source": [
    "# dfUsers.to_csv(\"datasets/out_users.csv\", index=False, encoding=\"utf-8\")"
   ]
  },
  {
   "cell_type": "code",
   "execution_count": 33,
   "metadata": {},
   "outputs": [],
   "source": [
    "userItemsTab = pa.Table.from_pandas(dfUsersItems)\n",
    "dir = \"dataout/out_users_items.parquet\"\n",
    "pq.write_table(userItemsTab,dir)"
   ]
  },
  {
   "cell_type": "code",
   "execution_count": 34,
   "metadata": {},
   "outputs": [],
   "source": [
    "usersTab = pa.Table.from_pandas(dfUsers)\n",
    "dir2 = \"dataout/out_users.parquet\"\n",
    "pq.write_table(usersTab,dir2)"
   ]
  }
 ],
 "metadata": {
  "kernelspec": {
   "display_name": "env",
   "language": "python",
   "name": "python3"
  },
  "language_info": {
   "codemirror_mode": {
    "name": "ipython",
    "version": 3
   },
   "file_extension": ".py",
   "mimetype": "text/x-python",
   "name": "python",
   "nbconvert_exporter": "python",
   "pygments_lexer": "ipython3",
   "version": "3.11.8"
  }
 },
 "nbformat": 4,
 "nbformat_minor": 2
}
