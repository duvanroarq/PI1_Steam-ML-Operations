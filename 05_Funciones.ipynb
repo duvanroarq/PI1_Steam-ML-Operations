{
 "cells": [
  {
   "cell_type": "markdown",
   "metadata": {},
   "source": [
    "![FUNCIONES](src/PORT6.jpg)"
   ]
  },
  {
   "cell_type": "markdown",
   "metadata": {},
   "source": [
    "# **Funciones de la API**\n",
    "\n",
    "*A continuación se realiza la definición de las funciones que tendrá la API.*\n",
    "\n",
    "**Nota:** *Estas funciones se crearán en el archivo [main](main.py)*"
   ]
  },
  {
   "cell_type": "markdown",
   "metadata": {},
   "source": [
    "#### **Importación de librerías** ####\n",
    "---\n",
    "\n",
    "*Para este cuaderno usaremos las siguientes librerías: **pandas** y **pyarrow**.*"
   ]
  },
  {
   "cell_type": "code",
   "execution_count": 1,
   "metadata": {},
   "outputs": [],
   "source": [
    "import pandas as pd\n",
    "import pyarrow as pa\n",
    "import pyarrow.parquet as pq"
   ]
  },
  {
   "cell_type": "code",
   "execution_count": 2,
   "metadata": {},
   "outputs": [],
   "source": [
    "dfUsReviews= pd.read_parquet(\"dataout/out_users_reviews.parquet\")\n",
    "dfUsers= pd.read_parquet(\"dataout/out_users.parquet\")\n",
    "dfUsersItems= pd.read_parquet(\"dataout/out_users_items.parquet\")\n",
    "dfGames= pd.read_parquet(\"dataout/out_games.parquet\")\n",
    "dfGenres = pd.read_parquet(\"dataout/out_genres_games.parquet\")\n",
    "dfFeelings = pd.read_parquet(\"dataout/out_feelings.parquet\")"
   ]
  },
  {
   "cell_type": "markdown",
   "metadata": {},
   "source": [
    "#### **Función developer** ####\n",
    "---\n",
    "\n",
    "*La función **developer** le permite al usuario **filtrar** por un **desarrollador** específico y mostrarle la **cantidad** de apps lanzadas por **año** y el porcentaje de aplicaciones que fueron **gratis** para ese año.*"
   ]
  },
  {
   "cell_type": "markdown",
   "metadata": {},
   "source": [
    "#### Creamos el dataframe para facilitar esta función ####\n",
    "\n",
    "*Este dataframe solo contará con las columnas que nos interesan:*\n",
    "\n",
    "1. *IdApp.*\n",
    "2. *Developer.*\n",
    "3. *Price.*\n",
    "4. *ReleaseYear.*\n"
   ]
  },
  {
   "cell_type": "code",
   "execution_count": 7,
   "metadata": {},
   "outputs": [
    {
     "data": {
      "text/html": [
       "<div>\n",
       "<style scoped>\n",
       "    .dataframe tbody tr th:only-of-type {\n",
       "        vertical-align: middle;\n",
       "    }\n",
       "\n",
       "    .dataframe tbody tr th {\n",
       "        vertical-align: top;\n",
       "    }\n",
       "\n",
       "    .dataframe thead th {\n",
       "        text-align: right;\n",
       "    }\n",
       "</style>\n",
       "<table border=\"1\" class=\"dataframe\">\n",
       "  <thead>\n",
       "    <tr style=\"text-align: right;\">\n",
       "      <th></th>\n",
       "      <th>IdApp</th>\n",
       "      <th>Developer</th>\n",
       "      <th>Price</th>\n",
       "      <th>ReleaseYear</th>\n",
       "    </tr>\n",
       "  </thead>\n",
       "  <tbody>\n",
       "    <tr>\n",
       "      <th>0</th>\n",
       "      <td>10</td>\n",
       "      <td>VALVE</td>\n",
       "      <td>9.99</td>\n",
       "      <td>2000</td>\n",
       "    </tr>\n",
       "  </tbody>\n",
       "</table>\n",
       "</div>"
      ],
      "text/plain": [
       "   IdApp Developer  Price ReleaseYear\n",
       "0     10     VALVE   9.99        2000"
      ]
     },
     "execution_count": 7,
     "metadata": {},
     "output_type": "execute_result"
    }
   ],
   "source": [
    "dfDeveloper= pd.read_parquet(\"datasets/out_games.parquet\")\n",
    "dfDeveloper = dfDeveloper[[\"IdApp\",\"Developer\",\"Price\",\"ReleaseYear\"]]\n",
    "dfDeveloper[\"Developer\"] = dfDeveloper[\"Developer\"].str.upper()\n",
    "dfDeveloper.head(1)"
   ]
  },
  {
   "cell_type": "markdown",
   "metadata": {},
   "source": [
    "#### Creamos la función developer ####\n",
    "\n",
    "*Esta función recibirá como parametro:*\n",
    "\n",
    "1. *dev = Cadena string con el nombre del desarrollador.*\n"
   ]
  },
  {
   "cell_type": "code",
   "execution_count": 8,
   "metadata": {},
   "outputs": [],
   "source": [
    "def developer(dev:str, data = dfDeveloper):\n",
    "    # Formateamos el string de entrada para un correcto filtrado\n",
    "    dev = dev.upper()\n",
    "    \n",
    "    #Filtramos el dataframe y solo nos quedamos con el developer que queremos.\n",
    "    dfDev = data[data[\"Developer\"] == dev]\n",
    "    \n",
    "    #Creamos la agrupación por año de lanzamiento y calculamos la cantidad de aplicaciones de dicho año\n",
    "    countPerYear = dfDev.groupby(\"ReleaseYear\").size().reset_index(name=\"Cantidad de Apps\")\n",
    "    \n",
    "    #Creamos un dataframe con los años de lanzamiento que tienen aplicaciones Free == 0\n",
    "    priceFreePerYear = dfDev[dfDev[\"Price\"] == 0]\n",
    "    priceFreePerYear = priceFreePerYear.groupby(\"ReleaseYear\").size().reset_index(name=\"PriceFreeCount\")\n",
    "    \n",
    "    #Creamos un inner join que une countperYear con PriceFreeYear en la columna release year\n",
    "    countPerYear = pd.merge(countPerYear, priceFreePerYear, on=\"ReleaseYear\", how=\"left\")\n",
    "    \n",
    "    # Creamos la tabla contenido free que es la cantidad de apps con precio gratis sobre el total de aplicacciones.\n",
    "    countPerYear[\"Contenido Free\"] = round((countPerYear[\"PriceFreeCount\"] / countPerYear[\"Cantidad de Apps\"]) * 100, 2)\n",
    "    \n",
    "    # Llenamos los valores NAN resultado del inner join y los ponemos en 0.\n",
    "    countPerYear = countPerYear.fillna(0)\n",
    "    \n",
    "    dfDev = countPerYear[[\"ReleaseYear\", \"Cantidad de Apps\", \"Contenido Free\"]].rename(columns={\"ReleaseYear\":\"Año\"})\n",
    "    \n",
    "    return dfDev"
   ]
  },
  {
   "cell_type": "markdown",
   "metadata": {},
   "source": [
    "*Revisamos que funcione correctamente:*"
   ]
  },
  {
   "cell_type": "code",
   "execution_count": 9,
   "metadata": {},
   "outputs": [
    {
     "data": {
      "text/html": [
       "<div>\n",
       "<style scoped>\n",
       "    .dataframe tbody tr th:only-of-type {\n",
       "        vertical-align: middle;\n",
       "    }\n",
       "\n",
       "    .dataframe tbody tr th {\n",
       "        vertical-align: top;\n",
       "    }\n",
       "\n",
       "    .dataframe thead th {\n",
       "        text-align: right;\n",
       "    }\n",
       "</style>\n",
       "<table border=\"1\" class=\"dataframe\">\n",
       "  <thead>\n",
       "    <tr style=\"text-align: right;\">\n",
       "      <th></th>\n",
       "      <th>Año</th>\n",
       "      <th>Cantidad de Apps</th>\n",
       "      <th>Contenido Free</th>\n",
       "    </tr>\n",
       "  </thead>\n",
       "  <tbody>\n",
       "    <tr>\n",
       "      <th>0</th>\n",
       "      <td>1999</td>\n",
       "      <td>1</td>\n",
       "      <td>0.0</td>\n",
       "    </tr>\n",
       "    <tr>\n",
       "      <th>1</th>\n",
       "      <td>2001</td>\n",
       "      <td>1</td>\n",
       "      <td>0.0</td>\n",
       "    </tr>\n",
       "    <tr>\n",
       "      <th>2</th>\n",
       "      <td>2005</td>\n",
       "      <td>2</td>\n",
       "      <td>0.0</td>\n",
       "    </tr>\n",
       "    <tr>\n",
       "      <th>3</th>\n",
       "      <td>2008</td>\n",
       "      <td>1</td>\n",
       "      <td>0.0</td>\n",
       "    </tr>\n",
       "    <tr>\n",
       "      <th>4</th>\n",
       "      <td>2009</td>\n",
       "      <td>2</td>\n",
       "      <td>0.0</td>\n",
       "    </tr>\n",
       "    <tr>\n",
       "      <th>5</th>\n",
       "      <td>2010</td>\n",
       "      <td>3</td>\n",
       "      <td>0.0</td>\n",
       "    </tr>\n",
       "    <tr>\n",
       "      <th>6</th>\n",
       "      <td>2011</td>\n",
       "      <td>2</td>\n",
       "      <td>0.0</td>\n",
       "    </tr>\n",
       "    <tr>\n",
       "      <th>7</th>\n",
       "      <td>2013</td>\n",
       "      <td>17</td>\n",
       "      <td>0.0</td>\n",
       "    </tr>\n",
       "    <tr>\n",
       "      <th>8</th>\n",
       "      <td>2016</td>\n",
       "      <td>2</td>\n",
       "      <td>50.0</td>\n",
       "    </tr>\n",
       "  </tbody>\n",
       "</table>\n",
       "</div>"
      ],
      "text/plain": [
       "    Año  Cantidad de Apps  Contenido Free\n",
       "0  1999                 1             0.0\n",
       "1  2001                 1             0.0\n",
       "2  2005                 2             0.0\n",
       "3  2008                 1             0.0\n",
       "4  2009                 2             0.0\n",
       "5  2010                 3             0.0\n",
       "6  2011                 2             0.0\n",
       "7  2013                17             0.0\n",
       "8  2016                 2            50.0"
      ]
     },
     "execution_count": 9,
     "metadata": {},
     "output_type": "execute_result"
    }
   ],
   "source": [
    "developer(\"gearbox Software\")"
   ]
  },
  {
   "cell_type": "code",
   "execution_count": 10,
   "metadata": {},
   "outputs": [
    {
     "data": {
      "text/html": [
       "<div>\n",
       "<style scoped>\n",
       "    .dataframe tbody tr th:only-of-type {\n",
       "        vertical-align: middle;\n",
       "    }\n",
       "\n",
       "    .dataframe tbody tr th {\n",
       "        vertical-align: top;\n",
       "    }\n",
       "\n",
       "    .dataframe thead th {\n",
       "        text-align: right;\n",
       "    }\n",
       "</style>\n",
       "<table border=\"1\" class=\"dataframe\">\n",
       "  <thead>\n",
       "    <tr style=\"text-align: right;\">\n",
       "      <th></th>\n",
       "      <th>Año</th>\n",
       "      <th>Cantidad de Apps</th>\n",
       "      <th>Contenido Free</th>\n",
       "    </tr>\n",
       "  </thead>\n",
       "  <tbody>\n",
       "    <tr>\n",
       "      <th>0</th>\n",
       "      <td>2008</td>\n",
       "      <td>1</td>\n",
       "      <td>0.0</td>\n",
       "    </tr>\n",
       "    <tr>\n",
       "      <th>1</th>\n",
       "      <td>2010</td>\n",
       "      <td>4</td>\n",
       "      <td>25.0</td>\n",
       "    </tr>\n",
       "    <tr>\n",
       "      <th>2</th>\n",
       "      <td>2011</td>\n",
       "      <td>2</td>\n",
       "      <td>0.0</td>\n",
       "    </tr>\n",
       "    <tr>\n",
       "      <th>3</th>\n",
       "      <td>2013</td>\n",
       "      <td>1</td>\n",
       "      <td>100.0</td>\n",
       "    </tr>\n",
       "    <tr>\n",
       "      <th>4</th>\n",
       "      <td>2015</td>\n",
       "      <td>2</td>\n",
       "      <td>50.0</td>\n",
       "    </tr>\n",
       "    <tr>\n",
       "      <th>5</th>\n",
       "      <td>2016</td>\n",
       "      <td>1</td>\n",
       "      <td>0.0</td>\n",
       "    </tr>\n",
       "  </tbody>\n",
       "</table>\n",
       "</div>"
      ],
      "text/plain": [
       "    Año  Cantidad de Apps  Contenido Free\n",
       "0  2008                 1             0.0\n",
       "1  2010                 4            25.0\n",
       "2  2011                 2             0.0\n",
       "3  2013                 1           100.0\n",
       "4  2015                 2            50.0\n",
       "5  2016                 1             0.0"
      ]
     },
     "execution_count": 10,
     "metadata": {},
     "output_type": "execute_result"
    }
   ],
   "source": [
    "developer(\"blue byte\")"
   ]
  },
  {
   "cell_type": "markdown",
   "metadata": {},
   "source": [
    "#### Guardamos el dataframe para las consultas de la API ####\n",
    "\n",
    "*Lo exportamos a parquet:*"
   ]
  },
  {
   "cell_type": "code",
   "execution_count": 11,
   "metadata": {},
   "outputs": [],
   "source": [
    "devTab = pa.Table.from_pandas(dfDeveloper)\n",
    "dir = \"datafunc/developer.parquet\"\n",
    "pq.write_table(devTab,dir)"
   ]
  },
  {
   "cell_type": "markdown",
   "metadata": {},
   "source": [
    "#### **Función userdata** ####\n",
    "---\n",
    "\n",
    "*La función **userData** le permite al usuario **filtrar** por el **id de usuario** específico y mostrarle la **cantidad de dinero gastado**, el porcentaje de **recomedación** y la **cantidad de items** que adquirió.*"
   ]
  },
  {
   "cell_type": "markdown",
   "metadata": {},
   "source": [
    "#### Creamos el dataframe para facilitar esta función ####\n",
    "\n",
    "*Este dataframe solo contará con las columnas que nos interesan:*\n",
    "\n",
    "1. *IdUserSteam.*\n",
    "2. *IdApp.*\n",
    "2. *IsRecommend.*\n",
    "4. *Price.*"
   ]
  },
  {
   "cell_type": "markdown",
   "metadata": {},
   "source": [
    "*Unimos el dataframe **UsersItems** con el dataframe **dfGames**, en la columna IdApp*\n",
    "\n",
    "1. *Con el fin de traer la columna Price alojada en **dfGames**.*\n",
    "2. *Nos quedamos solo con las columnas que necesitaremos.*"
   ]
  },
  {
   "cell_type": "code",
   "execution_count": 12,
   "metadata": {},
   "outputs": [],
   "source": [
    "dfUserData = pd.merge(dfUsersItems, dfGames, on=\"IdApp\", how=\"left\")\n",
    "dfUserData = dfUserData[[\"IdUserSteam\",\"IdApp\",\"Price\"]]"
   ]
  },
  {
   "cell_type": "markdown",
   "metadata": {},
   "source": [
    "*Ahora necesitamos transformar el dataframe **dfUsReviews** para que nos muestre el porcentaje de **recomendación** por aplicación.*\n",
    "\n",
    "1. *Agrupamos por **IdApp** y contamos la cantidad de **Reviews** que tiene ese Id*\n",
    "2. *Contamos la cantidad de veces que **True** aparece en la columna.*\n",
    "3. *Unimos los resultados con el conteo.*\n"
   ]
  },
  {
   "cell_type": "code",
   "execution_count": 13,
   "metadata": {},
   "outputs": [
    {
     "data": {
      "text/html": [
       "<div>\n",
       "<style scoped>\n",
       "    .dataframe tbody tr th:only-of-type {\n",
       "        vertical-align: middle;\n",
       "    }\n",
       "\n",
       "    .dataframe tbody tr th {\n",
       "        vertical-align: top;\n",
       "    }\n",
       "\n",
       "    .dataframe thead th {\n",
       "        text-align: right;\n",
       "    }\n",
       "</style>\n",
       "<table border=\"1\" class=\"dataframe\">\n",
       "  <thead>\n",
       "    <tr style=\"text-align: right;\">\n",
       "      <th></th>\n",
       "      <th>IdApp</th>\n",
       "      <th>TotalReviews</th>\n",
       "      <th>TrueCount</th>\n",
       "      <th>RecommendsPercen</th>\n",
       "    </tr>\n",
       "  </thead>\n",
       "  <tbody>\n",
       "    <tr>\n",
       "      <th>0</th>\n",
       "      <td>10</td>\n",
       "      <td>57</td>\n",
       "      <td>56.0</td>\n",
       "      <td>98.25</td>\n",
       "    </tr>\n",
       "    <tr>\n",
       "      <th>1</th>\n",
       "      <td>20</td>\n",
       "      <td>17</td>\n",
       "      <td>11.0</td>\n",
       "      <td>64.71</td>\n",
       "    </tr>\n",
       "    <tr>\n",
       "      <th>2</th>\n",
       "      <td>30</td>\n",
       "      <td>4</td>\n",
       "      <td>3.0</td>\n",
       "      <td>75.00</td>\n",
       "    </tr>\n",
       "    <tr>\n",
       "      <th>3</th>\n",
       "      <td>40</td>\n",
       "      <td>1</td>\n",
       "      <td>1.0</td>\n",
       "      <td>100.00</td>\n",
       "    </tr>\n",
       "    <tr>\n",
       "      <th>4</th>\n",
       "      <td>50</td>\n",
       "      <td>4</td>\n",
       "      <td>3.0</td>\n",
       "      <td>75.00</td>\n",
       "    </tr>\n",
       "  </tbody>\n",
       "</table>\n",
       "</div>"
      ],
      "text/plain": [
       "   IdApp  TotalReviews  TrueCount  RecommendsPercen\n",
       "0     10            57       56.0             98.25\n",
       "1     20            17       11.0             64.71\n",
       "2     30             4        3.0             75.00\n",
       "3     40             1        1.0            100.00\n",
       "4     50             4        3.0             75.00"
      ]
     },
     "execution_count": 13,
     "metadata": {},
     "output_type": "execute_result"
    }
   ],
   "source": [
    "# Paso 1\n",
    "dfRecommends = dfUsReviews.groupby('IdApp').size().reset_index(name='TotalReviews')\n",
    "\n",
    "# Paso 2\n",
    "conteo_recomendado = dfUsReviews[dfUsReviews['IsRecommend']].groupby('IdApp').size().reset_index(name='TrueCount')\n",
    "\n",
    "# Paso 3:\n",
    "dfRecommends = pd.merge(dfRecommends, conteo_recomendado, on='IdApp', how='left')\n",
    "dfRecommends['RecommendsPercen'] = round((dfRecommends['TrueCount'] / dfRecommends['TotalReviews']) * 100,2)\n",
    "dfRecommends = dfRecommends.fillna(0)\n",
    "\n",
    "# Mostrar el DataFrame resultante\n",
    "dfRecommends.head(5)\n"
   ]
  },
  {
   "cell_type": "markdown",
   "metadata": {},
   "source": [
    "*Unimos el dataframe **dfUserData** con el dataframe **dfRecommends**, en la columna IdApp.*\n",
    "\n",
    "1. *Con el fin de traer la columna **RecommendsPercen**.*\n",
    "2. *Nos quedamos solo con las columnas que necesitaremos.*"
   ]
  },
  {
   "cell_type": "code",
   "execution_count": 14,
   "metadata": {},
   "outputs": [],
   "source": [
    "dfUserData = pd.merge(dfUserData, dfRecommends, on=\"IdApp\", how=\"left\")\n",
    "dfUserData = dfUserData[[\"IdUserSteam\",\"IdApp\",\"Price\",\"RecommendsPercen\"]]"
   ]
  },
  {
   "cell_type": "markdown",
   "metadata": {},
   "source": [
    "*Unimos el dataframe **dfUserData** con el dataframe **dfUsers**, en la columna IdUserSteam*\n",
    "\n",
    "1. *Con el fin de traer la columna **PurchasedItems**.*\n",
    "2. *Nos quedamos solo con las columnas que necesitaremos.*"
   ]
  },
  {
   "cell_type": "code",
   "execution_count": 15,
   "metadata": {},
   "outputs": [],
   "source": [
    "dfUserData = pd.merge(dfUserData, dfUsers, on=\"IdUserSteam\", how=\"left\")\n",
    "dfUserData = dfUserData[[\"IdUserSteam\",\"IdApp\",\"Price\",\"RecommendsPercen\",\"PurchasedItems\"]]"
   ]
  },
  {
   "cell_type": "markdown",
   "metadata": {},
   "source": [
    "*Revisamos el resultado de las consultas.*"
   ]
  },
  {
   "cell_type": "code",
   "execution_count": 16,
   "metadata": {},
   "outputs": [
    {
     "data": {
      "text/html": [
       "<div>\n",
       "<style scoped>\n",
       "    .dataframe tbody tr th:only-of-type {\n",
       "        vertical-align: middle;\n",
       "    }\n",
       "\n",
       "    .dataframe tbody tr th {\n",
       "        vertical-align: top;\n",
       "    }\n",
       "\n",
       "    .dataframe thead th {\n",
       "        text-align: right;\n",
       "    }\n",
       "</style>\n",
       "<table border=\"1\" class=\"dataframe\">\n",
       "  <thead>\n",
       "    <tr style=\"text-align: right;\">\n",
       "      <th></th>\n",
       "      <th>IdUserSteam</th>\n",
       "      <th>IdApp</th>\n",
       "      <th>Price</th>\n",
       "      <th>RecommendsPercen</th>\n",
       "      <th>PurchasedItems</th>\n",
       "    </tr>\n",
       "  </thead>\n",
       "  <tbody>\n",
       "    <tr>\n",
       "      <th>0</th>\n",
       "      <td>76561197960269200</td>\n",
       "      <td>306660</td>\n",
       "      <td>14.99</td>\n",
       "      <td>100.00</td>\n",
       "      <td>384</td>\n",
       "    </tr>\n",
       "    <tr>\n",
       "      <th>1</th>\n",
       "      <td>76561197960269200</td>\n",
       "      <td>12150</td>\n",
       "      <td>9.99</td>\n",
       "      <td>0.00</td>\n",
       "      <td>384</td>\n",
       "    </tr>\n",
       "    <tr>\n",
       "      <th>2</th>\n",
       "      <td>76561197960269200</td>\n",
       "      <td>4700</td>\n",
       "      <td>19.99</td>\n",
       "      <td>95.65</td>\n",
       "      <td>384</td>\n",
       "    </tr>\n",
       "    <tr>\n",
       "      <th>3</th>\n",
       "      <td>76561197960269200</td>\n",
       "      <td>4760</td>\n",
       "      <td>9.99</td>\n",
       "      <td>100.00</td>\n",
       "      <td>384</td>\n",
       "    </tr>\n",
       "    <tr>\n",
       "      <th>4</th>\n",
       "      <td>76561197960269200</td>\n",
       "      <td>10500</td>\n",
       "      <td>19.99</td>\n",
       "      <td>100.00</td>\n",
       "      <td>384</td>\n",
       "    </tr>\n",
       "  </tbody>\n",
       "</table>\n",
       "</div>"
      ],
      "text/plain": [
       "         IdUserSteam   IdApp  Price  RecommendsPercen  PurchasedItems\n",
       "0  76561197960269200  306660  14.99            100.00             384\n",
       "1  76561197960269200   12150   9.99              0.00             384\n",
       "2  76561197960269200    4700  19.99             95.65             384\n",
       "3  76561197960269200    4760   9.99            100.00             384\n",
       "4  76561197960269200   10500  19.99            100.00             384"
      ]
     },
     "execution_count": 16,
     "metadata": {},
     "output_type": "execute_result"
    }
   ],
   "source": [
    "dfUserData.head(5)"
   ]
  },
  {
   "cell_type": "markdown",
   "metadata": {},
   "source": [
    "#### Creamos la función userdata ####\n",
    "\n",
    "*Esta función recibirá como parametro:*\n",
    "\n",
    "1. *idUser = Cadena string con el número de id del usuario que se quiere consultar.*"
   ]
  },
  {
   "cell_type": "code",
   "execution_count": 17,
   "metadata": {},
   "outputs": [],
   "source": [
    "def userdata(idUser:str, data=dfUserData):\n",
    "    # Formateamos el string de entrada a número.\n",
    "    idUser = int(idUser)\n",
    "        \n",
    "    #Filtramos el dataframe y solo nos quedamos con el idusuario que queremos.\n",
    "    dfUs = data[data[\"IdUserSteam\"] == idUser]\n",
    "    \n",
    "    #Agrupamos por el usuario indicado.\n",
    "    groupUs = dfUs.groupby(\"IdUserSteam\")\n",
    "    \n",
    "    #Calculamos la suma de los precios de los items que adquirió el usuario.\n",
    "    totPrice = groupUs[\"Price\"].sum().reset_index(name=\"Dinero Gastado\")\n",
    "    \n",
    "    #Calculamos el promedio de recomendación de las apps que el usuario compró.\n",
    "    avgRecom = groupUs[\"RecommendsPercen\"].mean().reset_index(name=\"Porcentaje de Recomendación\")\n",
    "    \n",
    "    # Contamos la cantidad de items que compró el usuario.\n",
    "    purchasedItems = groupUs.size().reset_index(name='Cantidad de items')\n",
    "\n",
    "    # Unimos los resultados de las consultas.\n",
    "    dfUs = pd.merge(totPrice, avgRecom, on='IdUserSteam')\n",
    "    dfUs = pd.merge(dfUs, purchasedItems, on='IdUserSteam')\n",
    "    \n",
    "    return dfUs"
   ]
  },
  {
   "cell_type": "markdown",
   "metadata": {},
   "source": [
    "*Revisamos que funcione correctamente:*"
   ]
  },
  {
   "cell_type": "code",
   "execution_count": 18,
   "metadata": {},
   "outputs": [
    {
     "data": {
      "text/html": [
       "<div>\n",
       "<style scoped>\n",
       "    .dataframe tbody tr th:only-of-type {\n",
       "        vertical-align: middle;\n",
       "    }\n",
       "\n",
       "    .dataframe tbody tr th {\n",
       "        vertical-align: top;\n",
       "    }\n",
       "\n",
       "    .dataframe thead th {\n",
       "        text-align: right;\n",
       "    }\n",
       "</style>\n",
       "<table border=\"1\" class=\"dataframe\">\n",
       "  <thead>\n",
       "    <tr style=\"text-align: right;\">\n",
       "      <th></th>\n",
       "      <th>IdUserSteam</th>\n",
       "      <th>Dinero Gastado</th>\n",
       "      <th>Porcentaje de Recomendación</th>\n",
       "      <th>Cantidad de items</th>\n",
       "    </tr>\n",
       "  </thead>\n",
       "  <tbody>\n",
       "    <tr>\n",
       "      <th>0</th>\n",
       "      <td>76561197960269200</td>\n",
       "      <td>4598.53</td>\n",
       "      <td>83.513048</td>\n",
       "      <td>384</td>\n",
       "    </tr>\n",
       "  </tbody>\n",
       "</table>\n",
       "</div>"
      ],
      "text/plain": [
       "         IdUserSteam  Dinero Gastado  Porcentaje de Recomendación  \\\n",
       "0  76561197960269200         4598.53                    83.513048   \n",
       "\n",
       "   Cantidad de items  \n",
       "0                384  "
      ]
     },
     "execution_count": 18,
     "metadata": {},
     "output_type": "execute_result"
    }
   ],
   "source": [
    "userdata(\"76561197960269200\")"
   ]
  },
  {
   "cell_type": "code",
   "execution_count": 19,
   "metadata": {},
   "outputs": [
    {
     "data": {
      "text/html": [
       "<div>\n",
       "<style scoped>\n",
       "    .dataframe tbody tr th:only-of-type {\n",
       "        vertical-align: middle;\n",
       "    }\n",
       "\n",
       "    .dataframe tbody tr th {\n",
       "        vertical-align: top;\n",
       "    }\n",
       "\n",
       "    .dataframe thead th {\n",
       "        text-align: right;\n",
       "    }\n",
       "</style>\n",
       "<table border=\"1\" class=\"dataframe\">\n",
       "  <thead>\n",
       "    <tr style=\"text-align: right;\">\n",
       "      <th></th>\n",
       "      <th>IdUserSteam</th>\n",
       "      <th>Dinero Gastado</th>\n",
       "      <th>Porcentaje de Recomendación</th>\n",
       "      <th>Cantidad de items</th>\n",
       "    </tr>\n",
       "  </thead>\n",
       "  <tbody>\n",
       "    <tr>\n",
       "      <th>0</th>\n",
       "      <td>76561198329548331</td>\n",
       "      <td>0.0</td>\n",
       "      <td>52.305</td>\n",
       "      <td>7</td>\n",
       "    </tr>\n",
       "  </tbody>\n",
       "</table>\n",
       "</div>"
      ],
      "text/plain": [
       "         IdUserSteam  Dinero Gastado  Porcentaje de Recomendación  \\\n",
       "0  76561198329548331             0.0                       52.305   \n",
       "\n",
       "   Cantidad de items  \n",
       "0                  7  "
      ]
     },
     "execution_count": 19,
     "metadata": {},
     "output_type": "execute_result"
    }
   ],
   "source": [
    "userdata(\"76561198329548331\")"
   ]
  },
  {
   "cell_type": "markdown",
   "metadata": {},
   "source": [
    "#### Guardamos el dataframe para las consultas de la API ####\n",
    "\n",
    "*Lo exportamos a parquet*."
   ]
  },
  {
   "cell_type": "code",
   "execution_count": 20,
   "metadata": {},
   "outputs": [],
   "source": [
    "userTab = pa.Table.from_pandas(dfUserData)\n",
    "dir1 = \"datafunc/userdata.parquet\"\n",
    "pq.write_table(userTab,dir1)"
   ]
  },
  {
   "cell_type": "markdown",
   "metadata": {},
   "source": [
    "#### **Función userForGenre** ####\n",
    "---\n",
    "\n",
    "*La función **userForGenre** le permite al usuario **filtrar** por el **genero** específico de la aplicación y mostrarle el **usuario con más horas jugadas**, y la **lista de horas acumuladas por año de lanzamiento**.*"
   ]
  },
  {
   "cell_type": "markdown",
   "metadata": {},
   "source": [
    "#### Creamos el dataframe para facilitar esta función ####\n",
    "\n",
    "*Este dataframe solo contará con las columnas que nos interesan:*\n",
    "\n",
    "1. *IdUserSteam*\n",
    "2. *IdApp*\n",
    "3. *Playtime*\n",
    "4. *ReleaseYear*\n",
    "5. *Genres*"
   ]
  },
  {
   "cell_type": "markdown",
   "metadata": {},
   "source": [
    "*Unimos el dataframe **dfUsersItems** con el dataframe **dfGenres**, en la columna IdApp*\n",
    "\n",
    "1. *Con el fin de traer las columnas de los **géneros**.*\n",
    "2. *Nos quedamos solo con las columnas que necesitaremos.*"
   ]
  },
  {
   "cell_type": "code",
   "execution_count": 35,
   "metadata": {},
   "outputs": [
    {
     "data": {
      "text/html": [
       "<div>\n",
       "<style scoped>\n",
       "    .dataframe tbody tr th:only-of-type {\n",
       "        vertical-align: middle;\n",
       "    }\n",
       "\n",
       "    .dataframe tbody tr th {\n",
       "        vertical-align: top;\n",
       "    }\n",
       "\n",
       "    .dataframe thead th {\n",
       "        text-align: right;\n",
       "    }\n",
       "</style>\n",
       "<table border=\"1\" class=\"dataframe\">\n",
       "  <thead>\n",
       "    <tr style=\"text-align: right;\">\n",
       "      <th></th>\n",
       "      <th>IdUserSteam</th>\n",
       "      <th>IdApp</th>\n",
       "      <th>PlayTime</th>\n",
       "      <th>ACTION</th>\n",
       "      <th>ADVENTURE</th>\n",
       "      <th>ANIMATION &amp; MODELING</th>\n",
       "      <th>AUDIO PRODUCTION</th>\n",
       "      <th>CASUAL</th>\n",
       "      <th>DESIGN &amp; ILLUSTRATION</th>\n",
       "      <th>EARLY ACCESS</th>\n",
       "      <th>...</th>\n",
       "      <th>PHOTO EDITING</th>\n",
       "      <th>RPG</th>\n",
       "      <th>RACING</th>\n",
       "      <th>SIMULATION</th>\n",
       "      <th>SOFTWARE TRAINING</th>\n",
       "      <th>SPORTS</th>\n",
       "      <th>STRATEGY</th>\n",
       "      <th>UTILITIES</th>\n",
       "      <th>VIDEO PRODUCTION</th>\n",
       "      <th>WEB PUBLISHING</th>\n",
       "    </tr>\n",
       "  </thead>\n",
       "  <tbody>\n",
       "    <tr>\n",
       "      <th>0</th>\n",
       "      <td>76561197960269200</td>\n",
       "      <td>306660</td>\n",
       "      <td>0</td>\n",
       "      <td>0.0</td>\n",
       "      <td>0.0</td>\n",
       "      <td>0.0</td>\n",
       "      <td>0.0</td>\n",
       "      <td>0.0</td>\n",
       "      <td>0.0</td>\n",
       "      <td>0.0</td>\n",
       "      <td>...</td>\n",
       "      <td>0.0</td>\n",
       "      <td>0.0</td>\n",
       "      <td>0.0</td>\n",
       "      <td>1.0</td>\n",
       "      <td>0.0</td>\n",
       "      <td>0.0</td>\n",
       "      <td>1.0</td>\n",
       "      <td>0.0</td>\n",
       "      <td>0.0</td>\n",
       "      <td>0.0</td>\n",
       "    </tr>\n",
       "  </tbody>\n",
       "</table>\n",
       "<p>1 rows × 24 columns</p>\n",
       "</div>"
      ],
      "text/plain": [
       "         IdUserSteam   IdApp  PlayTime  ACTION  ADVENTURE  \\\n",
       "0  76561197960269200  306660         0     0.0        0.0   \n",
       "\n",
       "   ANIMATION & MODELING  AUDIO PRODUCTION  CASUAL  DESIGN & ILLUSTRATION  \\\n",
       "0                   0.0               0.0     0.0                    0.0   \n",
       "\n",
       "   EARLY ACCESS  ...  PHOTO EDITING  RPG  RACING  SIMULATION  \\\n",
       "0           0.0  ...            0.0  0.0     0.0         1.0   \n",
       "\n",
       "   SOFTWARE TRAINING  SPORTS  STRATEGY  UTILITIES  VIDEO PRODUCTION  \\\n",
       "0                0.0     0.0       1.0        0.0               0.0   \n",
       "\n",
       "   WEB PUBLISHING  \n",
       "0             0.0  \n",
       "\n",
       "[1 rows x 24 columns]"
      ]
     },
     "execution_count": 35,
     "metadata": {},
     "output_type": "execute_result"
    }
   ],
   "source": [
    "dfUxG = pd.merge(dfUsersItems,dfGenres, on=\"IdApp\", how=\"left\")\n",
    "dfUxG.drop(columns=[\"NameApp\",\"PlaytimeLast2W\"], inplace=True)\n",
    "dfUxG.columns = dfUxG.columns.str.upper()\n",
    "dfUxG.rename(columns={\"IDAPP\": \"IdApp\", \"IDUSERSTEAM\": \"IdUserSteam\", \"PLAYTIME\": \"PlayTime\"}, inplace=True)\n",
    "dfUxG.head(1)"
   ]
  },
  {
   "cell_type": "markdown",
   "metadata": {},
   "source": [
    "*Unimos el dataframe **dfUxG** con el dataframe **dfGames**, en la columna IdApp*\n",
    "\n",
    "1. *Con el fin de traer la columna **ReleaseYear**.*\n",
    "2. *Nos quedamos solo con las columnas que necesitaremos.*"
   ]
  },
  {
   "cell_type": "code",
   "execution_count": 36,
   "metadata": {},
   "outputs": [
    {
     "data": {
      "text/html": [
       "<div>\n",
       "<style scoped>\n",
       "    .dataframe tbody tr th:only-of-type {\n",
       "        vertical-align: middle;\n",
       "    }\n",
       "\n",
       "    .dataframe tbody tr th {\n",
       "        vertical-align: top;\n",
       "    }\n",
       "\n",
       "    .dataframe thead th {\n",
       "        text-align: right;\n",
       "    }\n",
       "</style>\n",
       "<table border=\"1\" class=\"dataframe\">\n",
       "  <thead>\n",
       "    <tr style=\"text-align: right;\">\n",
       "      <th></th>\n",
       "      <th>IdUserSteam</th>\n",
       "      <th>IdApp</th>\n",
       "      <th>PlayTime</th>\n",
       "      <th>ACTION</th>\n",
       "      <th>ADVENTURE</th>\n",
       "      <th>ANIMATION &amp; MODELING</th>\n",
       "      <th>AUDIO PRODUCTION</th>\n",
       "      <th>CASUAL</th>\n",
       "      <th>DESIGN &amp; ILLUSTRATION</th>\n",
       "      <th>EARLY ACCESS</th>\n",
       "      <th>...</th>\n",
       "      <th>RPG</th>\n",
       "      <th>RACING</th>\n",
       "      <th>SIMULATION</th>\n",
       "      <th>SOFTWARE TRAINING</th>\n",
       "      <th>SPORTS</th>\n",
       "      <th>STRATEGY</th>\n",
       "      <th>UTILITIES</th>\n",
       "      <th>VIDEO PRODUCTION</th>\n",
       "      <th>WEB PUBLISHING</th>\n",
       "      <th>ReleaseYear</th>\n",
       "    </tr>\n",
       "  </thead>\n",
       "  <tbody>\n",
       "    <tr>\n",
       "      <th>0</th>\n",
       "      <td>76561197960269200</td>\n",
       "      <td>306660</td>\n",
       "      <td>0</td>\n",
       "      <td>0.0</td>\n",
       "      <td>0.0</td>\n",
       "      <td>0.0</td>\n",
       "      <td>0.0</td>\n",
       "      <td>0.0</td>\n",
       "      <td>0.0</td>\n",
       "      <td>0.0</td>\n",
       "      <td>...</td>\n",
       "      <td>0.0</td>\n",
       "      <td>0.0</td>\n",
       "      <td>1.0</td>\n",
       "      <td>0.0</td>\n",
       "      <td>0.0</td>\n",
       "      <td>1.0</td>\n",
       "      <td>0.0</td>\n",
       "      <td>0.0</td>\n",
       "      <td>0.0</td>\n",
       "      <td>2014</td>\n",
       "    </tr>\n",
       "  </tbody>\n",
       "</table>\n",
       "<p>1 rows × 25 columns</p>\n",
       "</div>"
      ],
      "text/plain": [
       "         IdUserSteam   IdApp  PlayTime  ACTION  ADVENTURE  \\\n",
       "0  76561197960269200  306660         0     0.0        0.0   \n",
       "\n",
       "   ANIMATION & MODELING  AUDIO PRODUCTION  CASUAL  DESIGN & ILLUSTRATION  \\\n",
       "0                   0.0               0.0     0.0                    0.0   \n",
       "\n",
       "   EARLY ACCESS  ...  RPG  RACING  SIMULATION  SOFTWARE TRAINING  SPORTS  \\\n",
       "0           0.0  ...  0.0     0.0         1.0                0.0     0.0   \n",
       "\n",
       "   STRATEGY  UTILITIES  VIDEO PRODUCTION  WEB PUBLISHING  ReleaseYear  \n",
       "0       1.0        0.0               0.0             0.0         2014  \n",
       "\n",
       "[1 rows x 25 columns]"
      ]
     },
     "execution_count": 36,
     "metadata": {},
     "output_type": "execute_result"
    }
   ],
   "source": [
    "dfUxG = pd.merge(dfUxG, dfGames, on=\"IdApp\", how=\"left\")\n",
    "dfUxG.drop(columns=[\"Name\", \"Developer\", \"Publisher\", \"Price\", \"ReleaseMonth\"], inplace=True)\n",
    "dfUxG.head(1)"
   ]
  },
  {
   "cell_type": "markdown",
   "metadata": {},
   "source": [
    "#### Creamos la función userForGenre ####\n",
    "\n",
    "*Esta función recibirá como parametros: **genre** y el **dataframe**:*\n",
    "\n",
    "1. *genre = Cadena string con el nombre del genro que se quiere consultar.*"
   ]
  },
  {
   "cell_type": "code",
   "execution_count": 41,
   "metadata": {},
   "outputs": [],
   "source": [
    "def userforGenre(genre:str, data = dfUxG):\n",
    "    # Formateamos el string de entrada y lo capitalizamos.\n",
    "    genre = genre.upper()\n",
    "\n",
    "    #Filtramos el dataframe y solo nos quedamos con el genero que queremos y las filas que solo correspondan a ese genero.\n",
    "    data = data[[\"IdUserSteam\",\"PlayTime\",\"ReleaseYear\", genre]]\n",
    "    data = data[data[genre]==1]\n",
    "    data.drop(columns=genre, inplace=True)\n",
    "    \n",
    "    #Agrupamos por usuario y calculamos la suma de horas jugadas por cada usuario.\n",
    "    groupByUs = data.groupby('IdUserSteam')['PlayTime'].sum().reset_index()\n",
    "    \n",
    "    #Encontramos el usuario con mayor número de horas de playtime usando la funcion idxmax() que permite encontrar el valor max.\n",
    "    userMax = groupByUs.loc[groupByUs['PlayTime'].idxmax()]\n",
    "    \n",
    "    #Creamos las columnas por año y calculamos las sumas por año de ese usuario. Usamos pivot para convertir los valores en columnas\n",
    "    dfMax = data[data['IdUserSteam'] == userMax['IdUserSteam']]\n",
    "    dfPivoteado = dfMax.pivot_table(index='IdUserSteam', columns='ReleaseYear', values='PlayTime', aggfunc='sum').fillna(0)\n",
    "    \n",
    "    # Mostrar el resultado\n",
    "    print(\"IdUserSteam con más horas de Playtime:\", userMax['IdUserSteam'])\n",
    "    print(\"Total de horas de Playtime del usuario:\", userMax['PlayTime'])   \n",
    "    return dfPivoteado"
   ]
  },
  {
   "cell_type": "markdown",
   "metadata": {},
   "source": [
    "*Revisamos que funcione correctamente:*"
   ]
  },
  {
   "cell_type": "code",
   "execution_count": 42,
   "metadata": {},
   "outputs": [
    {
     "name": "stdout",
     "output_type": "stream",
     "text": [
      "IdUserSteam con más horas de Playtime: 76561197995207074\n",
      "Total de horas de Playtime del usuario: 1221941\n"
     ]
    },
    {
     "data": {
      "text/html": [
       "<div>\n",
       "<style scoped>\n",
       "    .dataframe tbody tr th:only-of-type {\n",
       "        vertical-align: middle;\n",
       "    }\n",
       "\n",
       "    .dataframe tbody tr th {\n",
       "        vertical-align: top;\n",
       "    }\n",
       "\n",
       "    .dataframe thead th {\n",
       "        text-align: right;\n",
       "    }\n",
       "</style>\n",
       "<table border=\"1\" class=\"dataframe\">\n",
       "  <thead>\n",
       "    <tr style=\"text-align: right;\">\n",
       "      <th>ReleaseYear</th>\n",
       "      <th>1999</th>\n",
       "      <th>2002</th>\n",
       "      <th>2004</th>\n",
       "      <th>2007</th>\n",
       "      <th>2008</th>\n",
       "      <th>2009</th>\n",
       "      <th>2010</th>\n",
       "      <th>2011</th>\n",
       "      <th>2012</th>\n",
       "      <th>2013</th>\n",
       "      <th>2014</th>\n",
       "      <th>2015</th>\n",
       "      <th>2016</th>\n",
       "      <th>2017</th>\n",
       "    </tr>\n",
       "    <tr>\n",
       "      <th>IdUserSteam</th>\n",
       "      <th></th>\n",
       "      <th></th>\n",
       "      <th></th>\n",
       "      <th></th>\n",
       "      <th></th>\n",
       "      <th></th>\n",
       "      <th></th>\n",
       "      <th></th>\n",
       "      <th></th>\n",
       "      <th></th>\n",
       "      <th></th>\n",
       "      <th></th>\n",
       "      <th></th>\n",
       "      <th></th>\n",
       "    </tr>\n",
       "  </thead>\n",
       "  <tbody>\n",
       "    <tr>\n",
       "      <th>76561197995207074</th>\n",
       "      <td>0</td>\n",
       "      <td>0</td>\n",
       "      <td>6985</td>\n",
       "      <td>0</td>\n",
       "      <td>1241</td>\n",
       "      <td>2870</td>\n",
       "      <td>12066</td>\n",
       "      <td>78658</td>\n",
       "      <td>29722</td>\n",
       "      <td>107965</td>\n",
       "      <td>121915</td>\n",
       "      <td>362201</td>\n",
       "      <td>498260</td>\n",
       "      <td>58</td>\n",
       "    </tr>\n",
       "  </tbody>\n",
       "</table>\n",
       "</div>"
      ],
      "text/plain": [
       "ReleaseYear        1999  2002  2004  2007  2008  2009   2010   2011   2012  \\\n",
       "IdUserSteam                                                                  \n",
       "76561197995207074     0     0  6985     0  1241  2870  12066  78658  29722   \n",
       "\n",
       "ReleaseYear          2013    2014    2015    2016  2017  \n",
       "IdUserSteam                                              \n",
       "76561197995207074  107965  121915  362201  498260    58  "
      ]
     },
     "execution_count": 42,
     "metadata": {},
     "output_type": "execute_result"
    }
   ],
   "source": [
    "userforGenre(\"Casual\")"
   ]
  },
  {
   "cell_type": "code",
   "execution_count": 43,
   "metadata": {},
   "outputs": [
    {
     "name": "stdout",
     "output_type": "stream",
     "text": [
      "IdUserSteam con más horas de Playtime: 76561198007282725\n",
      "Total de horas de Playtime del usuario: 1635566\n"
     ]
    },
    {
     "data": {
      "text/html": [
       "<div>\n",
       "<style scoped>\n",
       "    .dataframe tbody tr th:only-of-type {\n",
       "        vertical-align: middle;\n",
       "    }\n",
       "\n",
       "    .dataframe tbody tr th {\n",
       "        vertical-align: top;\n",
       "    }\n",
       "\n",
       "    .dataframe thead th {\n",
       "        text-align: right;\n",
       "    }\n",
       "</style>\n",
       "<table border=\"1\" class=\"dataframe\">\n",
       "  <thead>\n",
       "    <tr style=\"text-align: right;\">\n",
       "      <th>ReleaseYear</th>\n",
       "      <th>1993</th>\n",
       "      <th>1995</th>\n",
       "      <th>1996</th>\n",
       "      <th>1998</th>\n",
       "      <th>1999</th>\n",
       "      <th>2000</th>\n",
       "      <th>2001</th>\n",
       "      <th>2002</th>\n",
       "      <th>2003</th>\n",
       "      <th>2004</th>\n",
       "      <th>...</th>\n",
       "      <th>2008</th>\n",
       "      <th>2009</th>\n",
       "      <th>2010</th>\n",
       "      <th>2011</th>\n",
       "      <th>2012</th>\n",
       "      <th>2013</th>\n",
       "      <th>2014</th>\n",
       "      <th>2015</th>\n",
       "      <th>2016</th>\n",
       "      <th>2017</th>\n",
       "    </tr>\n",
       "    <tr>\n",
       "      <th>IdUserSteam</th>\n",
       "      <th></th>\n",
       "      <th></th>\n",
       "      <th></th>\n",
       "      <th></th>\n",
       "      <th></th>\n",
       "      <th></th>\n",
       "      <th></th>\n",
       "      <th></th>\n",
       "      <th></th>\n",
       "      <th></th>\n",
       "      <th></th>\n",
       "      <th></th>\n",
       "      <th></th>\n",
       "      <th></th>\n",
       "      <th></th>\n",
       "      <th></th>\n",
       "      <th></th>\n",
       "      <th></th>\n",
       "      <th></th>\n",
       "      <th></th>\n",
       "      <th></th>\n",
       "    </tr>\n",
       "  </thead>\n",
       "  <tbody>\n",
       "    <tr>\n",
       "      <th>76561198007282725</th>\n",
       "      <td>0</td>\n",
       "      <td>217</td>\n",
       "      <td>0</td>\n",
       "      <td>0</td>\n",
       "      <td>44</td>\n",
       "      <td>70644</td>\n",
       "      <td>13</td>\n",
       "      <td>238</td>\n",
       "      <td>7673</td>\n",
       "      <td>127411</td>\n",
       "      <td>...</td>\n",
       "      <td>224</td>\n",
       "      <td>108326</td>\n",
       "      <td>78083</td>\n",
       "      <td>93757</td>\n",
       "      <td>378296</td>\n",
       "      <td>120306</td>\n",
       "      <td>130452</td>\n",
       "      <td>312238</td>\n",
       "      <td>29298</td>\n",
       "      <td>43327</td>\n",
       "    </tr>\n",
       "  </tbody>\n",
       "</table>\n",
       "<p>1 rows × 23 columns</p>\n",
       "</div>"
      ],
      "text/plain": [
       "ReleaseYear        1993  1995  1996  1998  1999   2000  2001  2002  2003  \\\n",
       "IdUserSteam                                                                \n",
       "76561198007282725     0   217     0     0    44  70644    13   238  7673   \n",
       "\n",
       "ReleaseYear          2004  ...  2008    2009   2010   2011    2012    2013  \\\n",
       "IdUserSteam                ...                                               \n",
       "76561198007282725  127411  ...   224  108326  78083  93757  378296  120306   \n",
       "\n",
       "ReleaseYear          2014    2015   2016   2017  \n",
       "IdUserSteam                                      \n",
       "76561198007282725  130452  312238  29298  43327  \n",
       "\n",
       "[1 rows x 23 columns]"
      ]
     },
     "execution_count": 43,
     "metadata": {},
     "output_type": "execute_result"
    }
   ],
   "source": [
    "userforGenre(\"Action\")"
   ]
  },
  {
   "cell_type": "markdown",
   "metadata": {},
   "source": [
    "#### Guardamos el dataframe para las consultas de la API ####\n",
    "\n",
    "*Lo exportamos a parquet*."
   ]
  },
  {
   "cell_type": "code",
   "execution_count": 44,
   "metadata": {},
   "outputs": [],
   "source": [
    "genreTab = pa.Table.from_pandas(dfUxG)\n",
    "dir2 = \"datafunc/userbygenre.parquet\"\n",
    "pq.write_table(genreTab,dir2)"
   ]
  },
  {
   "cell_type": "markdown",
   "metadata": {},
   "source": [
    "#### **Función bestDeveloper** ####\n",
    "---\n",
    "\n",
    "*La función **bestDEveloper** le permite al usuario **filtrar** por el **año** específico de lanzamiento de apps y mostrarle el **top 3 de los juegos más recomendados** para ese año.*"
   ]
  },
  {
   "cell_type": "markdown",
   "metadata": {},
   "source": [
    "#### Creamos el dataframe para facilitar esta función ####\n",
    "\n",
    "*Este dataframe solo contará con las columnas que nos interesan:*\n",
    "\n",
    "1. *IdApp*\n",
    "2. *TrueCount*\n",
    "3. *Developer*\n",
    "4. *ReleaseYear*"
   ]
  },
  {
   "cell_type": "markdown",
   "metadata": {},
   "source": [
    "*Unimos el dataframe **dfRecommends** con el dataframe **dfGames**, en la columna IdApp*\n",
    "\n",
    "1. *Con el fin de traer las columnas **Developer** y **ReleaseYear**.*\n",
    "2. *Nos quedamos solo con las columnas que necesitaremos.*"
   ]
  },
  {
   "cell_type": "code",
   "execution_count": 51,
   "metadata": {},
   "outputs": [
    {
     "data": {
      "text/html": [
       "<div>\n",
       "<style scoped>\n",
       "    .dataframe tbody tr th:only-of-type {\n",
       "        vertical-align: middle;\n",
       "    }\n",
       "\n",
       "    .dataframe tbody tr th {\n",
       "        vertical-align: top;\n",
       "    }\n",
       "\n",
       "    .dataframe thead th {\n",
       "        text-align: right;\n",
       "    }\n",
       "</style>\n",
       "<table border=\"1\" class=\"dataframe\">\n",
       "  <thead>\n",
       "    <tr style=\"text-align: right;\">\n",
       "      <th></th>\n",
       "      <th>IdApp</th>\n",
       "      <th>TrueCount</th>\n",
       "      <th>Developer</th>\n",
       "      <th>ReleaseYear</th>\n",
       "    </tr>\n",
       "  </thead>\n",
       "  <tbody>\n",
       "    <tr>\n",
       "      <th>0</th>\n",
       "      <td>10</td>\n",
       "      <td>56.0</td>\n",
       "      <td>Valve</td>\n",
       "      <td>2000</td>\n",
       "    </tr>\n",
       "  </tbody>\n",
       "</table>\n",
       "</div>"
      ],
      "text/plain": [
       "   IdApp  TrueCount Developer ReleaseYear\n",
       "0     10       56.0     Valve        2000"
      ]
     },
     "execution_count": 51,
     "metadata": {},
     "output_type": "execute_result"
    }
   ],
   "source": [
    "dfBestDevs = pd.merge(dfRecommends,dfGames, on=\"IdApp\", how=\"left\")\n",
    "dfBestDevs.drop(columns=[\"TotalReviews\",\"RecommendsPercen\", \"Name\", \"Publisher\", \"Price\", \"ReleaseMonth\"], inplace=True)\n",
    "dfBestDevs.head(1)"
   ]
  },
  {
   "cell_type": "markdown",
   "metadata": {},
   "source": [
    "#### Creamos la función bestDeveloper ####\n",
    "\n",
    "*Esta función recibirá como parametros: **Año** y el **dataframe**:*\n",
    "\n",
    "1. *Año = Cadena de String del año de lanzamiento.*"
   ]
  },
  {
   "cell_type": "code",
   "execution_count": 52,
   "metadata": {},
   "outputs": [],
   "source": [
    "def bestDeveloper(year:str, data = dfBestDevs):\n",
    "    #Filtramos el dataframe y solo nos quedamos con el año que queremos.\n",
    "    data = data[data[\"ReleaseYear\"]==year]\n",
    "    data = data.drop(columns=\"IdApp\")\n",
    "    \n",
    "    #Agrupamos por usuario y calculamos la suma de recomendaciones por developer.\n",
    "    groupByDev = data.groupby(\"Developer\")['TrueCount'].sum().reset_index()\n",
    "    \n",
    "    #Ordenamos los resultados de mayor a menor y filtramos solo los 3 primeros\n",
    "    bestdev = groupByDev.sort_values(by=\"TrueCount\",ascending=False).head(3)\n",
    "    \n",
    "    #Reseatamos los indices y los convertimos en una columna de Ranking\n",
    "    bestdev.reset_index(drop=True, inplace=True)\n",
    "    bestdev.index += 1\n",
    "    bestdev.reset_index(inplace=True)\n",
    "    bestdev.rename(columns={'index': 'Puesto'}, inplace=True)\n",
    "    \n",
    "    #Eliminamos columna TrueCount\n",
    "    bestdev.drop(columns=\"TrueCount\", inplace=True)\n",
    "    \n",
    "    return bestdev"
   ]
  },
  {
   "cell_type": "markdown",
   "metadata": {},
   "source": [
    "*Revisamos que funcione correctamente:*"
   ]
  },
  {
   "cell_type": "code",
   "execution_count": 47,
   "metadata": {},
   "outputs": [
    {
     "data": {
      "text/html": [
       "<div>\n",
       "<style scoped>\n",
       "    .dataframe tbody tr th:only-of-type {\n",
       "        vertical-align: middle;\n",
       "    }\n",
       "\n",
       "    .dataframe tbody tr th {\n",
       "        vertical-align: top;\n",
       "    }\n",
       "\n",
       "    .dataframe thead th {\n",
       "        text-align: right;\n",
       "    }\n",
       "</style>\n",
       "<table border=\"1\" class=\"dataframe\">\n",
       "  <thead>\n",
       "    <tr style=\"text-align: right;\">\n",
       "      <th></th>\n",
       "      <th>Puesto</th>\n",
       "      <th>Developer</th>\n",
       "    </tr>\n",
       "  </thead>\n",
       "  <tbody>\n",
       "    <tr>\n",
       "      <th>0</th>\n",
       "      <td>1</td>\n",
       "      <td>Bohemia Interactive</td>\n",
       "    </tr>\n",
       "    <tr>\n",
       "      <th>1</th>\n",
       "      <td>2</td>\n",
       "      <td>Facepunch Studios</td>\n",
       "    </tr>\n",
       "    <tr>\n",
       "      <th>2</th>\n",
       "      <td>3</td>\n",
       "      <td>Digital Extremes</td>\n",
       "    </tr>\n",
       "  </tbody>\n",
       "</table>\n",
       "</div>"
      ],
      "text/plain": [
       "   Puesto            Developer\n",
       "0       1  Bohemia Interactive\n",
       "1       2    Facepunch Studios\n",
       "2       3     Digital Extremes"
      ]
     },
     "execution_count": 47,
     "metadata": {},
     "output_type": "execute_result"
    }
   ],
   "source": [
    "bestDeveloper(\"2013\")"
   ]
  },
  {
   "cell_type": "code",
   "execution_count": 48,
   "metadata": {},
   "outputs": [
    {
     "data": {
      "text/html": [
       "<div>\n",
       "<style scoped>\n",
       "    .dataframe tbody tr th:only-of-type {\n",
       "        vertical-align: middle;\n",
       "    }\n",
       "\n",
       "    .dataframe tbody tr th {\n",
       "        vertical-align: top;\n",
       "    }\n",
       "\n",
       "    .dataframe thead th {\n",
       "        text-align: right;\n",
       "    }\n",
       "</style>\n",
       "<table border=\"1\" class=\"dataframe\">\n",
       "  <thead>\n",
       "    <tr style=\"text-align: right;\">\n",
       "      <th></th>\n",
       "      <th>Puesto</th>\n",
       "      <th>Developer</th>\n",
       "    </tr>\n",
       "  </thead>\n",
       "  <tbody>\n",
       "    <tr>\n",
       "      <th>0</th>\n",
       "      <td>1</td>\n",
       "      <td>Smartly Dressed Games</td>\n",
       "    </tr>\n",
       "    <tr>\n",
       "      <th>1</th>\n",
       "      <td>2</td>\n",
       "      <td>Freejam</td>\n",
       "    </tr>\n",
       "    <tr>\n",
       "      <th>2</th>\n",
       "      <td>3</td>\n",
       "      <td>Studio Wildcard,Instinct Games,Efecto Studios,...</td>\n",
       "    </tr>\n",
       "  </tbody>\n",
       "</table>\n",
       "</div>"
      ],
      "text/plain": [
       "   Puesto                                          Developer\n",
       "0       1                              Smartly Dressed Games\n",
       "1       2                                            Freejam\n",
       "2       3  Studio Wildcard,Instinct Games,Efecto Studios,..."
      ]
     },
     "execution_count": 48,
     "metadata": {},
     "output_type": "execute_result"
    }
   ],
   "source": [
    "bestDeveloper(\"2017\")"
   ]
  },
  {
   "cell_type": "markdown",
   "metadata": {},
   "source": [
    "#### Guardamos el dataframe para las consultas de la API ####\n",
    "\n",
    "*Lo exportamos a parquet*."
   ]
  },
  {
   "cell_type": "code",
   "execution_count": 49,
   "metadata": {},
   "outputs": [],
   "source": [
    "bestTab = pa.Table.from_pandas(dfBestDevs)\n",
    "dir3 = \"datafunc/bestDevs.parquet\"\n",
    "pq.write_table(bestTab,dir3)"
   ]
  },
  {
   "cell_type": "markdown",
   "metadata": {},
   "source": [
    "#### **Función developerReviewsAnalysis** ####\n",
    "---\n",
    "\n",
    "*La función **developerReviewsAnalysis** le permite al usuario **filtrar** por un **desarrollador** específico y mostrarle la  **cantidad de reseñas categorizadas como positivas** y la **cantidad de reseñas categorizadas como negativas**.*"
   ]
  },
  {
   "cell_type": "markdown",
   "metadata": {},
   "source": [
    "#### Creamos el dataframe para facilitar esta función ####\n",
    "\n",
    "*Este dataframe solo contará con las columnas que nos interesan:*\n",
    "\n",
    "1. *IdApp*\n",
    "2. *SentAn1*\n",
    "3. *Developer*"
   ]
  },
  {
   "cell_type": "markdown",
   "metadata": {},
   "source": [
    "*Unimos el dataframe **dfFeelings** con el dataframe **dfGames**, en la columna IdApp*\n",
    "\n",
    "1. *Con el fin de traer la columna **Developer**.*\n",
    "2. *Nos quedamos solo con las columnas que necesitaremos.*"
   ]
  },
  {
   "cell_type": "code",
   "execution_count": 53,
   "metadata": {},
   "outputs": [
    {
     "data": {
      "text/html": [
       "<div>\n",
       "<style scoped>\n",
       "    .dataframe tbody tr th:only-of-type {\n",
       "        vertical-align: middle;\n",
       "    }\n",
       "\n",
       "    .dataframe tbody tr th {\n",
       "        vertical-align: top;\n",
       "    }\n",
       "\n",
       "    .dataframe thead th {\n",
       "        text-align: right;\n",
       "    }\n",
       "</style>\n",
       "<table border=\"1\" class=\"dataframe\">\n",
       "  <thead>\n",
       "    <tr style=\"text-align: right;\">\n",
       "      <th></th>\n",
       "      <th>IdApp</th>\n",
       "      <th>Developer</th>\n",
       "      <th>SenAn1</th>\n",
       "    </tr>\n",
       "  </thead>\n",
       "  <tbody>\n",
       "    <tr>\n",
       "      <th>0</th>\n",
       "      <td>10</td>\n",
       "      <td>VALVE</td>\n",
       "      <td>2</td>\n",
       "    </tr>\n",
       "    <tr>\n",
       "      <th>1</th>\n",
       "      <td>10</td>\n",
       "      <td>VALVE</td>\n",
       "      <td>2</td>\n",
       "    </tr>\n",
       "    <tr>\n",
       "      <th>2</th>\n",
       "      <td>10</td>\n",
       "      <td>VALVE</td>\n",
       "      <td>1</td>\n",
       "    </tr>\n",
       "    <tr>\n",
       "      <th>3</th>\n",
       "      <td>10</td>\n",
       "      <td>VALVE</td>\n",
       "      <td>2</td>\n",
       "    </tr>\n",
       "    <tr>\n",
       "      <th>4</th>\n",
       "      <td>10</td>\n",
       "      <td>VALVE</td>\n",
       "      <td>2</td>\n",
       "    </tr>\n",
       "    <tr>\n",
       "      <th>5</th>\n",
       "      <td>10</td>\n",
       "      <td>VALVE</td>\n",
       "      <td>1</td>\n",
       "    </tr>\n",
       "    <tr>\n",
       "      <th>6</th>\n",
       "      <td>10</td>\n",
       "      <td>VALVE</td>\n",
       "      <td>2</td>\n",
       "    </tr>\n",
       "    <tr>\n",
       "      <th>7</th>\n",
       "      <td>10</td>\n",
       "      <td>VALVE</td>\n",
       "      <td>1</td>\n",
       "    </tr>\n",
       "    <tr>\n",
       "      <th>8</th>\n",
       "      <td>10</td>\n",
       "      <td>VALVE</td>\n",
       "      <td>1</td>\n",
       "    </tr>\n",
       "    <tr>\n",
       "      <th>9</th>\n",
       "      <td>10</td>\n",
       "      <td>VALVE</td>\n",
       "      <td>2</td>\n",
       "    </tr>\n",
       "    <tr>\n",
       "      <th>10</th>\n",
       "      <td>10</td>\n",
       "      <td>VALVE</td>\n",
       "      <td>2</td>\n",
       "    </tr>\n",
       "    <tr>\n",
       "      <th>11</th>\n",
       "      <td>10</td>\n",
       "      <td>VALVE</td>\n",
       "      <td>2</td>\n",
       "    </tr>\n",
       "    <tr>\n",
       "      <th>12</th>\n",
       "      <td>10</td>\n",
       "      <td>VALVE</td>\n",
       "      <td>2</td>\n",
       "    </tr>\n",
       "    <tr>\n",
       "      <th>13</th>\n",
       "      <td>10</td>\n",
       "      <td>VALVE</td>\n",
       "      <td>1</td>\n",
       "    </tr>\n",
       "    <tr>\n",
       "      <th>14</th>\n",
       "      <td>10</td>\n",
       "      <td>VALVE</td>\n",
       "      <td>1</td>\n",
       "    </tr>\n",
       "  </tbody>\n",
       "</table>\n",
       "</div>"
      ],
      "text/plain": [
       "    IdApp Developer  SenAn1\n",
       "0      10     VALVE       2\n",
       "1      10     VALVE       2\n",
       "2      10     VALVE       1\n",
       "3      10     VALVE       2\n",
       "4      10     VALVE       2\n",
       "5      10     VALVE       1\n",
       "6      10     VALVE       2\n",
       "7      10     VALVE       1\n",
       "8      10     VALVE       1\n",
       "9      10     VALVE       2\n",
       "10     10     VALVE       2\n",
       "11     10     VALVE       2\n",
       "12     10     VALVE       2\n",
       "13     10     VALVE       1\n",
       "14     10     VALVE       1"
      ]
     },
     "execution_count": 53,
     "metadata": {},
     "output_type": "execute_result"
    }
   ],
   "source": [
    "dfRevFeels = pd.merge(dfFeelings,dfGames, on=\"IdApp\", how=\"left\")\n",
    "dfRevFeels = dfRevFeels[[\"IdApp\", \"Developer\", \"SenAn1\"]]\n",
    "dfRevFeels[\"Developer\"] = dfRevFeels[\"Developer\"].str.upper()\n",
    "dfRevFeels.head(15)"
   ]
  },
  {
   "cell_type": "markdown",
   "metadata": {},
   "source": [
    "#### Creamos la función developerReviewsAnalysis ####\n",
    "\n",
    "*Esta función recibirá como parametros: **developer** y el **dataframe**:*\n",
    "\n",
    "1. *Developer = Cadena de String del nombre del desarrollador.*"
   ]
  },
  {
   "cell_type": "code",
   "execution_count": 54,
   "metadata": {},
   "outputs": [],
   "source": [
    "def developerReviewsAnalysis(developer:str, data = dfRevFeels):\n",
    "    developer = developer.upper()\n",
    "    #Filtramos el dataframe y solo nos quedamos con el developer que queremos.\n",
    "    data = data[data[\"Developer\"]==developer]\n",
    "    data = data.drop(columns=[\"IdApp\", \"Developer\"])\n",
    "    \n",
    "    #Transformamos la columna SenAn1 en columnas dummies\n",
    "    dummy = pd.get_dummies(data['SenAn1'])\n",
    "    dummy.drop(columns=1, inplace=True)\n",
    "    dummy.rename(columns={0 : \"Negative\", 2 : \"Positive\"}, inplace=True)\n",
    "\n",
    "    return dummy.sum()"
   ]
  },
  {
   "cell_type": "markdown",
   "metadata": {},
   "source": [
    "*Revisamos que funcione correctamente:*"
   ]
  },
  {
   "cell_type": "code",
   "execution_count": 55,
   "metadata": {},
   "outputs": [
    {
     "data": {
      "text/plain": [
       "Negative    1344\n",
       "Positive    4989\n",
       "dtype: int64"
      ]
     },
     "execution_count": 55,
     "metadata": {},
     "output_type": "execute_result"
    }
   ],
   "source": [
    "developerReviewsAnalysis(\"Valve\")"
   ]
  },
  {
   "cell_type": "code",
   "execution_count": 56,
   "metadata": {},
   "outputs": [
    {
     "data": {
      "text/plain": [
       "Negative    5\n",
       "Positive    1\n",
       "dtype: int64"
      ]
     },
     "execution_count": 56,
     "metadata": {},
     "output_type": "execute_result"
    }
   ],
   "source": [
    "developerReviewsAnalysis(\"blue byte\")"
   ]
  },
  {
   "cell_type": "markdown",
   "metadata": {},
   "source": [
    "#### Guardamos el dataframe para las consultas de la API ####\n",
    "\n",
    "*Lo exportamos a parquet*."
   ]
  },
  {
   "cell_type": "code",
   "execution_count": 269,
   "metadata": {},
   "outputs": [],
   "source": [
    "revTab = pa.Table.from_pandas(dfRevFeels)\n",
    "dir4 = \"datafunc/devRevAna.parquet\"\n",
    "pq.write_table(revTab,dir4)"
   ]
  }
 ],
 "metadata": {
  "kernelspec": {
   "display_name": "env",
   "language": "python",
   "name": "python3"
  },
  "language_info": {
   "codemirror_mode": {
    "name": "ipython",
    "version": 3
   },
   "file_extension": ".py",
   "mimetype": "text/x-python",
   "name": "python",
   "nbconvert_exporter": "python",
   "pygments_lexer": "ipython3",
   "version": "3.11.8"
  }
 },
 "nbformat": 4,
 "nbformat_minor": 2
}
