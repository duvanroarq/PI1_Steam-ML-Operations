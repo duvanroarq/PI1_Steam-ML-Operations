{
 "cells": [
  {
   "cell_type": "markdown",
   "metadata": {},
   "source": [
    "# **Modelo de Machine Learning**\n",
    "\n",
    "*A continuación se muestran los resultados del modelo de entrenamiento para un sistema de recomendación basado en **item-item** que identifica que tan similar es un item con respecto al resto y con base a ello realiza un **conjunto de recomendaciones**.*\n",
    "\n",
    "**Nota:** *Esta función se creará en el archivo [main](main.py)*"
   ]
  },
  {
   "cell_type": "markdown",
   "metadata": {},
   "source": [
    "#### **Importación de librerías** ####\n",
    "---\n",
    "\n",
    "*Para este cuaderno usaremos las siguientes librerías: **pandas**, **Scikit Learn** y **Pyarrow**.*"
   ]
  },
  {
   "cell_type": "code",
   "execution_count": 1,
   "metadata": {},
   "outputs": [],
   "source": [
    "import pandas as pd\n",
    "from sklearn.metrics.pairwise import cosine_similarity\n",
    "import pyarrow as pa\n",
    "import pyarrow.parquet as pq"
   ]
  },
  {
   "cell_type": "code",
   "execution_count": 2,
   "metadata": {},
   "outputs": [],
   "source": [
    "dfGames= pd.read_parquet(\"dataout/out_games.parquet\")\n",
    "dfGenres = pd.read_parquet(\"dataout/out_genres_games.parquet\")"
   ]
  },
  {
   "cell_type": "markdown",
   "metadata": {},
   "source": [
    "#### **Función recomendacionJuego** ####\n",
    "---\n",
    "\n",
    "*La función **recomendacionJuego** le permite al usuario **filtrar** por un **id de aplicación** específico y mostrarle una lista de recomendaciones de **5 apps similares** a esa aplicación buscada.*"
   ]
  },
  {
   "cell_type": "markdown",
   "metadata": {},
   "source": [
    "#### Creamos el dataframe que contiene los indices de aplicación, los ids de aplicación y sus nombres para facilitar esta función ####\n",
    "\n",
    "*Este dataframe solo contará con las columnas que nos interesan:*\n",
    "\n",
    "1. *IdApp.*\n",
    "2. *Name.*\n"
   ]
  },
  {
   "cell_type": "code",
   "execution_count": 3,
   "metadata": {},
   "outputs": [],
   "source": [
    "dfApps = dfGames[[\"IdApp\", \"Name\"]]"
   ]
  },
  {
   "cell_type": "markdown",
   "metadata": {},
   "source": [
    "#### Creamos el dataframe dfSimilitudes ####\n",
    "\n",
    "*Este dataframe será la matriz de similitudes que facilitará la busqueda de aplicaciones con mayor similitud.*\n",
    "\n",
    "1. *Las columnas y los indices serán, los indices correspondientes a cada idApp en la columna **dfApps**.*\n"
   ]
  },
  {
   "cell_type": "code",
   "execution_count": 4,
   "metadata": {},
   "outputs": [
    {
     "data": {
      "text/html": [
       "<div>\n",
       "<style scoped>\n",
       "    .dataframe tbody tr th:only-of-type {\n",
       "        vertical-align: middle;\n",
       "    }\n",
       "\n",
       "    .dataframe tbody tr th {\n",
       "        vertical-align: top;\n",
       "    }\n",
       "\n",
       "    .dataframe thead th {\n",
       "        text-align: right;\n",
       "    }\n",
       "</style>\n",
       "<table border=\"1\" class=\"dataframe\">\n",
       "  <thead>\n",
       "    <tr style=\"text-align: right;\">\n",
       "      <th></th>\n",
       "      <th>0</th>\n",
       "      <th>1</th>\n",
       "      <th>2</th>\n",
       "      <th>3</th>\n",
       "      <th>4</th>\n",
       "      <th>5</th>\n",
       "      <th>6</th>\n",
       "      <th>7</th>\n",
       "      <th>8</th>\n",
       "      <th>9</th>\n",
       "      <th>...</th>\n",
       "      <th>22519</th>\n",
       "      <th>22520</th>\n",
       "      <th>22521</th>\n",
       "      <th>22522</th>\n",
       "      <th>22523</th>\n",
       "      <th>22524</th>\n",
       "      <th>22525</th>\n",
       "      <th>22526</th>\n",
       "      <th>22527</th>\n",
       "      <th>22528</th>\n",
       "    </tr>\n",
       "  </thead>\n",
       "  <tbody>\n",
       "    <tr>\n",
       "      <th>0</th>\n",
       "      <td>1.0</td>\n",
       "      <td>1.0</td>\n",
       "      <td>1.0</td>\n",
       "      <td>1.0</td>\n",
       "      <td>1.0</td>\n",
       "      <td>1.0</td>\n",
       "      <td>1.0</td>\n",
       "      <td>1.0</td>\n",
       "      <td>1.0</td>\n",
       "      <td>1.0</td>\n",
       "      <td>...</td>\n",
       "      <td>0.0</td>\n",
       "      <td>0.707107</td>\n",
       "      <td>0.0</td>\n",
       "      <td>0.0</td>\n",
       "      <td>1.0</td>\n",
       "      <td>1.0</td>\n",
       "      <td>0.0</td>\n",
       "      <td>1.0</td>\n",
       "      <td>0.707107</td>\n",
       "      <td>1.0</td>\n",
       "    </tr>\n",
       "    <tr>\n",
       "      <th>1</th>\n",
       "      <td>1.0</td>\n",
       "      <td>1.0</td>\n",
       "      <td>1.0</td>\n",
       "      <td>1.0</td>\n",
       "      <td>1.0</td>\n",
       "      <td>1.0</td>\n",
       "      <td>1.0</td>\n",
       "      <td>1.0</td>\n",
       "      <td>1.0</td>\n",
       "      <td>1.0</td>\n",
       "      <td>...</td>\n",
       "      <td>0.0</td>\n",
       "      <td>0.707107</td>\n",
       "      <td>0.0</td>\n",
       "      <td>0.0</td>\n",
       "      <td>1.0</td>\n",
       "      <td>1.0</td>\n",
       "      <td>0.0</td>\n",
       "      <td>1.0</td>\n",
       "      <td>0.707107</td>\n",
       "      <td>1.0</td>\n",
       "    </tr>\n",
       "    <tr>\n",
       "      <th>2</th>\n",
       "      <td>1.0</td>\n",
       "      <td>1.0</td>\n",
       "      <td>1.0</td>\n",
       "      <td>1.0</td>\n",
       "      <td>1.0</td>\n",
       "      <td>1.0</td>\n",
       "      <td>1.0</td>\n",
       "      <td>1.0</td>\n",
       "      <td>1.0</td>\n",
       "      <td>1.0</td>\n",
       "      <td>...</td>\n",
       "      <td>0.0</td>\n",
       "      <td>0.707107</td>\n",
       "      <td>0.0</td>\n",
       "      <td>0.0</td>\n",
       "      <td>1.0</td>\n",
       "      <td>1.0</td>\n",
       "      <td>0.0</td>\n",
       "      <td>1.0</td>\n",
       "      <td>0.707107</td>\n",
       "      <td>1.0</td>\n",
       "    </tr>\n",
       "    <tr>\n",
       "      <th>3</th>\n",
       "      <td>1.0</td>\n",
       "      <td>1.0</td>\n",
       "      <td>1.0</td>\n",
       "      <td>1.0</td>\n",
       "      <td>1.0</td>\n",
       "      <td>1.0</td>\n",
       "      <td>1.0</td>\n",
       "      <td>1.0</td>\n",
       "      <td>1.0</td>\n",
       "      <td>1.0</td>\n",
       "      <td>...</td>\n",
       "      <td>0.0</td>\n",
       "      <td>0.707107</td>\n",
       "      <td>0.0</td>\n",
       "      <td>0.0</td>\n",
       "      <td>1.0</td>\n",
       "      <td>1.0</td>\n",
       "      <td>0.0</td>\n",
       "      <td>1.0</td>\n",
       "      <td>0.707107</td>\n",
       "      <td>1.0</td>\n",
       "    </tr>\n",
       "    <tr>\n",
       "      <th>4</th>\n",
       "      <td>1.0</td>\n",
       "      <td>1.0</td>\n",
       "      <td>1.0</td>\n",
       "      <td>1.0</td>\n",
       "      <td>1.0</td>\n",
       "      <td>1.0</td>\n",
       "      <td>1.0</td>\n",
       "      <td>1.0</td>\n",
       "      <td>1.0</td>\n",
       "      <td>1.0</td>\n",
       "      <td>...</td>\n",
       "      <td>0.0</td>\n",
       "      <td>0.707107</td>\n",
       "      <td>0.0</td>\n",
       "      <td>0.0</td>\n",
       "      <td>1.0</td>\n",
       "      <td>1.0</td>\n",
       "      <td>0.0</td>\n",
       "      <td>1.0</td>\n",
       "      <td>0.707107</td>\n",
       "      <td>1.0</td>\n",
       "    </tr>\n",
       "  </tbody>\n",
       "</table>\n",
       "<p>5 rows × 22529 columns</p>\n",
       "</div>"
      ],
      "text/plain": [
       "   0      1      2      3      4      5      6      7      8      9      ...  \\\n",
       "0    1.0    1.0    1.0    1.0    1.0    1.0    1.0    1.0    1.0    1.0  ...   \n",
       "1    1.0    1.0    1.0    1.0    1.0    1.0    1.0    1.0    1.0    1.0  ...   \n",
       "2    1.0    1.0    1.0    1.0    1.0    1.0    1.0    1.0    1.0    1.0  ...   \n",
       "3    1.0    1.0    1.0    1.0    1.0    1.0    1.0    1.0    1.0    1.0  ...   \n",
       "4    1.0    1.0    1.0    1.0    1.0    1.0    1.0    1.0    1.0    1.0  ...   \n",
       "\n",
       "   22519     22520  22521  22522  22523  22524  22525  22526     22527  22528  \n",
       "0    0.0  0.707107    0.0    0.0    1.0    1.0    0.0    1.0  0.707107    1.0  \n",
       "1    0.0  0.707107    0.0    0.0    1.0    1.0    0.0    1.0  0.707107    1.0  \n",
       "2    0.0  0.707107    0.0    0.0    1.0    1.0    0.0    1.0  0.707107    1.0  \n",
       "3    0.0  0.707107    0.0    0.0    1.0    1.0    0.0    1.0  0.707107    1.0  \n",
       "4    0.0  0.707107    0.0    0.0    1.0    1.0    0.0    1.0  0.707107    1.0  \n",
       "\n",
       "[5 rows x 22529 columns]"
      ]
     },
     "execution_count": 4,
     "metadata": {},
     "output_type": "execute_result"
    }
   ],
   "source": [
    "dfSimilitudes = pd.DataFrame(cosine_similarity(dfGenres.iloc[:,1:]))\n",
    "dfSimilitudes.head(5)"
   ]
  },
  {
   "cell_type": "markdown",
   "metadata": {},
   "source": [
    "#### Creamos la función recomedacionJuego ####\n",
    "\n",
    "*Esta función recibirá como parametro:*\n",
    "\n",
    "1. *dev = Cadena string con el nombre del desarrollador.*\n"
   ]
  },
  {
   "cell_type": "code",
   "execution_count": 5,
   "metadata": {},
   "outputs": [
    {
     "name": "stdout",
     "output_type": "stream",
     "text": [
      "<class 'pandas.core.frame.DataFrame'>\n",
      "RangeIndex: 22529 entries, 0 to 22528\n",
      "Data columns (total 2 columns):\n",
      " #   Column  Non-Null Count  Dtype \n",
      "---  ------  --------------  ----- \n",
      " 0   IdApp   22529 non-null  int64 \n",
      " 1   Name    22529 non-null  object\n",
      "dtypes: int64(1), object(1)\n",
      "memory usage: 352.1+ KB\n"
     ]
    }
   ],
   "source": [
    "dfApps.info()"
   ]
  },
  {
   "cell_type": "code",
   "execution_count": 6,
   "metadata": {},
   "outputs": [],
   "source": [
    "def recomendacionJuego(idApp):\n",
    "    # Primero convertimos el input en un valor numérico para facilitar la busqueda.\n",
    "    idApp = int(idApp)\n",
    "    \n",
    "    # Si el valor no se encuentra retornar que no se encontró.\n",
    "    if idApp not in dfApps[\"IdApp\"]:\n",
    "        return \"No se encuentra el id ingresado dentro de la base de datos.\"\n",
    "    \n",
    "    # Ahora vamos a buscar el indice que corresponde al IdApp\n",
    "    indSearch = dfApps.index[dfApps[\"IdApp\"] == idApp][0]\n",
    "    \n",
    "    # Ahora vamos a identificar la fila en el dataframe de similitudes usando el indice\n",
    "    filaApp = dfSimilitudes.iloc[indSearch]\n",
    "    \n",
    "    # Ahora eliminamos el valor de la fila que corresponde al indice que estabamos buscando, ya que no necesitamos obtener la similitud de la misma app.\n",
    "    filaApp.drop(index=indSearch, inplace=True)\n",
    "    \n",
    "    # Ordenamos los valores de esta fila en orden descendente para tomar los índices de los 5 elementos más similares.\n",
    "    result = filaApp.sort_values(ascending=False).index[1:6]\n",
    "    \n",
    "    appsMasSim = dfGames.loc[result, 'Name']\n",
    "    \n",
    "    return appsMasSim"
   ]
  },
  {
   "cell_type": "code",
   "execution_count": 7,
   "metadata": {},
   "outputs": [
    {
     "data": {
      "text/plain": [
       "5053                                          MechRunner\n",
       "4989          Call of Duty®: Ghosts - Classic Ghost Pack\n",
       "4990    Call of Duty®: Ghosts - Drill Instructor VO Pack\n",
       "4991          Call of Duty®: Ghosts - Snoop Dogg VO Pack\n",
       "4993                                    Metro 2033 Redux\n",
       "Name: Name, dtype: object"
      ]
     },
     "execution_count": 7,
     "metadata": {},
     "output_type": "execute_result"
    }
   ],
   "source": [
    "recomendacionJuego(20)"
   ]
  },
  {
   "cell_type": "markdown",
   "metadata": {},
   "source": [
    "*Revisamos que funcione correctamente:*"
   ]
  },
  {
   "cell_type": "markdown",
   "metadata": {},
   "source": [
    "#### Guardamos el dataframe para las consultas de la API ####\n",
    "\n",
    "*Para efectos de este ejercicio no guardaremos el dataframe por almacenamiento.*"
   ]
  },
  {
   "cell_type": "code",
   "execution_count": 33,
   "metadata": {},
   "outputs": [],
   "source": [
    "#simTab = pa.Table.from_pandas(dfSimilitudes)\n",
    "#dir = \"datafunc/similitudes.parquet\"\n",
    "#pq.write_table(simTab,dir)"
   ]
  }
 ],
 "metadata": {
  "kernelspec": {
   "display_name": "env",
   "language": "python",
   "name": "python3"
  },
  "language_info": {
   "codemirror_mode": {
    "name": "ipython",
    "version": 3
   },
   "file_extension": ".py",
   "mimetype": "text/x-python",
   "name": "python",
   "nbconvert_exporter": "python",
   "pygments_lexer": "ipython3",
   "version": "3.11.8"
  }
 },
 "nbformat": 4,
 "nbformat_minor": 2
}
